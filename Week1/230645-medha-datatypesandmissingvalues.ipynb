{
 "cells": [
  {
   "cell_type": "markdown",
   "id": "2024473a",
   "metadata": {
    "papermill": {
     "duration": 0.006598,
     "end_time": "2023-12-17T13:08:53.417845",
     "exception": false,
     "start_time": "2023-12-17T13:08:53.411247",
     "status": "completed"
    },
    "tags": []
   },
   "source": [
    "**This notebook is an exercise in the [Pandas](https://www.kaggle.com/learn/pandas) course.  You can reference the tutorial at [this link](https://www.kaggle.com/residentmario/data-types-and-missing-values).**\n",
    "\n",
    "---\n"
   ]
  },
  {
   "cell_type": "markdown",
   "id": "13bf2a2e",
   "metadata": {
    "papermill": {
     "duration": 0.005869,
     "end_time": "2023-12-17T13:08:53.430194",
     "exception": false,
     "start_time": "2023-12-17T13:08:53.424325",
     "status": "completed"
    },
    "tags": []
   },
   "source": [
    "# Introduction\n",
    "\n",
    "Run the following cell to load your data and some utility functions."
   ]
  },
  {
   "cell_type": "code",
   "execution_count": 1,
   "id": "a99fdc69",
   "metadata": {
    "execution": {
     "iopub.execute_input": "2023-12-17T13:08:53.445265Z",
     "iopub.status.busy": "2023-12-17T13:08:53.444485Z",
     "iopub.status.idle": "2023-12-17T13:08:57.339644Z",
     "shell.execute_reply": "2023-12-17T13:08:57.338430Z"
    },
    "papermill": {
     "duration": 3.906887,
     "end_time": "2023-12-17T13:08:57.343201",
     "exception": false,
     "start_time": "2023-12-17T13:08:53.436314",
     "status": "completed"
    },
    "tags": []
   },
   "outputs": [
    {
     "name": "stdout",
     "output_type": "stream",
     "text": [
      "Setup complete.\n"
     ]
    }
   ],
   "source": [
    "import pandas as pd\n",
    "\n",
    "reviews = pd.read_csv(\"../input/wine-reviews/winemag-data-130k-v2.csv\", index_col=0)\n",
    "\n",
    "from learntools.core import binder; binder.bind(globals())\n",
    "from learntools.pandas.data_types_and_missing_data import *\n",
    "print(\"Setup complete.\")"
   ]
  },
  {
   "cell_type": "markdown",
   "id": "c136ad65",
   "metadata": {
    "papermill": {
     "duration": 0.006525,
     "end_time": "2023-12-17T13:08:57.356962",
     "exception": false,
     "start_time": "2023-12-17T13:08:57.350437",
     "status": "completed"
    },
    "tags": []
   },
   "source": [
    "# Exercises"
   ]
  },
  {
   "cell_type": "markdown",
   "id": "f73c00ce",
   "metadata": {
    "papermill": {
     "duration": 0.006038,
     "end_time": "2023-12-17T13:08:57.369329",
     "exception": false,
     "start_time": "2023-12-17T13:08:57.363291",
     "status": "completed"
    },
    "tags": []
   },
   "source": [
    "## 1. \n",
    "What is the data type of the `points` column in the dataset?"
   ]
  },
  {
   "cell_type": "code",
   "execution_count": 2,
   "id": "3867a10e",
   "metadata": {
    "execution": {
     "iopub.execute_input": "2023-12-17T13:08:57.383902Z",
     "iopub.status.busy": "2023-12-17T13:08:57.383438Z",
     "iopub.status.idle": "2023-12-17T13:08:57.396590Z",
     "shell.execute_reply": "2023-12-17T13:08:57.395087Z"
    },
    "papermill": {
     "duration": 0.023957,
     "end_time": "2023-12-17T13:08:57.399603",
     "exception": false,
     "start_time": "2023-12-17T13:08:57.375646",
     "status": "completed"
    },
    "tags": []
   },
   "outputs": [
    {
     "data": {
      "application/javascript": [
       "parent.postMessage({\"jupyterEvent\": \"custom.exercise_interaction\", \"data\": {\"outcomeType\": 1, \"valueTowardsCompletion\": 0.25, \"interactionType\": 1, \"questionType\": 1, \"questionId\": \"1_PointsDtype\", \"learnToolsVersion\": \"0.3.4\", \"failureMessage\": \"\", \"exceptionClass\": \"\", \"trace\": \"\"}}, \"*\")"
      ],
      "text/plain": [
       "<IPython.core.display.Javascript object>"
      ]
     },
     "metadata": {},
     "output_type": "display_data"
    },
    {
     "data": {
      "text/markdown": [
       "<span style=\"color:#33cc33\">Correct</span>"
      ],
      "text/plain": [
       "Correct"
      ]
     },
     "metadata": {},
     "output_type": "display_data"
    }
   ],
   "source": [
    "# Your code here\n",
    "dtype =reviews.points.dtype\n",
    "\n",
    "# Check your answer\n",
    "q1.check()"
   ]
  },
  {
   "cell_type": "code",
   "execution_count": 3,
   "id": "0b0cf718",
   "metadata": {
    "execution": {
     "iopub.execute_input": "2023-12-17T13:08:57.414851Z",
     "iopub.status.busy": "2023-12-17T13:08:57.414273Z",
     "iopub.status.idle": "2023-12-17T13:08:57.420431Z",
     "shell.execute_reply": "2023-12-17T13:08:57.418944Z"
    },
    "papermill": {
     "duration": 0.017494,
     "end_time": "2023-12-17T13:08:57.423735",
     "exception": false,
     "start_time": "2023-12-17T13:08:57.406241",
     "status": "completed"
    },
    "tags": []
   },
   "outputs": [],
   "source": [
    "#q1.hint()\n",
    "#q1.solution()"
   ]
  },
  {
   "cell_type": "markdown",
   "id": "e836c3d1",
   "metadata": {
    "papermill": {
     "duration": 0.007368,
     "end_time": "2023-12-17T13:08:57.438076",
     "exception": false,
     "start_time": "2023-12-17T13:08:57.430708",
     "status": "completed"
    },
    "tags": []
   },
   "source": [
    "## 2. \n",
    "Create a Series from entries in the `points` column, but convert the entries to strings. Hint: strings are `str` in native Python."
   ]
  },
  {
   "cell_type": "code",
   "execution_count": 4,
   "id": "e90f80d5",
   "metadata": {
    "execution": {
     "iopub.execute_input": "2023-12-17T13:08:57.454585Z",
     "iopub.status.busy": "2023-12-17T13:08:57.454133Z",
     "iopub.status.idle": "2023-12-17T13:08:57.563898Z",
     "shell.execute_reply": "2023-12-17T13:08:57.562124Z"
    },
    "papermill": {
     "duration": 0.12107,
     "end_time": "2023-12-17T13:08:57.566806",
     "exception": false,
     "start_time": "2023-12-17T13:08:57.445736",
     "status": "completed"
    },
    "tags": []
   },
   "outputs": [
    {
     "data": {
      "application/javascript": [
       "parent.postMessage({\"jupyterEvent\": \"custom.exercise_interaction\", \"data\": {\"outcomeType\": 1, \"valueTowardsCompletion\": 0.25, \"interactionType\": 1, \"questionType\": 1, \"questionId\": \"2_StrPoints\", \"learnToolsVersion\": \"0.3.4\", \"failureMessage\": \"\", \"exceptionClass\": \"\", \"trace\": \"\"}}, \"*\")"
      ],
      "text/plain": [
       "<IPython.core.display.Javascript object>"
      ]
     },
     "metadata": {},
     "output_type": "display_data"
    },
    {
     "data": {
      "text/markdown": [
       "<span style=\"color:#33cc33\">Correct</span>"
      ],
      "text/plain": [
       "Correct"
      ]
     },
     "metadata": {},
     "output_type": "display_data"
    }
   ],
   "source": [
    "point_strings = reviews.points.astype(str)\n",
    "\n",
    "# Check your answer\n",
    "q2.check()"
   ]
  },
  {
   "cell_type": "code",
   "execution_count": 5,
   "id": "0691337d",
   "metadata": {
    "execution": {
     "iopub.execute_input": "2023-12-17T13:08:57.583926Z",
     "iopub.status.busy": "2023-12-17T13:08:57.583510Z",
     "iopub.status.idle": "2023-12-17T13:08:57.588861Z",
     "shell.execute_reply": "2023-12-17T13:08:57.587562Z"
    },
    "papermill": {
     "duration": 0.017657,
     "end_time": "2023-12-17T13:08:57.591705",
     "exception": false,
     "start_time": "2023-12-17T13:08:57.574048",
     "status": "completed"
    },
    "tags": []
   },
   "outputs": [],
   "source": [
    "#q2.hint()\n",
    "#q2.solution()"
   ]
  },
  {
   "cell_type": "markdown",
   "id": "3622e77f",
   "metadata": {
    "papermill": {
     "duration": 0.006869,
     "end_time": "2023-12-17T13:08:57.605670",
     "exception": false,
     "start_time": "2023-12-17T13:08:57.598801",
     "status": "completed"
    },
    "tags": []
   },
   "source": [
    "## 3.\n",
    "Sometimes the price column is null. How many reviews in the dataset are missing a price?"
   ]
  },
  {
   "cell_type": "code",
   "execution_count": 6,
   "id": "aa6b6857",
   "metadata": {
    "execution": {
     "iopub.execute_input": "2023-12-17T13:08:57.622148Z",
     "iopub.status.busy": "2023-12-17T13:08:57.621613Z",
     "iopub.status.idle": "2023-12-17T13:08:57.639782Z",
     "shell.execute_reply": "2023-12-17T13:08:57.638569Z"
    },
    "papermill": {
     "duration": 0.029576,
     "end_time": "2023-12-17T13:08:57.642652",
     "exception": false,
     "start_time": "2023-12-17T13:08:57.613076",
     "status": "completed"
    },
    "tags": []
   },
   "outputs": [
    {
     "data": {
      "application/javascript": [
       "parent.postMessage({\"jupyterEvent\": \"custom.exercise_interaction\", \"data\": {\"outcomeType\": 1, \"valueTowardsCompletion\": 0.25, \"interactionType\": 1, \"questionType\": 1, \"questionId\": \"3_CountMissingPrices\", \"learnToolsVersion\": \"0.3.4\", \"failureMessage\": \"\", \"exceptionClass\": \"\", \"trace\": \"\"}}, \"*\")"
      ],
      "text/plain": [
       "<IPython.core.display.Javascript object>"
      ]
     },
     "metadata": {},
     "output_type": "display_data"
    },
    {
     "data": {
      "text/markdown": [
       "<span style=\"color:#33cc33\">Correct</span>"
      ],
      "text/plain": [
       "Correct"
      ]
     },
     "metadata": {},
     "output_type": "display_data"
    }
   ],
   "source": [
    "n_missing_prices = len(reviews[reviews.price.isnull()])\n",
    "\n",
    "# Check your answer\n",
    "q3.check()"
   ]
  },
  {
   "cell_type": "code",
   "execution_count": 7,
   "id": "16a93f6f",
   "metadata": {
    "execution": {
     "iopub.execute_input": "2023-12-17T13:08:57.660315Z",
     "iopub.status.busy": "2023-12-17T13:08:57.659858Z",
     "iopub.status.idle": "2023-12-17T13:08:57.665268Z",
     "shell.execute_reply": "2023-12-17T13:08:57.664017Z"
    },
    "papermill": {
     "duration": 0.017847,
     "end_time": "2023-12-17T13:08:57.668277",
     "exception": false,
     "start_time": "2023-12-17T13:08:57.650430",
     "status": "completed"
    },
    "tags": []
   },
   "outputs": [],
   "source": [
    "#q3.hint()\n",
    "#q3.solution()"
   ]
  },
  {
   "cell_type": "markdown",
   "id": "211c157c",
   "metadata": {
    "papermill": {
     "duration": 0.007144,
     "end_time": "2023-12-17T13:08:57.683327",
     "exception": false,
     "start_time": "2023-12-17T13:08:57.676183",
     "status": "completed"
    },
    "tags": []
   },
   "source": [
    "## 4.\n",
    "What are the most common wine-producing regions? Create a Series counting the number of times each value occurs in the `region_1` field. This field is often missing data, so replace missing values with `Unknown`. Sort in descending order.  Your output should look something like this:\n",
    "\n",
    "```\n",
    "Unknown                    21247\n",
    "Napa Valley                 4480\n",
    "                           ...  \n",
    "Bardolino Superiore            1\n",
    "Primitivo del Tarantino        1\n",
    "Name: region_1, Length: 1230, dtype: int64\n",
    "```"
   ]
  },
  {
   "cell_type": "code",
   "execution_count": 8,
   "id": "5498ad12",
   "metadata": {
    "execution": {
     "iopub.execute_input": "2023-12-17T13:08:57.700467Z",
     "iopub.status.busy": "2023-12-17T13:08:57.700016Z",
     "iopub.status.idle": "2023-12-17T13:08:57.783627Z",
     "shell.execute_reply": "2023-12-17T13:08:57.782692Z"
    },
    "papermill": {
     "duration": 0.095275,
     "end_time": "2023-12-17T13:08:57.786113",
     "exception": false,
     "start_time": "2023-12-17T13:08:57.690838",
     "status": "completed"
    },
    "tags": []
   },
   "outputs": [
    {
     "data": {
      "application/javascript": [
       "parent.postMessage({\"jupyterEvent\": \"custom.exercise_interaction\", \"data\": {\"outcomeType\": 1, \"valueTowardsCompletion\": 0.25, \"interactionType\": 1, \"questionType\": 2, \"questionId\": \"4_ReviewsPerRegion\", \"learnToolsVersion\": \"0.3.4\", \"failureMessage\": \"\", \"exceptionClass\": \"\", \"trace\": \"\"}}, \"*\")"
      ],
      "text/plain": [
       "<IPython.core.display.Javascript object>"
      ]
     },
     "metadata": {},
     "output_type": "display_data"
    },
    {
     "data": {
      "text/markdown": [
       "<span style=\"color:#33cc33\">Correct</span>"
      ],
      "text/plain": [
       "Correct"
      ]
     },
     "metadata": {},
     "output_type": "display_data"
    }
   ],
   "source": [
    "\n",
    "reviews_per_region = reviews.region_1.fillna('Unknown').value_counts().sort_values(ascending=False)\n",
    "# Check your answer\n",
    "q4.check()"
   ]
  },
  {
   "cell_type": "code",
   "execution_count": 9,
   "id": "e97db21d",
   "metadata": {
    "execution": {
     "iopub.execute_input": "2023-12-17T13:08:57.804481Z",
     "iopub.status.busy": "2023-12-17T13:08:57.803179Z",
     "iopub.status.idle": "2023-12-17T13:08:57.808731Z",
     "shell.execute_reply": "2023-12-17T13:08:57.807782Z"
    },
    "papermill": {
     "duration": 0.017297,
     "end_time": "2023-12-17T13:08:57.811330",
     "exception": false,
     "start_time": "2023-12-17T13:08:57.794033",
     "status": "completed"
    },
    "tags": []
   },
   "outputs": [],
   "source": [
    "#q4.hint()\n",
    "#q4.solution()"
   ]
  },
  {
   "cell_type": "markdown",
   "id": "2ac8b254",
   "metadata": {
    "papermill": {
     "duration": 0.007499,
     "end_time": "2023-12-17T13:08:57.826799",
     "exception": false,
     "start_time": "2023-12-17T13:08:57.819300",
     "status": "completed"
    },
    "tags": []
   },
   "source": [
    "# Keep going\n",
    "\n",
    "Move on to **[renaming and combining](https://www.kaggle.com/residentmario/renaming-and-combining)**."
   ]
  },
  {
   "cell_type": "markdown",
   "id": "bd99fb13",
   "metadata": {
    "papermill": {
     "duration": 0.007526,
     "end_time": "2023-12-17T13:08:57.842168",
     "exception": false,
     "start_time": "2023-12-17T13:08:57.834642",
     "status": "completed"
    },
    "tags": []
   },
   "source": [
    "---\n",
    "\n",
    "\n",
    "\n",
    "\n",
    "*Have questions or comments? Visit the [course discussion forum](https://www.kaggle.com/learn/pandas/discussion) to chat with other learners.*"
   ]
  }
 ],
 "metadata": {
  "kaggle": {
   "accelerator": "none",
   "dataSources": [
    {
     "datasetId": 655,
     "sourceId": 1252,
     "sourceType": "datasetVersion"
    },
    {
     "datasetId": 2321,
     "sourceId": 3919,
     "sourceType": "datasetVersion"
    },
    {
     "datasetId": 2894,
     "sourceId": 4877,
     "sourceType": "datasetVersion"
    },
    {
     "datasetId": 3491,
     "sourceId": 5624,
     "sourceType": "datasetVersion"
    },
    {
     "datasetId": 1442,
     "sourceId": 8172,
     "sourceType": "datasetVersion"
    },
    {
     "datasetId": 9366,
     "sourceId": 13206,
     "sourceType": "datasetVersion"
    },
    {
     "datasetId": 179555,
     "sourceId": 403916,
     "sourceType": "datasetVersion"
    },
    {
     "datasetId": 4549,
     "sourceId": 466349,
     "sourceType": "datasetVersion"
    },
    {
     "datasetId": 2478,
     "sourceId": 1151655,
     "sourceType": "datasetVersion"
    },
    {
     "datasetId": 10128,
     "sourceId": 5438389,
     "sourceType": "datasetVersion"
    }
   ],
   "isGpuEnabled": false,
   "isInternetEnabled": false,
   "language": "python",
   "sourceType": "notebook"
  },
  "kernelspec": {
   "display_name": "Python 3",
   "language": "python",
   "name": "python3"
  },
  "language_info": {
   "codemirror_mode": {
    "name": "ipython",
    "version": 3
   },
   "file_extension": ".py",
   "mimetype": "text/x-python",
   "name": "python",
   "nbconvert_exporter": "python",
   "pygments_lexer": "ipython3",
   "version": "3.10.12"
  },
  "papermill": {
   "default_parameters": {},
   "duration": 9.002904,
   "end_time": "2023-12-17T13:08:58.573277",
   "environment_variables": {},
   "exception": null,
   "input_path": "__notebook__.ipynb",
   "output_path": "__notebook__.ipynb",
   "parameters": {},
   "start_time": "2023-12-17T13:08:49.570373",
   "version": "2.4.0"
  }
 },
 "nbformat": 4,
 "nbformat_minor": 5
}
