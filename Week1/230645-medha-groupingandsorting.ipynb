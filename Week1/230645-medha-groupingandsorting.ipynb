{
 "cells": [
  {
   "cell_type": "markdown",
   "id": "b4ca06aa",
   "metadata": {
    "papermill": {
     "duration": 0.005449,
     "end_time": "2023-12-17T13:08:35.272587",
     "exception": false,
     "start_time": "2023-12-17T13:08:35.267138",
     "status": "completed"
    },
    "tags": []
   },
   "source": [
    "**This notebook is an exercise in the [Pandas](https://www.kaggle.com/learn/pandas) course.  You can reference the tutorial at [this link](https://www.kaggle.com/residentmario/grouping-and-sorting).**\n",
    "\n",
    "---\n"
   ]
  },
  {
   "cell_type": "markdown",
   "id": "a3299292",
   "metadata": {
    "papermill": {
     "duration": 0.004473,
     "end_time": "2023-12-17T13:08:35.281951",
     "exception": false,
     "start_time": "2023-12-17T13:08:35.277478",
     "status": "completed"
    },
    "tags": []
   },
   "source": [
    "# Introduction\n",
    "\n",
    "In these exercises we'll apply groupwise analysis to our dataset.\n",
    "\n",
    "Run the code cell below to load the data before running the exercises."
   ]
  },
  {
   "cell_type": "code",
   "execution_count": 1,
   "id": "b3371df5",
   "metadata": {
    "execution": {
     "iopub.execute_input": "2023-12-17T13:08:35.293623Z",
     "iopub.status.busy": "2023-12-17T13:08:35.292978Z",
     "iopub.status.idle": "2023-12-17T13:08:38.232918Z",
     "shell.execute_reply": "2023-12-17T13:08:38.231937Z"
    },
    "papermill": {
     "duration": 2.948327,
     "end_time": "2023-12-17T13:08:38.235036",
     "exception": false,
     "start_time": "2023-12-17T13:08:35.286709",
     "status": "completed"
    },
    "tags": []
   },
   "outputs": [
    {
     "name": "stdout",
     "output_type": "stream",
     "text": [
      "Setup complete.\n"
     ]
    }
   ],
   "source": [
    "import pandas as pd\n",
    "\n",
    "reviews = pd.read_csv(\"../input/wine-reviews/winemag-data-130k-v2.csv\", index_col=0)\n",
    "#pd.set_option(\"display.max_rows\", 5)\n",
    "\n",
    "from learntools.core import binder; binder.bind(globals())\n",
    "from learntools.pandas.grouping_and_sorting import *\n",
    "print(\"Setup complete.\")"
   ]
  },
  {
   "cell_type": "markdown",
   "id": "b652493d",
   "metadata": {
    "papermill": {
     "duration": 0.004901,
     "end_time": "2023-12-17T13:08:38.245302",
     "exception": false,
     "start_time": "2023-12-17T13:08:38.240401",
     "status": "completed"
    },
    "tags": []
   },
   "source": [
    "# Exercises"
   ]
  },
  {
   "cell_type": "markdown",
   "id": "1e6b909f",
   "metadata": {
    "papermill": {
     "duration": 0.004974,
     "end_time": "2023-12-17T13:08:38.255377",
     "exception": false,
     "start_time": "2023-12-17T13:08:38.250403",
     "status": "completed"
    },
    "tags": []
   },
   "source": [
    "## 1.\n",
    "Who are the most common wine reviewers in the dataset? Create a `Series` whose index is the `taster_twitter_handle` category from the dataset, and whose values count how many reviews each person wrote."
   ]
  },
  {
   "cell_type": "code",
   "execution_count": 2,
   "id": "40ce2303",
   "metadata": {
    "execution": {
     "iopub.execute_input": "2023-12-17T13:08:38.268047Z",
     "iopub.status.busy": "2023-12-17T13:08:38.267381Z",
     "iopub.status.idle": "2023-12-17T13:08:38.291102Z",
     "shell.execute_reply": "2023-12-17T13:08:38.289878Z"
    },
    "papermill": {
     "duration": 0.033291,
     "end_time": "2023-12-17T13:08:38.293888",
     "exception": false,
     "start_time": "2023-12-17T13:08:38.260597",
     "status": "completed"
    },
    "tags": []
   },
   "outputs": [
    {
     "data": {
      "application/javascript": [
       "parent.postMessage({\"jupyterEvent\": \"custom.exercise_interaction\", \"data\": {\"outcomeType\": 1, \"valueTowardsCompletion\": 0.16666666666666666, \"interactionType\": 1, \"questionType\": 1, \"questionId\": \"1_ReviewsWritten\", \"learnToolsVersion\": \"0.3.4\", \"failureMessage\": \"\", \"exceptionClass\": \"\", \"trace\": \"\"}}, \"*\")"
      ],
      "text/plain": [
       "<IPython.core.display.Javascript object>"
      ]
     },
     "metadata": {},
     "output_type": "display_data"
    },
    {
     "data": {
      "text/markdown": [
       "<span style=\"color:#33cc33\">Correct:</span> \n",
       "\n",
       "\n",
       "```python\n",
       "reviews_written = reviews.groupby('taster_twitter_handle').size()\n",
       "```\n",
       "or\n",
       "```python\n",
       "reviews_written = reviews.groupby('taster_twitter_handle').taster_twitter_handle.count()\n",
       "```\n"
      ],
      "text/plain": [
       "Correct: \n",
       "\n",
       "\n",
       "```python\n",
       "reviews_written = reviews.groupby('taster_twitter_handle').size()\n",
       "```\n",
       "or\n",
       "```python\n",
       "reviews_written = reviews.groupby('taster_twitter_handle').taster_twitter_handle.count()\n",
       "```"
      ]
     },
     "metadata": {},
     "output_type": "display_data"
    }
   ],
   "source": [
    "# Your code here\n",
    "reviews_written = reviews.groupby('taster_twitter_handle').taster_twitter_handle.count()\n",
    "\n",
    "# Check your answer\n",
    "q1.check()"
   ]
  },
  {
   "cell_type": "code",
   "execution_count": 3,
   "id": "700c3efb",
   "metadata": {
    "execution": {
     "iopub.execute_input": "2023-12-17T13:08:38.307047Z",
     "iopub.status.busy": "2023-12-17T13:08:38.306684Z",
     "iopub.status.idle": "2023-12-17T13:08:38.311730Z",
     "shell.execute_reply": "2023-12-17T13:08:38.310387Z"
    },
    "papermill": {
     "duration": 0.014863,
     "end_time": "2023-12-17T13:08:38.314598",
     "exception": false,
     "start_time": "2023-12-17T13:08:38.299735",
     "status": "completed"
    },
    "tags": []
   },
   "outputs": [],
   "source": [
    "#q1.hint()\n",
    "#q1.solution()"
   ]
  },
  {
   "cell_type": "markdown",
   "id": "27a5c347",
   "metadata": {
    "papermill": {
     "duration": 0.0053,
     "end_time": "2023-12-17T13:08:38.325675",
     "exception": false,
     "start_time": "2023-12-17T13:08:38.320375",
     "status": "completed"
    },
    "tags": []
   },
   "source": [
    "## 2.\n",
    "What is the best wine I can buy for a given amount of money? Create a `Series` whose index is wine prices and whose values is the maximum number of points a wine costing that much was given in a review. Sort the values by price, ascending (so that `4.0` dollars is at the top and `3300.0` dollars is at the bottom)."
   ]
  },
  {
   "cell_type": "code",
   "execution_count": 4,
   "id": "261f8c7a",
   "metadata": {
    "execution": {
     "iopub.execute_input": "2023-12-17T13:08:38.338140Z",
     "iopub.status.busy": "2023-12-17T13:08:38.337650Z",
     "iopub.status.idle": "2023-12-17T13:08:38.350710Z",
     "shell.execute_reply": "2023-12-17T13:08:38.349771Z"
    },
    "papermill": {
     "duration": 0.021812,
     "end_time": "2023-12-17T13:08:38.352768",
     "exception": false,
     "start_time": "2023-12-17T13:08:38.330956",
     "status": "completed"
    },
    "tags": []
   },
   "outputs": [
    {
     "data": {
      "application/javascript": [
       "parent.postMessage({\"jupyterEvent\": \"custom.exercise_interaction\", \"data\": {\"outcomeType\": 1, \"valueTowardsCompletion\": 0.16666666666666666, \"interactionType\": 1, \"questionType\": 1, \"questionId\": \"2_BestRatingPerPrice\", \"learnToolsVersion\": \"0.3.4\", \"failureMessage\": \"\", \"exceptionClass\": \"\", \"trace\": \"\"}}, \"*\")"
      ],
      "text/plain": [
       "<IPython.core.display.Javascript object>"
      ]
     },
     "metadata": {},
     "output_type": "display_data"
    },
    {
     "data": {
      "text/markdown": [
       "<span style=\"color:#33cc33\">Correct</span>"
      ],
      "text/plain": [
       "Correct"
      ]
     },
     "metadata": {},
     "output_type": "display_data"
    }
   ],
   "source": [
    "best_rating_per_price = reviews.groupby('price').points.max().sort_index()\n",
    "\n",
    "# Check your answer\n",
    "q2.check()"
   ]
  },
  {
   "cell_type": "code",
   "execution_count": 5,
   "id": "72dc97ac",
   "metadata": {
    "execution": {
     "iopub.execute_input": "2023-12-17T13:08:38.365799Z",
     "iopub.status.busy": "2023-12-17T13:08:38.365418Z",
     "iopub.status.idle": "2023-12-17T13:08:38.374610Z",
     "shell.execute_reply": "2023-12-17T13:08:38.373402Z"
    },
    "papermill": {
     "duration": 0.018062,
     "end_time": "2023-12-17T13:08:38.376618",
     "exception": false,
     "start_time": "2023-12-17T13:08:38.358556",
     "status": "completed"
    },
    "tags": []
   },
   "outputs": [
    {
     "data": {
      "application/javascript": [
       "parent.postMessage({\"jupyterEvent\": \"custom.exercise_interaction\", \"data\": {\"interactionType\": 3, \"questionType\": 1, \"questionId\": \"2_BestRatingPerPrice\", \"learnToolsVersion\": \"0.3.4\", \"valueTowardsCompletion\": 0.0, \"failureMessage\": \"\", \"exceptionClass\": \"\", \"trace\": \"\", \"outcomeType\": 4}}, \"*\")"
      ],
      "text/plain": [
       "<IPython.core.display.Javascript object>"
      ]
     },
     "metadata": {},
     "output_type": "display_data"
    },
    {
     "data": {
      "text/markdown": [
       "<span style=\"color:#33cc99\">Solution:</span> \n",
       "```python\n",
       "best_rating_per_price = reviews.groupby('price')['points'].max().sort_index()\n",
       "```"
      ],
      "text/plain": [
       "Solution: \n",
       "```python\n",
       "best_rating_per_price = reviews.groupby('price')['points'].max().sort_index()\n",
       "```"
      ]
     },
     "metadata": {},
     "output_type": "display_data"
    }
   ],
   "source": [
    "#q2.hint()\n",
    "q2.solution()"
   ]
  },
  {
   "cell_type": "markdown",
   "id": "9a7979b1",
   "metadata": {
    "papermill": {
     "duration": 0.005417,
     "end_time": "2023-12-17T13:08:38.387999",
     "exception": false,
     "start_time": "2023-12-17T13:08:38.382582",
     "status": "completed"
    },
    "tags": []
   },
   "source": [
    "## 3.\n",
    "What are the minimum and maximum prices for each `variety` of wine? Create a `DataFrame` whose index is the `variety` category from the dataset and whose values are the `min` and `max` values thereof."
   ]
  },
  {
   "cell_type": "code",
   "execution_count": 6,
   "id": "5b2448ce",
   "metadata": {
    "execution": {
     "iopub.execute_input": "2023-12-17T13:08:38.401893Z",
     "iopub.status.busy": "2023-12-17T13:08:38.401238Z",
     "iopub.status.idle": "2023-12-17T13:08:38.422102Z",
     "shell.execute_reply": "2023-12-17T13:08:38.420823Z"
    },
    "papermill": {
     "duration": 0.030414,
     "end_time": "2023-12-17T13:08:38.424162",
     "exception": false,
     "start_time": "2023-12-17T13:08:38.393748",
     "status": "completed"
    },
    "tags": []
   },
   "outputs": [
    {
     "data": {
      "application/javascript": [
       "parent.postMessage({\"jupyterEvent\": \"custom.exercise_interaction\", \"data\": {\"outcomeType\": 1, \"valueTowardsCompletion\": 0.16666666666666666, \"interactionType\": 1, \"questionType\": 1, \"questionId\": \"3_PriceExtremes\", \"learnToolsVersion\": \"0.3.4\", \"failureMessage\": \"\", \"exceptionClass\": \"\", \"trace\": \"\"}}, \"*\")"
      ],
      "text/plain": [
       "<IPython.core.display.Javascript object>"
      ]
     },
     "metadata": {},
     "output_type": "display_data"
    },
    {
     "data": {
      "text/markdown": [
       "<span style=\"color:#33cc33\">Correct</span>"
      ],
      "text/plain": [
       "Correct"
      ]
     },
     "metadata": {},
     "output_type": "display_data"
    }
   ],
   "source": [
    "price_extremes = reviews.groupby('variety').price.agg([min,max])\n",
    "\n",
    "# Check your answer\n",
    "q3.check()"
   ]
  },
  {
   "cell_type": "code",
   "execution_count": 7,
   "id": "d643ce5a",
   "metadata": {
    "execution": {
     "iopub.execute_input": "2023-12-17T13:08:38.439600Z",
     "iopub.status.busy": "2023-12-17T13:08:38.438628Z",
     "iopub.status.idle": "2023-12-17T13:08:38.443869Z",
     "shell.execute_reply": "2023-12-17T13:08:38.442557Z"
    },
    "papermill": {
     "duration": 0.015835,
     "end_time": "2023-12-17T13:08:38.446650",
     "exception": false,
     "start_time": "2023-12-17T13:08:38.430815",
     "status": "completed"
    },
    "tags": []
   },
   "outputs": [],
   "source": [
    "#q3.hint()\n",
    "#q3.solution()"
   ]
  },
  {
   "cell_type": "markdown",
   "id": "b0ea265b",
   "metadata": {
    "papermill": {
     "duration": 0.005999,
     "end_time": "2023-12-17T13:08:38.459554",
     "exception": false,
     "start_time": "2023-12-17T13:08:38.453555",
     "status": "completed"
    },
    "tags": []
   },
   "source": [
    "## 4.\n",
    "What are the most expensive wine varieties? Create a variable `sorted_varieties` containing a copy of the dataframe from the previous question where varieties are sorted in descending order based on minimum price, then on maximum price (to break ties)."
   ]
  },
  {
   "cell_type": "code",
   "execution_count": 8,
   "id": "6597734f",
   "metadata": {
    "execution": {
     "iopub.execute_input": "2023-12-17T13:08:38.473480Z",
     "iopub.status.busy": "2023-12-17T13:08:38.473034Z",
     "iopub.status.idle": "2023-12-17T13:08:38.484337Z",
     "shell.execute_reply": "2023-12-17T13:08:38.482786Z"
    },
    "papermill": {
     "duration": 0.020952,
     "end_time": "2023-12-17T13:08:38.486569",
     "exception": false,
     "start_time": "2023-12-17T13:08:38.465617",
     "status": "completed"
    },
    "tags": []
   },
   "outputs": [
    {
     "data": {
      "application/javascript": [
       "parent.postMessage({\"jupyterEvent\": \"custom.exercise_interaction\", \"data\": {\"outcomeType\": 1, \"valueTowardsCompletion\": 0.16666666666666666, \"interactionType\": 1, \"questionType\": 1, \"questionId\": \"4_SortedVarieties\", \"learnToolsVersion\": \"0.3.4\", \"failureMessage\": \"\", \"exceptionClass\": \"\", \"trace\": \"\"}}, \"*\")"
      ],
      "text/plain": [
       "<IPython.core.display.Javascript object>"
      ]
     },
     "metadata": {},
     "output_type": "display_data"
    },
    {
     "data": {
      "text/markdown": [
       "<span style=\"color:#33cc33\">Correct</span>"
      ],
      "text/plain": [
       "Correct"
      ]
     },
     "metadata": {},
     "output_type": "display_data"
    }
   ],
   "source": [
    "sorted_varieties = price_extremes.sort_values(['min','max'],ascending=False)\n",
    "\n",
    "# Check your answer\n",
    "q4.check()"
   ]
  },
  {
   "cell_type": "code",
   "execution_count": 9,
   "id": "27780e82",
   "metadata": {
    "execution": {
     "iopub.execute_input": "2023-12-17T13:08:38.501771Z",
     "iopub.status.busy": "2023-12-17T13:08:38.501353Z",
     "iopub.status.idle": "2023-12-17T13:08:38.505920Z",
     "shell.execute_reply": "2023-12-17T13:08:38.504595Z"
    },
    "papermill": {
     "duration": 0.014596,
     "end_time": "2023-12-17T13:08:38.507896",
     "exception": false,
     "start_time": "2023-12-17T13:08:38.493300",
     "status": "completed"
    },
    "tags": []
   },
   "outputs": [],
   "source": [
    "#q4.hint()\n",
    "#q4.solution()"
   ]
  },
  {
   "cell_type": "markdown",
   "id": "a9efa654",
   "metadata": {
    "papermill": {
     "duration": 0.005869,
     "end_time": "2023-12-17T13:08:38.520388",
     "exception": false,
     "start_time": "2023-12-17T13:08:38.514519",
     "status": "completed"
    },
    "tags": []
   },
   "source": [
    "## 5.\n",
    "Create a `Series` whose index is reviewers and whose values is the average review score given out by that reviewer. Hint: you will need the `taster_name` and `points` columns."
   ]
  },
  {
   "cell_type": "code",
   "execution_count": 10,
   "id": "8c9584fd",
   "metadata": {
    "execution": {
     "iopub.execute_input": "2023-12-17T13:08:38.534343Z",
     "iopub.status.busy": "2023-12-17T13:08:38.533997Z",
     "iopub.status.idle": "2023-12-17T13:08:38.553707Z",
     "shell.execute_reply": "2023-12-17T13:08:38.552477Z"
    },
    "papermill": {
     "duration": 0.029302,
     "end_time": "2023-12-17T13:08:38.555912",
     "exception": false,
     "start_time": "2023-12-17T13:08:38.526610",
     "status": "completed"
    },
    "tags": []
   },
   "outputs": [
    {
     "data": {
      "application/javascript": [
       "parent.postMessage({\"jupyterEvent\": \"custom.exercise_interaction\", \"data\": {\"outcomeType\": 1, \"valueTowardsCompletion\": 0.16666666666666666, \"interactionType\": 1, \"questionType\": 1, \"questionId\": \"5_ReviewerMeanRatings\", \"learnToolsVersion\": \"0.3.4\", \"failureMessage\": \"\", \"exceptionClass\": \"\", \"trace\": \"\"}}, \"*\")"
      ],
      "text/plain": [
       "<IPython.core.display.Javascript object>"
      ]
     },
     "metadata": {},
     "output_type": "display_data"
    },
    {
     "data": {
      "text/markdown": [
       "<span style=\"color:#33cc33\">Correct</span>"
      ],
      "text/plain": [
       "Correct"
      ]
     },
     "metadata": {},
     "output_type": "display_data"
    }
   ],
   "source": [
    "reviewer_mean_ratings = reviews.groupby('taster_name').points.mean()\n",
    "\n",
    "# Check your answer\n",
    "q5.check()"
   ]
  },
  {
   "cell_type": "code",
   "execution_count": 11,
   "id": "7bc92578",
   "metadata": {
    "execution": {
     "iopub.execute_input": "2023-12-17T13:08:38.571465Z",
     "iopub.status.busy": "2023-12-17T13:08:38.570831Z",
     "iopub.status.idle": "2023-12-17T13:08:38.574151Z",
     "shell.execute_reply": "2023-12-17T13:08:38.573490Z"
    },
    "papermill": {
     "duration": 0.014001,
     "end_time": "2023-12-17T13:08:38.576623",
     "exception": false,
     "start_time": "2023-12-17T13:08:38.562622",
     "status": "completed"
    },
    "tags": []
   },
   "outputs": [],
   "source": [
    "#q5.hint()\n",
    "#q5.solution()"
   ]
  },
  {
   "cell_type": "markdown",
   "id": "fd2ea9e0",
   "metadata": {
    "papermill": {
     "duration": 0.00639,
     "end_time": "2023-12-17T13:08:38.589967",
     "exception": false,
     "start_time": "2023-12-17T13:08:38.583577",
     "status": "completed"
    },
    "tags": []
   },
   "source": [
    "Are there significant differences in the average scores assigned by the various reviewers? Run the cell below to use the `describe()` method to see a summary of the range of values."
   ]
  },
  {
   "cell_type": "code",
   "execution_count": 12,
   "id": "235c736b",
   "metadata": {
    "execution": {
     "iopub.execute_input": "2023-12-17T13:08:38.605615Z",
     "iopub.status.busy": "2023-12-17T13:08:38.604967Z",
     "iopub.status.idle": "2023-12-17T13:08:38.617286Z",
     "shell.execute_reply": "2023-12-17T13:08:38.615824Z"
    },
    "papermill": {
     "duration": 0.022703,
     "end_time": "2023-12-17T13:08:38.619492",
     "exception": false,
     "start_time": "2023-12-17T13:08:38.596789",
     "status": "completed"
    },
    "tags": []
   },
   "outputs": [
    {
     "data": {
      "text/plain": [
       "count    19.000000\n",
       "mean     88.233026\n",
       "std       1.243610\n",
       "min      85.855422\n",
       "25%      87.323501\n",
       "50%      88.536235\n",
       "75%      88.975256\n",
       "max      90.562551\n",
       "Name: points, dtype: float64"
      ]
     },
     "execution_count": 12,
     "metadata": {},
     "output_type": "execute_result"
    }
   ],
   "source": [
    "reviewer_mean_ratings.describe()"
   ]
  },
  {
   "cell_type": "markdown",
   "id": "cc7e05aa",
   "metadata": {
    "papermill": {
     "duration": 0.007038,
     "end_time": "2023-12-17T13:08:38.633559",
     "exception": false,
     "start_time": "2023-12-17T13:08:38.626521",
     "status": "completed"
    },
    "tags": []
   },
   "source": [
    "## 6.\n",
    "What combination of countries and varieties are most common? Create a `Series` whose index is a `MultiIndex`of `{country, variety}` pairs. For example, a pinot noir produced in the US should map to `{\"US\", \"Pinot Noir\"}`. Sort the values in the `Series` in descending order based on wine count."
   ]
  },
  {
   "cell_type": "code",
   "execution_count": 13,
   "id": "c878135d",
   "metadata": {
    "execution": {
     "iopub.execute_input": "2023-12-17T13:08:38.648741Z",
     "iopub.status.busy": "2023-12-17T13:08:38.647881Z",
     "iopub.status.idle": "2023-12-17T13:08:38.678075Z",
     "shell.execute_reply": "2023-12-17T13:08:38.677202Z"
    },
    "papermill": {
     "duration": 0.039921,
     "end_time": "2023-12-17T13:08:38.679936",
     "exception": false,
     "start_time": "2023-12-17T13:08:38.640015",
     "status": "completed"
    },
    "tags": []
   },
   "outputs": [
    {
     "data": {
      "application/javascript": [
       "parent.postMessage({\"jupyterEvent\": \"custom.exercise_interaction\", \"data\": {\"outcomeType\": 1, \"valueTowardsCompletion\": 0.16666666666666666, \"interactionType\": 1, \"questionType\": 1, \"questionId\": \"6_GroupbyCountryVariety\", \"learnToolsVersion\": \"0.3.4\", \"failureMessage\": \"\", \"exceptionClass\": \"\", \"trace\": \"\"}}, \"*\")"
      ],
      "text/plain": [
       "<IPython.core.display.Javascript object>"
      ]
     },
     "metadata": {},
     "output_type": "display_data"
    },
    {
     "data": {
      "text/markdown": [
       "<span style=\"color:#33cc33\">Correct</span>"
      ],
      "text/plain": [
       "Correct"
      ]
     },
     "metadata": {},
     "output_type": "display_data"
    }
   ],
   "source": [
    "country_variety_counts =reviews.groupby(['country', 'variety']).size().sort_values(ascending=False)\n",
    "\n",
    "# Check your answer\n",
    "q6.check()"
   ]
  },
  {
   "cell_type": "code",
   "execution_count": 14,
   "id": "3dc282db",
   "metadata": {
    "execution": {
     "iopub.execute_input": "2023-12-17T13:08:38.695839Z",
     "iopub.status.busy": "2023-12-17T13:08:38.695147Z",
     "iopub.status.idle": "2023-12-17T13:08:38.702980Z",
     "shell.execute_reply": "2023-12-17T13:08:38.702077Z"
    },
    "papermill": {
     "duration": 0.017645,
     "end_time": "2023-12-17T13:08:38.704689",
     "exception": false,
     "start_time": "2023-12-17T13:08:38.687044",
     "status": "completed"
    },
    "tags": []
   },
   "outputs": [
    {
     "data": {
      "application/javascript": [
       "parent.postMessage({\"jupyterEvent\": \"custom.exercise_interaction\", \"data\": {\"interactionType\": 3, \"questionType\": 1, \"questionId\": \"6_GroupbyCountryVariety\", \"learnToolsVersion\": \"0.3.4\", \"valueTowardsCompletion\": 0.0, \"failureMessage\": \"\", \"exceptionClass\": \"\", \"trace\": \"\", \"outcomeType\": 4}}, \"*\")"
      ],
      "text/plain": [
       "<IPython.core.display.Javascript object>"
      ]
     },
     "metadata": {},
     "output_type": "display_data"
    },
    {
     "data": {
      "text/markdown": [
       "<span style=\"color:#33cc99\">Solution:</span> \n",
       "```python\n",
       "country_variety_counts = reviews.groupby(['country', 'variety']).size().sort_values(ascending=False)\n",
       "```"
      ],
      "text/plain": [
       "Solution: \n",
       "```python\n",
       "country_variety_counts = reviews.groupby(['country', 'variety']).size().sort_values(ascending=False)\n",
       "```"
      ]
     },
     "metadata": {},
     "output_type": "display_data"
    }
   ],
   "source": [
    "#q6.hint()\n",
    "q6.solution()"
   ]
  },
  {
   "cell_type": "markdown",
   "id": "81737bd5",
   "metadata": {
    "papermill": {
     "duration": 0.0068,
     "end_time": "2023-12-17T13:08:38.718705",
     "exception": false,
     "start_time": "2023-12-17T13:08:38.711905",
     "status": "completed"
    },
    "tags": []
   },
   "source": [
    "# Keep going\n",
    "\n",
    "Move on to the [**data types and missing data**](https://www.kaggle.com/residentmario/data-types-and-missing-values)."
   ]
  },
  {
   "cell_type": "markdown",
   "id": "728fdf64",
   "metadata": {
    "papermill": {
     "duration": 0.00685,
     "end_time": "2023-12-17T13:08:38.732713",
     "exception": false,
     "start_time": "2023-12-17T13:08:38.725863",
     "status": "completed"
    },
    "tags": []
   },
   "source": [
    "---\n",
    "\n",
    "\n",
    "\n",
    "\n",
    "*Have questions or comments? Visit the [course discussion forum](https://www.kaggle.com/learn/pandas/discussion) to chat with other learners.*"
   ]
  }
 ],
 "metadata": {
  "kaggle": {
   "accelerator": "none",
   "dataSources": [
    {
     "datasetId": 655,
     "sourceId": 1252,
     "sourceType": "datasetVersion"
    },
    {
     "datasetId": 2321,
     "sourceId": 3919,
     "sourceType": "datasetVersion"
    },
    {
     "datasetId": 2894,
     "sourceId": 4877,
     "sourceType": "datasetVersion"
    },
    {
     "datasetId": 3491,
     "sourceId": 5624,
     "sourceType": "datasetVersion"
    },
    {
     "datasetId": 1442,
     "sourceId": 8172,
     "sourceType": "datasetVersion"
    },
    {
     "datasetId": 9366,
     "sourceId": 13206,
     "sourceType": "datasetVersion"
    },
    {
     "datasetId": 179555,
     "sourceId": 403916,
     "sourceType": "datasetVersion"
    },
    {
     "datasetId": 4549,
     "sourceId": 466349,
     "sourceType": "datasetVersion"
    },
    {
     "datasetId": 2478,
     "sourceId": 1151655,
     "sourceType": "datasetVersion"
    },
    {
     "datasetId": 10128,
     "sourceId": 5438389,
     "sourceType": "datasetVersion"
    }
   ],
   "isGpuEnabled": false,
   "isInternetEnabled": false,
   "language": "python",
   "sourceType": "notebook"
  },
  "kernelspec": {
   "display_name": "Python 3",
   "language": "python",
   "name": "python3"
  },
  "language_info": {
   "codemirror_mode": {
    "name": "ipython",
    "version": 3
   },
   "file_extension": ".py",
   "mimetype": "text/x-python",
   "name": "python",
   "nbconvert_exporter": "python",
   "pygments_lexer": "ipython3",
   "version": "3.10.12"
  },
  "papermill": {
   "default_parameters": {},
   "duration": 9.275711,
   "end_time": "2023-12-17T13:08:41.745068",
   "environment_variables": {},
   "exception": null,
   "input_path": "__notebook__.ipynb",
   "output_path": "__notebook__.ipynb",
   "parameters": {},
   "start_time": "2023-12-17T13:08:32.469357",
   "version": "2.4.0"
  }
 },
 "nbformat": 4,
 "nbformat_minor": 5
}
