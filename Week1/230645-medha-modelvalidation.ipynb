{
 "cells": [
  {
   "cell_type": "markdown",
   "id": "be7e9355",
   "metadata": {
    "papermill": {
     "duration": 0.004711,
     "end_time": "2023-12-17T13:03:46.122690",
     "exception": false,
     "start_time": "2023-12-17T13:03:46.117979",
     "status": "completed"
    },
    "tags": []
   },
   "source": [
    "**This notebook is an exercise in the [Introduction to Machine Learning](https://www.kaggle.com/learn/intro-to-machine-learning) course.  You can reference the tutorial at [this link](https://www.kaggle.com/dansbecker/model-validation).**\n",
    "\n",
    "---\n"
   ]
  },
  {
   "cell_type": "markdown",
   "id": "b3a4dad1",
   "metadata": {
    "papermill": {
     "duration": 0.003896,
     "end_time": "2023-12-17T13:03:46.131044",
     "exception": false,
     "start_time": "2023-12-17T13:03:46.127148",
     "status": "completed"
    },
    "tags": []
   },
   "source": [
    "## Recap\n",
    "You've built a model. In this exercise you will test how good your model is.\n",
    "\n",
    "Run the cell below to set up your coding environment where the previous exercise left off."
   ]
  },
  {
   "cell_type": "code",
   "execution_count": 1,
   "id": "e37cba28",
   "metadata": {
    "execution": {
     "iopub.execute_input": "2023-12-17T13:03:46.141125Z",
     "iopub.status.busy": "2023-12-17T13:03:46.140438Z",
     "iopub.status.idle": "2023-12-17T13:03:47.976953Z",
     "shell.execute_reply": "2023-12-17T13:03:47.975858Z"
    },
    "papermill": {
     "duration": 1.843935,
     "end_time": "2023-12-17T13:03:47.979020",
     "exception": false,
     "start_time": "2023-12-17T13:03:46.135085",
     "status": "completed"
    },
    "tags": []
   },
   "outputs": [
    {
     "name": "stdout",
     "output_type": "stream",
     "text": [
      "First in-sample predictions: [208500. 181500. 223500. 140000. 250000.]\n",
      "Actual target values for those homes: [208500, 181500, 223500, 140000, 250000]\n",
      "Setup Complete\n"
     ]
    }
   ],
   "source": [
    "# Code you have previously used to load data\n",
    "import pandas as pd\n",
    "from sklearn.tree import DecisionTreeRegressor\n",
    "\n",
    "# Path of the file to read\n",
    "iowa_file_path = '../input/home-data-for-ml-course/train.csv'\n",
    "\n",
    "home_data = pd.read_csv(iowa_file_path)\n",
    "y = home_data.SalePrice\n",
    "feature_columns = ['LotArea', 'YearBuilt', '1stFlrSF', '2ndFlrSF', 'FullBath', 'BedroomAbvGr', 'TotRmsAbvGrd']\n",
    "X = home_data[feature_columns]\n",
    "\n",
    "# Specify Model\n",
    "iowa_model = DecisionTreeRegressor()\n",
    "# Fit Model\n",
    "iowa_model.fit(X, y)\n",
    "\n",
    "print(\"First in-sample predictions:\", iowa_model.predict(X.head()))\n",
    "print(\"Actual target values for those homes:\", y.head().tolist())\n",
    "\n",
    "# Set up code checking\n",
    "from learntools.core import binder\n",
    "binder.bind(globals())\n",
    "from learntools.machine_learning.ex4 import *\n",
    "print(\"Setup Complete\")"
   ]
  },
  {
   "cell_type": "markdown",
   "id": "51ff3fcb",
   "metadata": {
    "papermill": {
     "duration": 0.004021,
     "end_time": "2023-12-17T13:03:47.987530",
     "exception": false,
     "start_time": "2023-12-17T13:03:47.983509",
     "status": "completed"
    },
    "tags": []
   },
   "source": [
    "# Exercises\n",
    "\n",
    "## Step 1: Split Your Data\n",
    "Use the `train_test_split` function to split up your data.\n",
    "\n",
    "Give it the argument `random_state=1` so the `check` functions know what to expect when verifying your code.\n",
    "\n",
    "Recall, your features are loaded in the DataFrame **X** and your target is loaded in **y**.\n"
   ]
  },
  {
   "cell_type": "code",
   "execution_count": 2,
   "id": "cd044253",
   "metadata": {
    "execution": {
     "iopub.execute_input": "2023-12-17T13:03:47.997867Z",
     "iopub.status.busy": "2023-12-17T13:03:47.997244Z",
     "iopub.status.idle": "2023-12-17T13:03:48.010378Z",
     "shell.execute_reply": "2023-12-17T13:03:48.009326Z"
    },
    "papermill": {
     "duration": 0.020771,
     "end_time": "2023-12-17T13:03:48.012445",
     "exception": false,
     "start_time": "2023-12-17T13:03:47.991674",
     "status": "completed"
    },
    "tags": []
   },
   "outputs": [
    {
     "data": {
      "application/javascript": [
       "parent.postMessage({\"jupyterEvent\": \"custom.exercise_interaction\", \"data\": {\"outcomeType\": 1, \"valueTowardsCompletion\": 0.25, \"interactionType\": 1, \"questionType\": 2, \"questionId\": \"1_SplitData\", \"learnToolsVersion\": \"0.3.4\", \"failureMessage\": \"\", \"exceptionClass\": \"\", \"trace\": \"\"}}, \"*\")"
      ],
      "text/plain": [
       "<IPython.core.display.Javascript object>"
      ]
     },
     "metadata": {},
     "output_type": "display_data"
    },
    {
     "data": {
      "text/markdown": [
       "<span style=\"color:#33cc33\">Correct</span>"
      ],
      "text/plain": [
       "Correct"
      ]
     },
     "metadata": {},
     "output_type": "display_data"
    }
   ],
   "source": [
    "# Import the train_test_split function and uncomment\n",
    "from sklearn.model_selection import train_test_split\n",
    "\n",
    "# fill in and uncomment\n",
    "train_X, val_X, train_y, val_y = train_test_split(X,y,random_state=1)\n",
    "\n",
    "# Check your answer\n",
    "step_1.check()"
   ]
  },
  {
   "cell_type": "code",
   "execution_count": 3,
   "id": "f9b4c0e7",
   "metadata": {
    "execution": {
     "iopub.execute_input": "2023-12-17T13:03:48.024149Z",
     "iopub.status.busy": "2023-12-17T13:03:48.023545Z",
     "iopub.status.idle": "2023-12-17T13:03:48.027495Z",
     "shell.execute_reply": "2023-12-17T13:03:48.026832Z"
    },
    "papermill": {
     "duration": 0.011919,
     "end_time": "2023-12-17T13:03:48.029303",
     "exception": false,
     "start_time": "2023-12-17T13:03:48.017384",
     "status": "completed"
    },
    "tags": []
   },
   "outputs": [],
   "source": [
    "# The lines below will show you a hint or the solution.\n",
    "# step_1.hint() \n",
    "# step_1.solution()\n"
   ]
  },
  {
   "cell_type": "markdown",
   "id": "5d8308e6",
   "metadata": {
    "papermill": {
     "duration": 0.004241,
     "end_time": "2023-12-17T13:03:48.038076",
     "exception": false,
     "start_time": "2023-12-17T13:03:48.033835",
     "status": "completed"
    },
    "tags": []
   },
   "source": [
    "## Step 2: Specify and Fit the Model\n",
    "\n",
    "Create a `DecisionTreeRegressor` model and fit it to the relevant data.\n",
    "Set `random_state` to 1 again when creating the model."
   ]
  },
  {
   "cell_type": "code",
   "execution_count": 4,
   "id": "3913678d",
   "metadata": {
    "execution": {
     "iopub.execute_input": "2023-12-17T13:03:48.048699Z",
     "iopub.status.busy": "2023-12-17T13:03:48.048331Z",
     "iopub.status.idle": "2023-12-17T13:03:48.075965Z",
     "shell.execute_reply": "2023-12-17T13:03:48.074983Z"
    },
    "papermill": {
     "duration": 0.035615,
     "end_time": "2023-12-17T13:03:48.078183",
     "exception": false,
     "start_time": "2023-12-17T13:03:48.042568",
     "status": "completed"
    },
    "tags": []
   },
   "outputs": [
    {
     "name": "stdout",
     "output_type": "stream",
     "text": [
      "[186500. 184000. 130000.  92000. 164500. 220000. 335000. 144152. 215000.\n",
      " 262000.]\n",
      "[186500. 184000. 130000.  92000. 164500. 220000. 335000. 144152. 215000.\n",
      " 262000.]\n"
     ]
    },
    {
     "data": {
      "application/javascript": [
       "parent.postMessage({\"jupyterEvent\": \"custom.exercise_interaction\", \"data\": {\"outcomeType\": 1, \"valueTowardsCompletion\": 0.25, \"interactionType\": 1, \"questionType\": 2, \"questionId\": \"2_FitModelWithTrain\", \"learnToolsVersion\": \"0.3.4\", \"failureMessage\": \"\", \"exceptionClass\": \"\", \"trace\": \"\"}}, \"*\")"
      ],
      "text/plain": [
       "<IPython.core.display.Javascript object>"
      ]
     },
     "metadata": {},
     "output_type": "display_data"
    },
    {
     "data": {
      "text/markdown": [
       "<span style=\"color:#33cc33\">Correct</span>"
      ],
      "text/plain": [
       "Correct"
      ]
     },
     "metadata": {},
     "output_type": "display_data"
    }
   ],
   "source": [
    "# You imported DecisionTreeRegressor in your last exercise\n",
    "# and that code has been copied to the setup code above. So, no need to\n",
    "# import it again\n",
    "\n",
    "# Specify the model\n",
    "iowa_model = DecisionTreeRegressor(random_state=1)\n",
    "\n",
    "# Fit iowa_model with the training data.\n",
    "iowa_model.fit(train_X,train_y)\n",
    "\n",
    "# Check your answer\n",
    "step_2.check()"
   ]
  },
  {
   "cell_type": "code",
   "execution_count": 5,
   "id": "19ca9178",
   "metadata": {
    "execution": {
     "iopub.execute_input": "2023-12-17T13:03:48.090148Z",
     "iopub.status.busy": "2023-12-17T13:03:48.089372Z",
     "iopub.status.idle": "2023-12-17T13:03:48.093905Z",
     "shell.execute_reply": "2023-12-17T13:03:48.092789Z"
    },
    "papermill": {
     "duration": 0.012839,
     "end_time": "2023-12-17T13:03:48.096008",
     "exception": false,
     "start_time": "2023-12-17T13:03:48.083169",
     "status": "completed"
    },
    "tags": []
   },
   "outputs": [],
   "source": [
    "# step_2.hint()\n",
    "# step_2.solution()"
   ]
  },
  {
   "cell_type": "markdown",
   "id": "0beaba6e",
   "metadata": {
    "papermill": {
     "duration": 0.004735,
     "end_time": "2023-12-17T13:03:48.105842",
     "exception": false,
     "start_time": "2023-12-17T13:03:48.101107",
     "status": "completed"
    },
    "tags": []
   },
   "source": [
    "## Step 3: Make Predictions with Validation data\n"
   ]
  },
  {
   "cell_type": "code",
   "execution_count": 6,
   "id": "0d760219",
   "metadata": {
    "execution": {
     "iopub.execute_input": "2023-12-17T13:03:48.117715Z",
     "iopub.status.busy": "2023-12-17T13:03:48.117338Z",
     "iopub.status.idle": "2023-12-17T13:03:48.129221Z",
     "shell.execute_reply": "2023-12-17T13:03:48.128205Z"
    },
    "papermill": {
     "duration": 0.020301,
     "end_time": "2023-12-17T13:03:48.131207",
     "exception": false,
     "start_time": "2023-12-17T13:03:48.110906",
     "status": "completed"
    },
    "tags": []
   },
   "outputs": [
    {
     "data": {
      "application/javascript": [
       "parent.postMessage({\"jupyterEvent\": \"custom.exercise_interaction\", \"data\": {\"outcomeType\": 1, \"valueTowardsCompletion\": 0.25, \"interactionType\": 1, \"questionType\": 2, \"questionId\": \"3_ValPreds\", \"learnToolsVersion\": \"0.3.4\", \"failureMessage\": \"\", \"exceptionClass\": \"\", \"trace\": \"\"}}, \"*\")"
      ],
      "text/plain": [
       "<IPython.core.display.Javascript object>"
      ]
     },
     "metadata": {},
     "output_type": "display_data"
    },
    {
     "data": {
      "text/markdown": [
       "<span style=\"color:#33cc33\">Correct</span>"
      ],
      "text/plain": [
       "Correct"
      ]
     },
     "metadata": {},
     "output_type": "display_data"
    }
   ],
   "source": [
    "# Predict with all validation observations\n",
    "val_predictions =iowa_model.predict(val_X)\n",
    "\n",
    "# Check your answer\n",
    "step_3.check()"
   ]
  },
  {
   "cell_type": "code",
   "execution_count": 7,
   "id": "271136b0",
   "metadata": {
    "execution": {
     "iopub.execute_input": "2023-12-17T13:03:48.143564Z",
     "iopub.status.busy": "2023-12-17T13:03:48.143198Z",
     "iopub.status.idle": "2023-12-17T13:03:48.151090Z",
     "shell.execute_reply": "2023-12-17T13:03:48.149745Z"
    },
    "papermill": {
     "duration": 0.016647,
     "end_time": "2023-12-17T13:03:48.153071",
     "exception": false,
     "start_time": "2023-12-17T13:03:48.136424",
     "status": "completed"
    },
    "tags": []
   },
   "outputs": [
    {
     "data": {
      "application/javascript": [
       "parent.postMessage({\"jupyterEvent\": \"custom.exercise_interaction\", \"data\": {\"interactionType\": 3, \"questionType\": 2, \"questionId\": \"3_ValPreds\", \"learnToolsVersion\": \"0.3.4\", \"valueTowardsCompletion\": 0.0, \"failureMessage\": \"\", \"exceptionClass\": \"\", \"trace\": \"\", \"outcomeType\": 4}}, \"*\")"
      ],
      "text/plain": [
       "<IPython.core.display.Javascript object>"
      ]
     },
     "metadata": {},
     "output_type": "display_data"
    },
    {
     "data": {
      "text/markdown": [
       "<span style=\"color:#33cc99\">Solution:</span> \n",
       "```python\n",
       "val_predictions = iowa_model.predict(val_X)\n",
       "```"
      ],
      "text/plain": [
       "Solution: \n",
       "```python\n",
       "val_predictions = iowa_model.predict(val_X)\n",
       "```"
      ]
     },
     "metadata": {},
     "output_type": "display_data"
    }
   ],
   "source": [
    "# step_3.hint()\n",
    "step_3.solution()"
   ]
  },
  {
   "cell_type": "markdown",
   "id": "9ddcb6ae",
   "metadata": {
    "papermill": {
     "duration": 0.005292,
     "end_time": "2023-12-17T13:03:48.163765",
     "exception": false,
     "start_time": "2023-12-17T13:03:48.158473",
     "status": "completed"
    },
    "tags": []
   },
   "source": [
    "Inspect your predictions and actual values from validation data."
   ]
  },
  {
   "cell_type": "code",
   "execution_count": 8,
   "id": "42b2a56b",
   "metadata": {
    "execution": {
     "iopub.execute_input": "2023-12-17T13:03:48.176572Z",
     "iopub.status.busy": "2023-12-17T13:03:48.175836Z",
     "iopub.status.idle": "2023-12-17T13:03:48.181731Z",
     "shell.execute_reply": "2023-12-17T13:03:48.180660Z"
    },
    "papermill": {
     "duration": 0.01515,
     "end_time": "2023-12-17T13:03:48.184354",
     "exception": false,
     "start_time": "2023-12-17T13:03:48.169204",
     "status": "completed"
    },
    "tags": []
   },
   "outputs": [
    {
     "name": "stdout",
     "output_type": "stream",
     "text": [
      "[186500. 184000. 130000.  92000. 164500.]\n",
      "[231500, 179500, 122000, 84500, 142000]\n"
     ]
    }
   ],
   "source": [
    "# print the top few validation predictions\n",
    "print(val_predictions[:5])\n",
    "# print the top few actual prices from validation data\n",
    "print(val_y.head(5).tolist())"
   ]
  },
  {
   "cell_type": "markdown",
   "id": "aedf85c9",
   "metadata": {
    "papermill": {
     "duration": 0.005339,
     "end_time": "2023-12-17T13:03:48.195467",
     "exception": false,
     "start_time": "2023-12-17T13:03:48.190128",
     "status": "completed"
    },
    "tags": []
   },
   "source": [
    "What do you notice that is different from what you saw with in-sample predictions (which are printed after the top code cell in this page).\n",
    "\n",
    "Do you remember why validation predictions differ from in-sample (or training) predictions? This is an important idea from the last lesson.\n",
    "\n",
    "## Step 4: Calculate the Mean Absolute Error in Validation Data\n"
   ]
  },
  {
   "cell_type": "code",
   "execution_count": 9,
   "id": "7315cff9",
   "metadata": {
    "execution": {
     "iopub.execute_input": "2023-12-17T13:03:48.208274Z",
     "iopub.status.busy": "2023-12-17T13:03:48.207614Z",
     "iopub.status.idle": "2023-12-17T13:03:48.217305Z",
     "shell.execute_reply": "2023-12-17T13:03:48.216530Z"
    },
    "papermill": {
     "duration": 0.018397,
     "end_time": "2023-12-17T13:03:48.219398",
     "exception": false,
     "start_time": "2023-12-17T13:03:48.201001",
     "status": "completed"
    },
    "tags": []
   },
   "outputs": [
    {
     "name": "stdout",
     "output_type": "stream",
     "text": [
      "29652.931506849316\n"
     ]
    },
    {
     "data": {
      "application/javascript": [
       "parent.postMessage({\"jupyterEvent\": \"custom.exercise_interaction\", \"data\": {\"outcomeType\": 1, \"valueTowardsCompletion\": 0.25, \"interactionType\": 1, \"questionType\": 1, \"questionId\": \"4_MAE\", \"learnToolsVersion\": \"0.3.4\", \"failureMessage\": \"\", \"exceptionClass\": \"\", \"trace\": \"\"}}, \"*\")"
      ],
      "text/plain": [
       "<IPython.core.display.Javascript object>"
      ]
     },
     "metadata": {},
     "output_type": "display_data"
    },
    {
     "data": {
      "text/markdown": [
       "<span style=\"color:#33cc33\">Correct</span>"
      ],
      "text/plain": [
       "Correct"
      ]
     },
     "metadata": {},
     "output_type": "display_data"
    }
   ],
   "source": [
    "from sklearn.metrics import mean_absolute_error\n",
    "val_mae = mean_absolute_error(val_y,val_predictions)\n",
    "\n",
    "# uncomment following line to see the validation_mae\n",
    "print(val_mae)\n",
    "\n",
    "# Check your answer\n",
    "step_4.check()"
   ]
  },
  {
   "cell_type": "code",
   "execution_count": 10,
   "id": "d529fc1f",
   "metadata": {
    "execution": {
     "iopub.execute_input": "2023-12-17T13:03:48.232645Z",
     "iopub.status.busy": "2023-12-17T13:03:48.232265Z",
     "iopub.status.idle": "2023-12-17T13:03:48.236170Z",
     "shell.execute_reply": "2023-12-17T13:03:48.235363Z"
    },
    "papermill": {
     "duration": 0.012782,
     "end_time": "2023-12-17T13:03:48.237920",
     "exception": false,
     "start_time": "2023-12-17T13:03:48.225138",
     "status": "completed"
    },
    "tags": []
   },
   "outputs": [],
   "source": [
    "# step_4.hint()\n",
    "# step_4.solution()"
   ]
  },
  {
   "cell_type": "markdown",
   "id": "db3c3433",
   "metadata": {
    "papermill": {
     "duration": 0.005459,
     "end_time": "2023-12-17T13:03:48.249155",
     "exception": false,
     "start_time": "2023-12-17T13:03:48.243696",
     "status": "completed"
    },
    "tags": []
   },
   "source": [
    "Is that MAE good?  There isn't a general rule for what values are good that applies across applications. But you'll see how to use (and improve) this number in the next step.\n",
    "\n",
    "# Keep Going\n",
    "\n",
    "You are ready for **[Underfitting and Overfitting](https://www.kaggle.com/dansbecker/underfitting-and-overfitting).**\n"
   ]
  },
  {
   "cell_type": "markdown",
   "id": "e9e94d5c",
   "metadata": {
    "papermill": {
     "duration": 0.005445,
     "end_time": "2023-12-17T13:03:48.260309",
     "exception": false,
     "start_time": "2023-12-17T13:03:48.254864",
     "status": "completed"
    },
    "tags": []
   },
   "source": [
    "---\n",
    "\n",
    "\n",
    "\n",
    "\n",
    "*Have questions or comments? Visit the [course discussion forum](https://www.kaggle.com/learn/intro-to-machine-learning/discussion) to chat with other learners.*"
   ]
  }
 ],
 "metadata": {
  "kaggle": {
   "accelerator": "none",
   "dataSources": [
    {
     "databundleVersionId": 111096,
     "sourceId": 10211,
     "sourceType": "competition"
    },
    {
     "datasetId": 11167,
     "sourceId": 15520,
     "sourceType": "datasetVersion"
    },
    {
     "datasetId": 2709,
     "sourceId": 38454,
     "sourceType": "datasetVersion"
    }
   ],
   "isGpuEnabled": false,
   "isInternetEnabled": false,
   "language": "python",
   "sourceType": "notebook"
  },
  "kernelspec": {
   "display_name": "Python 3",
   "language": "python",
   "name": "python3"
  },
  "language_info": {
   "codemirror_mode": {
    "name": "ipython",
    "version": 3
   },
   "file_extension": ".py",
   "mimetype": "text/x-python",
   "name": "python",
   "nbconvert_exporter": "python",
   "pygments_lexer": "ipython3",
   "version": "3.10.12"
  },
  "papermill": {
   "default_parameters": {},
   "duration": 5.599766,
   "end_time": "2023-12-17T13:03:48.785319",
   "environment_variables": {},
   "exception": null,
   "input_path": "__notebook__.ipynb",
   "output_path": "__notebook__.ipynb",
   "parameters": {},
   "start_time": "2023-12-17T13:03:43.185553",
   "version": "2.4.0"
  }
 },
 "nbformat": 4,
 "nbformat_minor": 5
}
