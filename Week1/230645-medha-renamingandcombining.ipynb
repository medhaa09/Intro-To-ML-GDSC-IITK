{
 "cells": [
  {
   "cell_type": "markdown",
   "id": "fffe4a3f",
   "metadata": {
    "papermill": {
     "duration": 0.005467,
     "end_time": "2023-12-17T13:08:16.489229",
     "exception": false,
     "start_time": "2023-12-17T13:08:16.483762",
     "status": "completed"
    },
    "tags": []
   },
   "source": [
    "**This notebook is an exercise in the [Pandas](https://www.kaggle.com/learn/pandas) course.  You can reference the tutorial at [this link](https://www.kaggle.com/residentmario/renaming-and-combining).**\n",
    "\n",
    "---\n"
   ]
  },
  {
   "cell_type": "markdown",
   "id": "51ea6bca",
   "metadata": {
    "papermill": {
     "duration": 0.004799,
     "end_time": "2023-12-17T13:08:16.499305",
     "exception": false,
     "start_time": "2023-12-17T13:08:16.494506",
     "status": "completed"
    },
    "tags": []
   },
   "source": [
    "# Introduction\n",
    "\n",
    "Run the following cell to load your data and some utility functions."
   ]
  },
  {
   "cell_type": "code",
   "execution_count": 1,
   "id": "47f67235",
   "metadata": {
    "execution": {
     "iopub.execute_input": "2023-12-17T13:08:16.511554Z",
     "iopub.status.busy": "2023-12-17T13:08:16.510824Z",
     "iopub.status.idle": "2023-12-17T13:08:21.149694Z",
     "shell.execute_reply": "2023-12-17T13:08:21.148319Z"
    },
    "papermill": {
     "duration": 4.648193,
     "end_time": "2023-12-17T13:08:21.152551",
     "exception": false,
     "start_time": "2023-12-17T13:08:16.504358",
     "status": "completed"
    },
    "tags": []
   },
   "outputs": [
    {
     "name": "stdout",
     "output_type": "stream",
     "text": [
      "Setup complete.\n"
     ]
    }
   ],
   "source": [
    "import pandas as pd\n",
    "\n",
    "reviews = pd.read_csv(\"../input/wine-reviews/winemag-data-130k-v2.csv\", index_col=0)\n",
    "\n",
    "from learntools.core import binder; binder.bind(globals())\n",
    "from learntools.pandas.renaming_and_combining import *\n",
    "print(\"Setup complete.\")"
   ]
  },
  {
   "cell_type": "markdown",
   "id": "3d390f37",
   "metadata": {
    "papermill": {
     "duration": 0.004891,
     "end_time": "2023-12-17T13:08:21.163027",
     "exception": false,
     "start_time": "2023-12-17T13:08:21.158136",
     "status": "completed"
    },
    "tags": []
   },
   "source": [
    "# Exercises\n",
    "\n",
    "View the first several lines of your data by running the cell below:"
   ]
  },
  {
   "cell_type": "code",
   "execution_count": 2,
   "id": "4c1c589e",
   "metadata": {
    "execution": {
     "iopub.execute_input": "2023-12-17T13:08:21.174861Z",
     "iopub.status.busy": "2023-12-17T13:08:21.174471Z",
     "iopub.status.idle": "2023-12-17T13:08:21.199856Z",
     "shell.execute_reply": "2023-12-17T13:08:21.198671Z"
    },
    "papermill": {
     "duration": 0.034394,
     "end_time": "2023-12-17T13:08:21.202456",
     "exception": false,
     "start_time": "2023-12-17T13:08:21.168062",
     "status": "completed"
    },
    "tags": []
   },
   "outputs": [
    {
     "data": {
      "text/html": [
       "<div>\n",
       "<style scoped>\n",
       "    .dataframe tbody tr th:only-of-type {\n",
       "        vertical-align: middle;\n",
       "    }\n",
       "\n",
       "    .dataframe tbody tr th {\n",
       "        vertical-align: top;\n",
       "    }\n",
       "\n",
       "    .dataframe thead th {\n",
       "        text-align: right;\n",
       "    }\n",
       "</style>\n",
       "<table border=\"1\" class=\"dataframe\">\n",
       "  <thead>\n",
       "    <tr style=\"text-align: right;\">\n",
       "      <th></th>\n",
       "      <th>country</th>\n",
       "      <th>description</th>\n",
       "      <th>designation</th>\n",
       "      <th>points</th>\n",
       "      <th>price</th>\n",
       "      <th>province</th>\n",
       "      <th>region_1</th>\n",
       "      <th>region_2</th>\n",
       "      <th>taster_name</th>\n",
       "      <th>taster_twitter_handle</th>\n",
       "      <th>title</th>\n",
       "      <th>variety</th>\n",
       "      <th>winery</th>\n",
       "    </tr>\n",
       "  </thead>\n",
       "  <tbody>\n",
       "    <tr>\n",
       "      <th>0</th>\n",
       "      <td>Italy</td>\n",
       "      <td>Aromas include tropical fruit, broom, brimston...</td>\n",
       "      <td>Vulkà Bianco</td>\n",
       "      <td>87</td>\n",
       "      <td>NaN</td>\n",
       "      <td>Sicily &amp; Sardinia</td>\n",
       "      <td>Etna</td>\n",
       "      <td>NaN</td>\n",
       "      <td>Kerin O’Keefe</td>\n",
       "      <td>@kerinokeefe</td>\n",
       "      <td>Nicosia 2013 Vulkà Bianco  (Etna)</td>\n",
       "      <td>White Blend</td>\n",
       "      <td>Nicosia</td>\n",
       "    </tr>\n",
       "    <tr>\n",
       "      <th>1</th>\n",
       "      <td>Portugal</td>\n",
       "      <td>This is ripe and fruity, a wine that is smooth...</td>\n",
       "      <td>Avidagos</td>\n",
       "      <td>87</td>\n",
       "      <td>15.0</td>\n",
       "      <td>Douro</td>\n",
       "      <td>NaN</td>\n",
       "      <td>NaN</td>\n",
       "      <td>Roger Voss</td>\n",
       "      <td>@vossroger</td>\n",
       "      <td>Quinta dos Avidagos 2011 Avidagos Red (Douro)</td>\n",
       "      <td>Portuguese Red</td>\n",
       "      <td>Quinta dos Avidagos</td>\n",
       "    </tr>\n",
       "    <tr>\n",
       "      <th>2</th>\n",
       "      <td>US</td>\n",
       "      <td>Tart and snappy, the flavors of lime flesh and...</td>\n",
       "      <td>NaN</td>\n",
       "      <td>87</td>\n",
       "      <td>14.0</td>\n",
       "      <td>Oregon</td>\n",
       "      <td>Willamette Valley</td>\n",
       "      <td>Willamette Valley</td>\n",
       "      <td>Paul Gregutt</td>\n",
       "      <td>@paulgwine</td>\n",
       "      <td>Rainstorm 2013 Pinot Gris (Willamette Valley)</td>\n",
       "      <td>Pinot Gris</td>\n",
       "      <td>Rainstorm</td>\n",
       "    </tr>\n",
       "    <tr>\n",
       "      <th>3</th>\n",
       "      <td>US</td>\n",
       "      <td>Pineapple rind, lemon pith and orange blossom ...</td>\n",
       "      <td>Reserve Late Harvest</td>\n",
       "      <td>87</td>\n",
       "      <td>13.0</td>\n",
       "      <td>Michigan</td>\n",
       "      <td>Lake Michigan Shore</td>\n",
       "      <td>NaN</td>\n",
       "      <td>Alexander Peartree</td>\n",
       "      <td>NaN</td>\n",
       "      <td>St. Julian 2013 Reserve Late Harvest Riesling ...</td>\n",
       "      <td>Riesling</td>\n",
       "      <td>St. Julian</td>\n",
       "    </tr>\n",
       "    <tr>\n",
       "      <th>4</th>\n",
       "      <td>US</td>\n",
       "      <td>Much like the regular bottling from 2012, this...</td>\n",
       "      <td>Vintner's Reserve Wild Child Block</td>\n",
       "      <td>87</td>\n",
       "      <td>65.0</td>\n",
       "      <td>Oregon</td>\n",
       "      <td>Willamette Valley</td>\n",
       "      <td>Willamette Valley</td>\n",
       "      <td>Paul Gregutt</td>\n",
       "      <td>@paulgwine</td>\n",
       "      <td>Sweet Cheeks 2012 Vintner's Reserve Wild Child...</td>\n",
       "      <td>Pinot Noir</td>\n",
       "      <td>Sweet Cheeks</td>\n",
       "    </tr>\n",
       "  </tbody>\n",
       "</table>\n",
       "</div>"
      ],
      "text/plain": [
       "    country                                        description  \\\n",
       "0     Italy  Aromas include tropical fruit, broom, brimston...   \n",
       "1  Portugal  This is ripe and fruity, a wine that is smooth...   \n",
       "2        US  Tart and snappy, the flavors of lime flesh and...   \n",
       "3        US  Pineapple rind, lemon pith and orange blossom ...   \n",
       "4        US  Much like the regular bottling from 2012, this...   \n",
       "\n",
       "                          designation  points  price           province  \\\n",
       "0                        Vulkà Bianco      87    NaN  Sicily & Sardinia   \n",
       "1                            Avidagos      87   15.0              Douro   \n",
       "2                                 NaN      87   14.0             Oregon   \n",
       "3                Reserve Late Harvest      87   13.0           Michigan   \n",
       "4  Vintner's Reserve Wild Child Block      87   65.0             Oregon   \n",
       "\n",
       "              region_1           region_2         taster_name  \\\n",
       "0                 Etna                NaN       Kerin O’Keefe   \n",
       "1                  NaN                NaN          Roger Voss   \n",
       "2    Willamette Valley  Willamette Valley        Paul Gregutt   \n",
       "3  Lake Michigan Shore                NaN  Alexander Peartree   \n",
       "4    Willamette Valley  Willamette Valley        Paul Gregutt   \n",
       "\n",
       "  taster_twitter_handle                                              title  \\\n",
       "0          @kerinokeefe                  Nicosia 2013 Vulkà Bianco  (Etna)   \n",
       "1            @vossroger      Quinta dos Avidagos 2011 Avidagos Red (Douro)   \n",
       "2           @paulgwine       Rainstorm 2013 Pinot Gris (Willamette Valley)   \n",
       "3                   NaN  St. Julian 2013 Reserve Late Harvest Riesling ...   \n",
       "4           @paulgwine   Sweet Cheeks 2012 Vintner's Reserve Wild Child...   \n",
       "\n",
       "          variety               winery  \n",
       "0     White Blend              Nicosia  \n",
       "1  Portuguese Red  Quinta dos Avidagos  \n",
       "2      Pinot Gris            Rainstorm  \n",
       "3        Riesling           St. Julian  \n",
       "4      Pinot Noir         Sweet Cheeks  "
      ]
     },
     "execution_count": 2,
     "metadata": {},
     "output_type": "execute_result"
    }
   ],
   "source": [
    "reviews.head()"
   ]
  },
  {
   "cell_type": "markdown",
   "id": "c0f9a253",
   "metadata": {
    "papermill": {
     "duration": 0.005324,
     "end_time": "2023-12-17T13:08:21.213497",
     "exception": false,
     "start_time": "2023-12-17T13:08:21.208173",
     "status": "completed"
    },
    "tags": []
   },
   "source": [
    "## 1.\n",
    "`region_1` and `region_2` are pretty uninformative names for locale columns in the dataset. Create a copy of `reviews` with these columns renamed to `region` and `locale`, respectively."
   ]
  },
  {
   "cell_type": "code",
   "execution_count": 3,
   "id": "beb5c11b",
   "metadata": {
    "execution": {
     "iopub.execute_input": "2023-12-17T13:08:21.228036Z",
     "iopub.status.busy": "2023-12-17T13:08:21.227006Z",
     "iopub.status.idle": "2023-12-17T13:08:21.251530Z",
     "shell.execute_reply": "2023-12-17T13:08:21.250429Z"
    },
    "papermill": {
     "duration": 0.034674,
     "end_time": "2023-12-17T13:08:21.253949",
     "exception": false,
     "start_time": "2023-12-17T13:08:21.219275",
     "status": "completed"
    },
    "tags": []
   },
   "outputs": [
    {
     "data": {
      "application/javascript": [
       "parent.postMessage({\"jupyterEvent\": \"custom.exercise_interaction\", \"data\": {\"outcomeType\": 1, \"valueTowardsCompletion\": 0.25, \"interactionType\": 1, \"questionType\": 1, \"questionId\": \"1_RenameCols\", \"learnToolsVersion\": \"0.3.4\", \"failureMessage\": \"\", \"exceptionClass\": \"\", \"trace\": \"\"}}, \"*\")"
      ],
      "text/plain": [
       "<IPython.core.display.Javascript object>"
      ]
     },
     "metadata": {},
     "output_type": "display_data"
    },
    {
     "data": {
      "text/markdown": [
       "<span style=\"color:#33cc33\">Correct</span>"
      ],
      "text/plain": [
       "Correct"
      ]
     },
     "metadata": {},
     "output_type": "display_data"
    }
   ],
   "source": [
    "# Your code here\n",
    "renamed = reviews.rename(columns={'region_1':'region','region_2':'locale'})\n",
    "\n",
    "# Check your answer\n",
    "q1.check()"
   ]
  },
  {
   "cell_type": "code",
   "execution_count": 4,
   "id": "6d26efee",
   "metadata": {
    "execution": {
     "iopub.execute_input": "2023-12-17T13:08:21.268521Z",
     "iopub.status.busy": "2023-12-17T13:08:21.267334Z",
     "iopub.status.idle": "2023-12-17T13:08:21.271527Z",
     "shell.execute_reply": "2023-12-17T13:08:21.270778Z"
    },
    "papermill": {
     "duration": 0.013525,
     "end_time": "2023-12-17T13:08:21.273522",
     "exception": false,
     "start_time": "2023-12-17T13:08:21.259997",
     "status": "completed"
    },
    "tags": []
   },
   "outputs": [],
   "source": [
    "#q1.hint()\n",
    "#q1.solution()"
   ]
  },
  {
   "cell_type": "markdown",
   "id": "e8b3b6c7",
   "metadata": {
    "papermill": {
     "duration": 0.005589,
     "end_time": "2023-12-17T13:08:21.285093",
     "exception": false,
     "start_time": "2023-12-17T13:08:21.279504",
     "status": "completed"
    },
    "tags": []
   },
   "source": [
    "## 2.\n",
    "Set the index name in the dataset to `wines`."
   ]
  },
  {
   "cell_type": "code",
   "execution_count": 5,
   "id": "d13953aa",
   "metadata": {
    "execution": {
     "iopub.execute_input": "2023-12-17T13:08:21.299352Z",
     "iopub.status.busy": "2023-12-17T13:08:21.298136Z",
     "iopub.status.idle": "2023-12-17T13:08:21.319389Z",
     "shell.execute_reply": "2023-12-17T13:08:21.318634Z"
    },
    "papermill": {
     "duration": 0.030214,
     "end_time": "2023-12-17T13:08:21.321278",
     "exception": false,
     "start_time": "2023-12-17T13:08:21.291064",
     "status": "completed"
    },
    "tags": []
   },
   "outputs": [
    {
     "data": {
      "application/javascript": [
       "parent.postMessage({\"jupyterEvent\": \"custom.exercise_interaction\", \"data\": {\"outcomeType\": 1, \"valueTowardsCompletion\": 0.25, \"interactionType\": 1, \"questionType\": 1, \"questionId\": \"2_RenameIndex\", \"learnToolsVersion\": \"0.3.4\", \"failureMessage\": \"\", \"exceptionClass\": \"\", \"trace\": \"\"}}, \"*\")"
      ],
      "text/plain": [
       "<IPython.core.display.Javascript object>"
      ]
     },
     "metadata": {},
     "output_type": "display_data"
    },
    {
     "data": {
      "text/markdown": [
       "<span style=\"color:#33cc33\">Correct</span>"
      ],
      "text/plain": [
       "Correct"
      ]
     },
     "metadata": {},
     "output_type": "display_data"
    }
   ],
   "source": [
    "reindexed = reviews.rename_axis(\"wines\",axis='columns')\n",
    "\n",
    "# Check your answer\n",
    "q2.check()"
   ]
  },
  {
   "cell_type": "code",
   "execution_count": 6,
   "id": "d1ce917d",
   "metadata": {
    "execution": {
     "iopub.execute_input": "2023-12-17T13:08:21.335770Z",
     "iopub.status.busy": "2023-12-17T13:08:21.334662Z",
     "iopub.status.idle": "2023-12-17T13:08:21.338919Z",
     "shell.execute_reply": "2023-12-17T13:08:21.338120Z"
    },
    "papermill": {
     "duration": 0.013562,
     "end_time": "2023-12-17T13:08:21.340916",
     "exception": false,
     "start_time": "2023-12-17T13:08:21.327354",
     "status": "completed"
    },
    "tags": []
   },
   "outputs": [],
   "source": [
    "#q2.hint()\n",
    "#q2.solution()"
   ]
  },
  {
   "cell_type": "markdown",
   "id": "54bc97af",
   "metadata": {
    "papermill": {
     "duration": 0.006041,
     "end_time": "2023-12-17T13:08:21.353238",
     "exception": false,
     "start_time": "2023-12-17T13:08:21.347197",
     "status": "completed"
    },
    "tags": []
   },
   "source": [
    "## 3.\n",
    "The [Things on Reddit](https://www.kaggle.com/residentmario/things-on-reddit/data) dataset includes product links from a selection of top-ranked forums (\"subreddits\") on reddit.com. Run the cell below to load a dataframe of products mentioned on the */r/gaming* subreddit and another dataframe for products mentioned on the *r//movies* subreddit."
   ]
  },
  {
   "cell_type": "code",
   "execution_count": 7,
   "id": "a00a5b06",
   "metadata": {
    "execution": {
     "iopub.execute_input": "2023-12-17T13:08:21.368034Z",
     "iopub.status.busy": "2023-12-17T13:08:21.367380Z",
     "iopub.status.idle": "2023-12-17T13:08:21.382215Z",
     "shell.execute_reply": "2023-12-17T13:08:21.380781Z"
    },
    "papermill": {
     "duration": 0.025589,
     "end_time": "2023-12-17T13:08:21.385172",
     "exception": false,
     "start_time": "2023-12-17T13:08:21.359583",
     "status": "completed"
    },
    "tags": []
   },
   "outputs": [],
   "source": [
    "gaming_products = pd.read_csv(\"../input/things-on-reddit/top-things/top-things/reddits/g/gaming.csv\")\n",
    "gaming_products['subreddit'] = \"r/gaming\"\n",
    "movie_products = pd.read_csv(\"../input/things-on-reddit/top-things/top-things/reddits/m/movies.csv\")\n",
    "movie_products['subreddit'] = \"r/movies\""
   ]
  },
  {
   "cell_type": "markdown",
   "id": "ad399d32",
   "metadata": {
    "papermill": {
     "duration": 0.006007,
     "end_time": "2023-12-17T13:08:21.397718",
     "exception": false,
     "start_time": "2023-12-17T13:08:21.391711",
     "status": "completed"
    },
    "tags": []
   },
   "source": [
    "Create a `DataFrame` of products mentioned on *either* subreddit."
   ]
  },
  {
   "cell_type": "code",
   "execution_count": 8,
   "id": "a46114ba",
   "metadata": {
    "execution": {
     "iopub.execute_input": "2023-12-17T13:08:21.411976Z",
     "iopub.status.busy": "2023-12-17T13:08:21.411535Z",
     "iopub.status.idle": "2023-12-17T13:08:21.423936Z",
     "shell.execute_reply": "2023-12-17T13:08:21.423200Z"
    },
    "papermill": {
     "duration": 0.021846,
     "end_time": "2023-12-17T13:08:21.425807",
     "exception": false,
     "start_time": "2023-12-17T13:08:21.403961",
     "status": "completed"
    },
    "tags": []
   },
   "outputs": [
    {
     "data": {
      "application/javascript": [
       "parent.postMessage({\"jupyterEvent\": \"custom.exercise_interaction\", \"data\": {\"outcomeType\": 1, \"valueTowardsCompletion\": 0.25, \"interactionType\": 1, \"questionType\": 2, \"questionId\": \"3_ConcatReddit\", \"learnToolsVersion\": \"0.3.4\", \"failureMessage\": \"\", \"exceptionClass\": \"\", \"trace\": \"\"}}, \"*\")"
      ],
      "text/plain": [
       "<IPython.core.display.Javascript object>"
      ]
     },
     "metadata": {},
     "output_type": "display_data"
    },
    {
     "data": {
      "text/markdown": [
       "<span style=\"color:#33cc33\">Correct</span>"
      ],
      "text/plain": [
       "Correct"
      ]
     },
     "metadata": {},
     "output_type": "display_data"
    }
   ],
   "source": [
    "combined_products = pd.concat([gaming_products,movie_products])\n",
    "\n",
    "# Check your answer\n",
    "q3.check()"
   ]
  },
  {
   "cell_type": "code",
   "execution_count": 9,
   "id": "55bd0f88",
   "metadata": {
    "execution": {
     "iopub.execute_input": "2023-12-17T13:08:21.441365Z",
     "iopub.status.busy": "2023-12-17T13:08:21.440275Z",
     "iopub.status.idle": "2023-12-17T13:08:21.445337Z",
     "shell.execute_reply": "2023-12-17T13:08:21.444231Z"
    },
    "papermill": {
     "duration": 0.015234,
     "end_time": "2023-12-17T13:08:21.447592",
     "exception": false,
     "start_time": "2023-12-17T13:08:21.432358",
     "status": "completed"
    },
    "tags": []
   },
   "outputs": [],
   "source": [
    "#q3.hint()\n",
    "#q3.solution()"
   ]
  },
  {
   "cell_type": "markdown",
   "id": "3ebed5cf",
   "metadata": {
    "papermill": {
     "duration": 0.006148,
     "end_time": "2023-12-17T13:08:21.460288",
     "exception": false,
     "start_time": "2023-12-17T13:08:21.454140",
     "status": "completed"
    },
    "tags": []
   },
   "source": [
    "## 4.\n",
    "The [Powerlifting Database](https://www.kaggle.com/open-powerlifting/powerlifting-database) dataset on Kaggle includes one CSV table for powerlifting meets and a separate one for powerlifting competitors. Run the cell below to load these datasets into dataframes:"
   ]
  },
  {
   "cell_type": "code",
   "execution_count": 10,
   "id": "7449d66b",
   "metadata": {
    "execution": {
     "iopub.execute_input": "2023-12-17T13:08:21.475101Z",
     "iopub.status.busy": "2023-12-17T13:08:21.474665Z",
     "iopub.status.idle": "2023-12-17T13:08:22.305834Z",
     "shell.execute_reply": "2023-12-17T13:08:22.304543Z"
    },
    "papermill": {
     "duration": 0.841472,
     "end_time": "2023-12-17T13:08:22.308321",
     "exception": false,
     "start_time": "2023-12-17T13:08:21.466849",
     "status": "completed"
    },
    "tags": []
   },
   "outputs": [],
   "source": [
    "powerlifting_meets = pd.read_csv(\"../input/powerlifting-database/meets.csv\")\n",
    "powerlifting_competitors = pd.read_csv(\"../input/powerlifting-database/openpowerlifting.csv\")"
   ]
  },
  {
   "cell_type": "markdown",
   "id": "7f267d1a",
   "metadata": {
    "papermill": {
     "duration": 0.006561,
     "end_time": "2023-12-17T13:08:22.321462",
     "exception": false,
     "start_time": "2023-12-17T13:08:22.314901",
     "status": "completed"
    },
    "tags": []
   },
   "source": [
    "Both tables include references to a `MeetID`, a unique key for each meet (competition) included in the database. Using this, generate a dataset combining the two tables into one."
   ]
  },
  {
   "cell_type": "code",
   "execution_count": 11,
   "id": "5fbd1e63",
   "metadata": {
    "execution": {
     "iopub.execute_input": "2023-12-17T13:08:22.336376Z",
     "iopub.status.busy": "2023-12-17T13:08:22.335953Z",
     "iopub.status.idle": "2023-12-17T13:08:23.176863Z",
     "shell.execute_reply": "2023-12-17T13:08:23.175842Z"
    },
    "papermill": {
     "duration": 0.851144,
     "end_time": "2023-12-17T13:08:23.179299",
     "exception": false,
     "start_time": "2023-12-17T13:08:22.328155",
     "status": "completed"
    },
    "tags": []
   },
   "outputs": [
    {
     "data": {
      "application/javascript": [
       "parent.postMessage({\"jupyterEvent\": \"custom.exercise_interaction\", \"data\": {\"outcomeType\": 1, \"valueTowardsCompletion\": 0.25, \"interactionType\": 1, \"questionType\": 2, \"questionId\": \"4_JoinLifting\", \"learnToolsVersion\": \"0.3.4\", \"failureMessage\": \"\", \"exceptionClass\": \"\", \"trace\": \"\"}}, \"*\")"
      ],
      "text/plain": [
       "<IPython.core.display.Javascript object>"
      ]
     },
     "metadata": {},
     "output_type": "display_data"
    },
    {
     "data": {
      "text/markdown": [
       "<span style=\"color:#33cc33\">Correct</span>"
      ],
      "text/plain": [
       "Correct"
      ]
     },
     "metadata": {},
     "output_type": "display_data"
    }
   ],
   "source": [
    "powerlifting_combined = powerlifting_meets.set_index(['MeetID']).join(powerlifting_competitors.set_index(['MeetID']))\n",
    "\n",
    "# Check your answer\n",
    "q4.check()"
   ]
  },
  {
   "cell_type": "code",
   "execution_count": 12,
   "id": "5ba91ab8",
   "metadata": {
    "execution": {
     "iopub.execute_input": "2023-12-17T13:08:23.194858Z",
     "iopub.status.busy": "2023-12-17T13:08:23.194371Z",
     "iopub.status.idle": "2023-12-17T13:08:23.199204Z",
     "shell.execute_reply": "2023-12-17T13:08:23.197989Z"
    },
    "papermill": {
     "duration": 0.016016,
     "end_time": "2023-12-17T13:08:23.202174",
     "exception": false,
     "start_time": "2023-12-17T13:08:23.186158",
     "status": "completed"
    },
    "tags": []
   },
   "outputs": [],
   "source": [
    "#q4.hint()\n",
    "#q4.solution()"
   ]
  },
  {
   "cell_type": "markdown",
   "id": "30204da2",
   "metadata": {
    "papermill": {
     "duration": 0.008072,
     "end_time": "2023-12-17T13:08:23.220640",
     "exception": false,
     "start_time": "2023-12-17T13:08:23.212568",
     "status": "completed"
    },
    "tags": []
   },
   "source": [
    "# Congratulations!\n",
    "\n",
    "You've finished the Pandas micro-course.  Many data scientists feel efficiency with Pandas is the most useful and practical skill they have, because it allows you to progress quickly in any project you have.\n",
    "\n",
    "If you'd like to apply your new skills to examining geospatial data, you're encouraged to check out our **[Geospatial Analysis](https://www.kaggle.com/learn/geospatial-analysis)** micro-course.\n",
    "\n",
    "You can also take advantage of your Pandas skills by entering a **[Kaggle Competition](https://www.kaggle.com/competitions)** or by answering a question you find interesting using **[Kaggle Datasets](https://www.kaggle.com/datasets)**."
   ]
  },
  {
   "cell_type": "markdown",
   "id": "598ba6b1",
   "metadata": {
    "papermill": {
     "duration": 0.006988,
     "end_time": "2023-12-17T13:08:23.234558",
     "exception": false,
     "start_time": "2023-12-17T13:08:23.227570",
     "status": "completed"
    },
    "tags": []
   },
   "source": [
    "---\n",
    "\n",
    "\n",
    "\n",
    "\n",
    "*Have questions or comments? Visit the [course discussion forum](https://www.kaggle.com/learn/pandas/discussion) to chat with other learners.*"
   ]
  }
 ],
 "metadata": {
  "kaggle": {
   "accelerator": "none",
   "dataSources": [
    {
     "datasetId": 655,
     "sourceId": 1252,
     "sourceType": "datasetVersion"
    },
    {
     "datasetId": 2321,
     "sourceId": 3919,
     "sourceType": "datasetVersion"
    },
    {
     "datasetId": 2894,
     "sourceId": 4877,
     "sourceType": "datasetVersion"
    },
    {
     "datasetId": 3491,
     "sourceId": 5624,
     "sourceType": "datasetVersion"
    },
    {
     "datasetId": 1442,
     "sourceId": 8172,
     "sourceType": "datasetVersion"
    },
    {
     "datasetId": 9366,
     "sourceId": 13206,
     "sourceType": "datasetVersion"
    },
    {
     "datasetId": 179555,
     "sourceId": 403916,
     "sourceType": "datasetVersion"
    },
    {
     "datasetId": 4549,
     "sourceId": 466349,
     "sourceType": "datasetVersion"
    },
    {
     "datasetId": 2478,
     "sourceId": 1151655,
     "sourceType": "datasetVersion"
    },
    {
     "datasetId": 10128,
     "sourceId": 5438389,
     "sourceType": "datasetVersion"
    }
   ],
   "isGpuEnabled": false,
   "isInternetEnabled": false,
   "language": "python",
   "sourceType": "notebook"
  },
  "kernelspec": {
   "display_name": "Python 3",
   "language": "python",
   "name": "python3"
  },
  "language_info": {
   "codemirror_mode": {
    "name": "ipython",
    "version": 3
   },
   "file_extension": ".py",
   "mimetype": "text/x-python",
   "name": "python",
   "nbconvert_exporter": "python",
   "pygments_lexer": "ipython3",
   "version": "3.10.12"
  },
  "papermill": {
   "default_parameters": {},
   "duration": 10.511951,
   "end_time": "2023-12-17T13:08:23.863995",
   "environment_variables": {},
   "exception": null,
   "input_path": "__notebook__.ipynb",
   "output_path": "__notebook__.ipynb",
   "parameters": {},
   "start_time": "2023-12-17T13:08:13.352044",
   "version": "2.4.0"
  }
 },
 "nbformat": 4,
 "nbformat_minor": 5
}
