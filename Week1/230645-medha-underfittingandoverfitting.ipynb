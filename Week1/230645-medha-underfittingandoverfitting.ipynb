{
 "cells": [
  {
   "cell_type": "markdown",
   "id": "48da2016",
   "metadata": {
    "papermill": {
     "duration": 0.003372,
     "end_time": "2023-12-17T13:04:04.468895",
     "exception": false,
     "start_time": "2023-12-17T13:04:04.465523",
     "status": "completed"
    },
    "tags": []
   },
   "source": [
    "## Recap\n",
    "You've built your first model, and now it's time to optimize the size of the tree to make better predictions. Run this cell to set up your coding environment where the previous step left off."
   ]
  },
  {
   "cell_type": "markdown",
   "id": "60e191b6",
   "metadata": {
    "papermill": {
     "duration": 0.002592,
     "end_time": "2023-12-17T13:04:04.474509",
     "exception": false,
     "start_time": "2023-12-17T13:04:04.471917",
     "status": "completed"
    },
    "tags": []
   },
   "source": [
    "**This notebook is an exercise in the [Introduction to Machine Learning](https://www.kaggle.com/learn/intro-to-machine-learning) course.  You can reference the tutorial at [this link](https://www.kaggle.com/dansbecker/underfitting-and-overfitting).**\n",
    "\n",
    "---\n"
   ]
  },
  {
   "cell_type": "code",
   "execution_count": 1,
   "id": "d62848e7",
   "metadata": {
    "execution": {
     "iopub.execute_input": "2023-12-17T13:04:04.481830Z",
     "iopub.status.busy": "2023-12-17T13:04:04.481514Z",
     "iopub.status.idle": "2023-12-17T13:04:06.160560Z",
     "shell.execute_reply": "2023-12-17T13:04:06.159339Z"
    },
    "papermill": {
     "duration": 1.685235,
     "end_time": "2023-12-17T13:04:06.162439",
     "exception": false,
     "start_time": "2023-12-17T13:04:04.477204",
     "status": "completed"
    },
    "tags": []
   },
   "outputs": [
    {
     "name": "stdout",
     "output_type": "stream",
     "text": [
      "Validation MAE: 29,653\n",
      "\n",
      "Setup complete\n"
     ]
    }
   ],
   "source": [
    "# Code you have previously used to load data\n",
    "import pandas as pd\n",
    "from sklearn.metrics import mean_absolute_error\n",
    "from sklearn.model_selection import train_test_split\n",
    "from sklearn.tree import DecisionTreeRegressor\n",
    "\n",
    "\n",
    "# Path of the file to read\n",
    "iowa_file_path = '../input/home-data-for-ml-course/train.csv'\n",
    "\n",
    "home_data = pd.read_csv(iowa_file_path)\n",
    "# Create target object and call it y\n",
    "y = home_data.SalePrice\n",
    "# Create X\n",
    "features = ['LotArea', 'YearBuilt', '1stFlrSF', '2ndFlrSF', 'FullBath', 'BedroomAbvGr', 'TotRmsAbvGrd']\n",
    "X = home_data[features]\n",
    "\n",
    "# Split into validation and training data\n",
    "train_X, val_X, train_y, val_y = train_test_split(X, y, random_state=1)\n",
    "\n",
    "# Specify Model\n",
    "iowa_model = DecisionTreeRegressor(random_state=1)\n",
    "# Fit Model\n",
    "iowa_model.fit(train_X, train_y)\n",
    "\n",
    "# Make validation predictions and calculate mean absolute error\n",
    "val_predictions = iowa_model.predict(val_X)\n",
    "val_mae = mean_absolute_error(val_predictions, val_y)\n",
    "print(\"Validation MAE: {:,.0f}\".format(val_mae))\n",
    "\n",
    "# Set up code checking\n",
    "from learntools.core import binder\n",
    "binder.bind(globals())\n",
    "from learntools.machine_learning.ex5 import *\n",
    "print(\"\\nSetup complete\")"
   ]
  },
  {
   "cell_type": "markdown",
   "id": "de1b32e7",
   "metadata": {
    "papermill": {
     "duration": 0.002651,
     "end_time": "2023-12-17T13:04:06.168259",
     "exception": false,
     "start_time": "2023-12-17T13:04:06.165608",
     "status": "completed"
    },
    "tags": []
   },
   "source": [
    "# Exercises\n",
    "You could write the function `get_mae` yourself. For now, we'll supply it. This is the same function you read about in the previous lesson. Just run the cell below."
   ]
  },
  {
   "cell_type": "code",
   "execution_count": 2,
   "id": "1b06911e",
   "metadata": {
    "execution": {
     "iopub.execute_input": "2023-12-17T13:04:06.175387Z",
     "iopub.status.busy": "2023-12-17T13:04:06.175044Z",
     "iopub.status.idle": "2023-12-17T13:04:06.180042Z",
     "shell.execute_reply": "2023-12-17T13:04:06.179163Z"
    },
    "papermill": {
     "duration": 0.011257,
     "end_time": "2023-12-17T13:04:06.182295",
     "exception": false,
     "start_time": "2023-12-17T13:04:06.171038",
     "status": "completed"
    },
    "tags": []
   },
   "outputs": [],
   "source": [
    "def get_mae(max_leaf_nodes, train_X, val_X, train_y, val_y):\n",
    "    model = DecisionTreeRegressor(max_leaf_nodes=max_leaf_nodes, random_state=0)\n",
    "    model.fit(train_X, train_y)\n",
    "    preds_val = model.predict(val_X)\n",
    "    mae = mean_absolute_error(val_y, preds_val)\n",
    "    return(mae)"
   ]
  },
  {
   "cell_type": "markdown",
   "id": "ffa2f07d",
   "metadata": {
    "papermill": {
     "duration": 0.002589,
     "end_time": "2023-12-17T13:04:06.188040",
     "exception": false,
     "start_time": "2023-12-17T13:04:06.185451",
     "status": "completed"
    },
    "tags": []
   },
   "source": [
    "## Step 1: Compare Different Tree Sizes\n",
    "Write a loop that tries the following values for *max_leaf_nodes* from a set of possible values.\n",
    "\n",
    "Call the *get_mae* function on each value of max_leaf_nodes. Store the output in some way that allows you to select the value of `max_leaf_nodes` that gives the most accurate model on your data."
   ]
  },
  {
   "cell_type": "code",
   "execution_count": 3,
   "id": "074ddcf0",
   "metadata": {
    "execution": {
     "iopub.execute_input": "2023-12-17T13:04:06.195604Z",
     "iopub.status.busy": "2023-12-17T13:04:06.195032Z",
     "iopub.status.idle": "2023-12-17T13:04:06.238590Z",
     "shell.execute_reply": "2023-12-17T13:04:06.237355Z"
    },
    "papermill": {
     "duration": 0.049948,
     "end_time": "2023-12-17T13:04:06.240802",
     "exception": false,
     "start_time": "2023-12-17T13:04:06.190854",
     "status": "completed"
    },
    "tags": []
   },
   "outputs": [
    {
     "data": {
      "application/javascript": [
       "parent.postMessage({\"jupyterEvent\": \"custom.exercise_interaction\", \"data\": {\"outcomeType\": 1, \"valueTowardsCompletion\": 0.5, \"interactionType\": 1, \"questionType\": 1, \"questionId\": \"1_BestTreeSize\", \"learnToolsVersion\": \"0.3.4\", \"failureMessage\": \"\", \"exceptionClass\": \"\", \"trace\": \"\"}}, \"*\")"
      ],
      "text/plain": [
       "<IPython.core.display.Javascript object>"
      ]
     },
     "metadata": {},
     "output_type": "display_data"
    },
    {
     "data": {
      "text/markdown": [
       "<span style=\"color:#33cc33\">Correct</span>"
      ],
      "text/plain": [
       "Correct"
      ]
     },
     "metadata": {},
     "output_type": "display_data"
    }
   ],
   "source": [
    "# candidate_max_leaf_nodes is a list of possible values for max_leaf_nodes\n",
    "candidate_max_leaf_nodes = [5, 25, 50, 100, 250, 500]\n",
    "\n",
    "# Using a dictionary comprehension to store MAE scores for each candidate max_leaf_nodes\n",
    "scores = {leaf_size: get_mae(leaf_size, train_X, val_X, train_y, val_y) for leaf_size in candidate_max_leaf_nodes}\n",
    "\n",
    "# Finding the key (max_leaf_nodes value) that corresponds to the minimum MAE\n",
    "best_tree_size = min(scores, key=scores.get)\n",
    "# Check your answer\n",
    "step_1.check()"
   ]
  },
  {
   "cell_type": "code",
   "execution_count": 4,
   "id": "4fa2d7e4",
   "metadata": {
    "execution": {
     "iopub.execute_input": "2023-12-17T13:04:06.248911Z",
     "iopub.status.busy": "2023-12-17T13:04:06.248552Z",
     "iopub.status.idle": "2023-12-17T13:04:06.252218Z",
     "shell.execute_reply": "2023-12-17T13:04:06.251380Z"
    },
    "papermill": {
     "duration": 0.010301,
     "end_time": "2023-12-17T13:04:06.254463",
     "exception": false,
     "start_time": "2023-12-17T13:04:06.244162",
     "status": "completed"
    },
    "tags": []
   },
   "outputs": [],
   "source": [
    "# The lines below will show you a hint or the solution.\n",
    "#step_1.hint() \n",
    "#step_1.solution()"
   ]
  },
  {
   "cell_type": "markdown",
   "id": "67cd7484",
   "metadata": {
    "papermill": {
     "duration": 0.003113,
     "end_time": "2023-12-17T13:04:06.261154",
     "exception": false,
     "start_time": "2023-12-17T13:04:06.258041",
     "status": "completed"
    },
    "tags": []
   },
   "source": [
    "## Step 2: Fit Model Using All Data\n",
    "You know the best tree size. If you were going to deploy this model in practice, you would make it even more accurate by using all of the data and keeping that tree size.  That is, you don't need to hold out the validation data now that you've made all your modeling decisions."
   ]
  },
  {
   "cell_type": "code",
   "execution_count": 5,
   "id": "72dfb645",
   "metadata": {
    "execution": {
     "iopub.execute_input": "2023-12-17T13:04:06.269356Z",
     "iopub.status.busy": "2023-12-17T13:04:06.268978Z",
     "iopub.status.idle": "2023-12-17T13:04:06.284352Z",
     "shell.execute_reply": "2023-12-17T13:04:06.283466Z"
    },
    "papermill": {
     "duration": 0.021595,
     "end_time": "2023-12-17T13:04:06.286056",
     "exception": false,
     "start_time": "2023-12-17T13:04:06.264461",
     "status": "completed"
    },
    "tags": []
   },
   "outputs": [
    {
     "data": {
      "application/javascript": [
       "parent.postMessage({\"jupyterEvent\": \"custom.exercise_interaction\", \"data\": {\"outcomeType\": 1, \"valueTowardsCompletion\": 0.5, \"interactionType\": 1, \"questionType\": 2, \"questionId\": \"2_FitModelWithAllData\", \"learnToolsVersion\": \"0.3.4\", \"failureMessage\": \"\", \"exceptionClass\": \"\", \"trace\": \"\"}}, \"*\")"
      ],
      "text/plain": [
       "<IPython.core.display.Javascript object>"
      ]
     },
     "metadata": {},
     "output_type": "display_data"
    },
    {
     "data": {
      "text/markdown": [
       "<span style=\"color:#33cc33\">Correct</span>"
      ],
      "text/plain": [
       "Correct"
      ]
     },
     "metadata": {},
     "output_type": "display_data"
    }
   ],
   "source": [
    "# Fill in argument to make optimal size and uncomment\n",
    "final_model = DecisionTreeRegressor(max_leaf_nodes=best_tree_size, random_state=0)\n",
    "\n",
    "# fit the final model and uncomment the next two lines\n",
    "final_model.fit(X,y)\n",
    "\n",
    "# Check your answer\n",
    "step_2.check()"
   ]
  },
  {
   "cell_type": "code",
   "execution_count": 6,
   "id": "7c3b277f",
   "metadata": {
    "execution": {
     "iopub.execute_input": "2023-12-17T13:04:06.294512Z",
     "iopub.status.busy": "2023-12-17T13:04:06.294215Z",
     "iopub.status.idle": "2023-12-17T13:04:06.298180Z",
     "shell.execute_reply": "2023-12-17T13:04:06.297062Z"
    },
    "papermill": {
     "duration": 0.01068,
     "end_time": "2023-12-17T13:04:06.300371",
     "exception": false,
     "start_time": "2023-12-17T13:04:06.289691",
     "status": "completed"
    },
    "tags": []
   },
   "outputs": [],
   "source": [
    "# step_2.hint()\n",
    "#step_2.solution()"
   ]
  },
  {
   "cell_type": "markdown",
   "id": "ca49e35d",
   "metadata": {
    "papermill": {
     "duration": 0.003165,
     "end_time": "2023-12-17T13:04:06.307365",
     "exception": false,
     "start_time": "2023-12-17T13:04:06.304200",
     "status": "completed"
    },
    "tags": []
   },
   "source": [
    "You've tuned this model and improved your results. But we are still using Decision Tree models, which are not very sophisticated by modern machine learning standards. In the next step you will learn to use Random Forests to improve your models even more.\n",
    "\n",
    "# Keep Going\n",
    "\n",
    "You are ready for **[Random Forests](https://www.kaggle.com/dansbecker/random-forests).**\n"
   ]
  },
  {
   "cell_type": "markdown",
   "id": "cf8b36a1",
   "metadata": {
    "papermill": {
     "duration": 0.003059,
     "end_time": "2023-12-17T13:04:06.313701",
     "exception": false,
     "start_time": "2023-12-17T13:04:06.310642",
     "status": "completed"
    },
    "tags": []
   },
   "source": [
    "---\n",
    "\n",
    "\n",
    "\n",
    "\n",
    "*Have questions or comments? Visit the [course discussion forum](https://www.kaggle.com/learn/intro-to-machine-learning/discussion) to chat with other learners.*"
   ]
  }
 ],
 "metadata": {
  "kaggle": {
   "accelerator": "none",
   "dataSources": [
    {
     "databundleVersionId": 111096,
     "sourceId": 10211,
     "sourceType": "competition"
    },
    {
     "datasetId": 11167,
     "sourceId": 15520,
     "sourceType": "datasetVersion"
    },
    {
     "datasetId": 2709,
     "sourceId": 38454,
     "sourceType": "datasetVersion"
    }
   ],
   "isGpuEnabled": false,
   "isInternetEnabled": false,
   "language": "python",
   "sourceType": "notebook"
  },
  "kernelspec": {
   "display_name": "Python 3",
   "language": "python",
   "name": "python3"
  },
  "language_info": {
   "codemirror_mode": {
    "name": "ipython",
    "version": 3
   },
   "file_extension": ".py",
   "mimetype": "text/x-python",
   "name": "python",
   "nbconvert_exporter": "python",
   "pygments_lexer": "ipython3",
   "version": "3.10.12"
  },
  "papermill": {
   "default_parameters": {},
   "duration": 4.742976,
   "end_time": "2023-12-17T13:04:06.735090",
   "environment_variables": {},
   "exception": null,
   "input_path": "__notebook__.ipynb",
   "output_path": "__notebook__.ipynb",
   "parameters": {},
   "start_time": "2023-12-17T13:04:01.992114",
   "version": "2.4.0"
  }
 },
 "nbformat": 4,
 "nbformat_minor": 5
}
