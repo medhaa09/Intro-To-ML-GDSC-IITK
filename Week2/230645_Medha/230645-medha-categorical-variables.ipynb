{
 "cells": [
  {
   "cell_type": "markdown",
   "id": "b8e9eb19",
   "metadata": {
    "papermill": {
     "duration": 0.012868,
     "end_time": "2023-12-24T14:28:49.479963",
     "exception": false,
     "start_time": "2023-12-24T14:28:49.467095",
     "status": "completed"
    },
    "tags": []
   },
   "source": [
    "**This notebook is an exercise in the [Intermediate Machine Learning](https://www.kaggle.com/learn/intermediate-machine-learning) course.  You can reference the tutorial at [this link](https://www.kaggle.com/alexisbcook/categorical-variables).**\n",
    "\n",
    "---\n"
   ]
  },
  {
   "cell_type": "markdown",
   "id": "6c490d43",
   "metadata": {
    "papermill": {
     "duration": 0.012132,
     "end_time": "2023-12-24T14:28:49.504748",
     "exception": false,
     "start_time": "2023-12-24T14:28:49.492616",
     "status": "completed"
    },
    "tags": []
   },
   "source": [
    "By encoding **categorical variables**, you'll obtain your best results thus far!\n",
    "\n",
    "# Setup\n",
    "\n",
    "The questions below will give you feedback on your work. Run the following cell to set up the feedback system."
   ]
  },
  {
   "cell_type": "code",
   "execution_count": 1,
   "id": "33ba90fd",
   "metadata": {
    "execution": {
     "iopub.execute_input": "2023-12-24T14:28:49.532994Z",
     "iopub.status.busy": "2023-12-24T14:28:49.532255Z",
     "iopub.status.idle": "2023-12-24T14:28:50.078127Z",
     "shell.execute_reply": "2023-12-24T14:28:50.076328Z"
    },
    "papermill": {
     "duration": 0.563341,
     "end_time": "2023-12-24T14:28:50.081127",
     "exception": false,
     "start_time": "2023-12-24T14:28:49.517786",
     "status": "completed"
    },
    "tags": []
   },
   "outputs": [
    {
     "name": "stdout",
     "output_type": "stream",
     "text": [
      "Setup Complete\n"
     ]
    }
   ],
   "source": [
    "# Set up code checking\n",
    "import os\n",
    "if not os.path.exists(\"../input/train.csv\"):\n",
    "    os.symlink(\"../input/home-data-for-ml-course/train.csv\", \"../input/train.csv\")  \n",
    "    os.symlink(\"../input/home-data-for-ml-course/test.csv\", \"../input/test.csv\") \n",
    "from learntools.core import binder\n",
    "binder.bind(globals())\n",
    "from learntools.ml_intermediate.ex3 import *\n",
    "print(\"Setup Complete\")"
   ]
  },
  {
   "cell_type": "markdown",
   "id": "18315e16",
   "metadata": {
    "papermill": {
     "duration": 0.013824,
     "end_time": "2023-12-24T14:28:50.107981",
     "exception": false,
     "start_time": "2023-12-24T14:28:50.094157",
     "status": "completed"
    },
    "tags": []
   },
   "source": [
    "In this exercise, you will work with data from the [Housing Prices Competition for Kaggle Learn Users](https://www.kaggle.com/c/home-data-for-ml-course). \n",
    "\n",
    "![Ames Housing dataset image](https://storage.googleapis.com/kaggle-media/learn/images/lTJVG4e.png)\n",
    "\n",
    "Run the next code cell without changes to load the training and validation sets in `X_train`, `X_valid`, `y_train`, and `y_valid`.  The test set is loaded in `X_test`."
   ]
  },
  {
   "cell_type": "code",
   "execution_count": 2,
   "id": "4c6841ff",
   "metadata": {
    "execution": {
     "iopub.execute_input": "2023-12-24T14:28:50.137340Z",
     "iopub.status.busy": "2023-12-24T14:28:50.136675Z",
     "iopub.status.idle": "2023-12-24T14:28:51.721865Z",
     "shell.execute_reply": "2023-12-24T14:28:51.720688Z"
    },
    "papermill": {
     "duration": 1.603241,
     "end_time": "2023-12-24T14:28:51.724810",
     "exception": false,
     "start_time": "2023-12-24T14:28:50.121569",
     "status": "completed"
    },
    "tags": []
   },
   "outputs": [],
   "source": [
    "import pandas as pd\n",
    "from sklearn.model_selection import train_test_split\n",
    "\n",
    "# Read the data\n",
    "X = pd.read_csv('../input/train.csv', index_col='Id') \n",
    "X_test = pd.read_csv('../input/test.csv', index_col='Id')\n",
    "\n",
    "# Remove rows with missing target, separate target from predictors\n",
    "X.dropna(axis=0, subset=['SalePrice'], inplace=True)\n",
    "y = X.SalePrice\n",
    "X.drop(['SalePrice'], axis=1, inplace=True)\n",
    "\n",
    "# To keep things simple, we'll drop columns with missing values\n",
    "cols_with_missing = [col for col in X.columns if X[col].isnull().any()] \n",
    "X.drop(cols_with_missing, axis=1, inplace=True)\n",
    "X_test.drop(cols_with_missing, axis=1, inplace=True)\n",
    "\n",
    "# Break off validation set from training data\n",
    "X_train, X_valid, y_train, y_valid = train_test_split(X, y,\n",
    "                                                      train_size=0.8, test_size=0.2,\n",
    "                                                      random_state=0)"
   ]
  },
  {
   "cell_type": "markdown",
   "id": "bc0c400d",
   "metadata": {
    "papermill": {
     "duration": 0.01243,
     "end_time": "2023-12-24T14:28:51.750120",
     "exception": false,
     "start_time": "2023-12-24T14:28:51.737690",
     "status": "completed"
    },
    "tags": []
   },
   "source": [
    "Use the next code cell to print the first five rows of the data."
   ]
  },
  {
   "cell_type": "code",
   "execution_count": 3,
   "id": "822cc900",
   "metadata": {
    "execution": {
     "iopub.execute_input": "2023-12-24T14:28:51.777829Z",
     "iopub.status.busy": "2023-12-24T14:28:51.776327Z",
     "iopub.status.idle": "2023-12-24T14:28:51.807135Z",
     "shell.execute_reply": "2023-12-24T14:28:51.806240Z"
    },
    "papermill": {
     "duration": 0.047165,
     "end_time": "2023-12-24T14:28:51.809719",
     "exception": false,
     "start_time": "2023-12-24T14:28:51.762554",
     "status": "completed"
    },
    "tags": []
   },
   "outputs": [
    {
     "data": {
      "text/html": [
       "<div>\n",
       "<style scoped>\n",
       "    .dataframe tbody tr th:only-of-type {\n",
       "        vertical-align: middle;\n",
       "    }\n",
       "\n",
       "    .dataframe tbody tr th {\n",
       "        vertical-align: top;\n",
       "    }\n",
       "\n",
       "    .dataframe thead th {\n",
       "        text-align: right;\n",
       "    }\n",
       "</style>\n",
       "<table border=\"1\" class=\"dataframe\">\n",
       "  <thead>\n",
       "    <tr style=\"text-align: right;\">\n",
       "      <th></th>\n",
       "      <th>MSSubClass</th>\n",
       "      <th>MSZoning</th>\n",
       "      <th>LotArea</th>\n",
       "      <th>Street</th>\n",
       "      <th>LotShape</th>\n",
       "      <th>LandContour</th>\n",
       "      <th>Utilities</th>\n",
       "      <th>LotConfig</th>\n",
       "      <th>LandSlope</th>\n",
       "      <th>Neighborhood</th>\n",
       "      <th>...</th>\n",
       "      <th>OpenPorchSF</th>\n",
       "      <th>EnclosedPorch</th>\n",
       "      <th>3SsnPorch</th>\n",
       "      <th>ScreenPorch</th>\n",
       "      <th>PoolArea</th>\n",
       "      <th>MiscVal</th>\n",
       "      <th>MoSold</th>\n",
       "      <th>YrSold</th>\n",
       "      <th>SaleType</th>\n",
       "      <th>SaleCondition</th>\n",
       "    </tr>\n",
       "    <tr>\n",
       "      <th>Id</th>\n",
       "      <th></th>\n",
       "      <th></th>\n",
       "      <th></th>\n",
       "      <th></th>\n",
       "      <th></th>\n",
       "      <th></th>\n",
       "      <th></th>\n",
       "      <th></th>\n",
       "      <th></th>\n",
       "      <th></th>\n",
       "      <th></th>\n",
       "      <th></th>\n",
       "      <th></th>\n",
       "      <th></th>\n",
       "      <th></th>\n",
       "      <th></th>\n",
       "      <th></th>\n",
       "      <th></th>\n",
       "      <th></th>\n",
       "      <th></th>\n",
       "      <th></th>\n",
       "    </tr>\n",
       "  </thead>\n",
       "  <tbody>\n",
       "    <tr>\n",
       "      <th>619</th>\n",
       "      <td>20</td>\n",
       "      <td>RL</td>\n",
       "      <td>11694</td>\n",
       "      <td>Pave</td>\n",
       "      <td>Reg</td>\n",
       "      <td>Lvl</td>\n",
       "      <td>AllPub</td>\n",
       "      <td>Inside</td>\n",
       "      <td>Gtl</td>\n",
       "      <td>NridgHt</td>\n",
       "      <td>...</td>\n",
       "      <td>108</td>\n",
       "      <td>0</td>\n",
       "      <td>0</td>\n",
       "      <td>260</td>\n",
       "      <td>0</td>\n",
       "      <td>0</td>\n",
       "      <td>7</td>\n",
       "      <td>2007</td>\n",
       "      <td>New</td>\n",
       "      <td>Partial</td>\n",
       "    </tr>\n",
       "    <tr>\n",
       "      <th>871</th>\n",
       "      <td>20</td>\n",
       "      <td>RL</td>\n",
       "      <td>6600</td>\n",
       "      <td>Pave</td>\n",
       "      <td>Reg</td>\n",
       "      <td>Lvl</td>\n",
       "      <td>AllPub</td>\n",
       "      <td>Inside</td>\n",
       "      <td>Gtl</td>\n",
       "      <td>NAmes</td>\n",
       "      <td>...</td>\n",
       "      <td>0</td>\n",
       "      <td>0</td>\n",
       "      <td>0</td>\n",
       "      <td>0</td>\n",
       "      <td>0</td>\n",
       "      <td>0</td>\n",
       "      <td>8</td>\n",
       "      <td>2009</td>\n",
       "      <td>WD</td>\n",
       "      <td>Normal</td>\n",
       "    </tr>\n",
       "    <tr>\n",
       "      <th>93</th>\n",
       "      <td>30</td>\n",
       "      <td>RL</td>\n",
       "      <td>13360</td>\n",
       "      <td>Pave</td>\n",
       "      <td>IR1</td>\n",
       "      <td>HLS</td>\n",
       "      <td>AllPub</td>\n",
       "      <td>Inside</td>\n",
       "      <td>Gtl</td>\n",
       "      <td>Crawfor</td>\n",
       "      <td>...</td>\n",
       "      <td>0</td>\n",
       "      <td>44</td>\n",
       "      <td>0</td>\n",
       "      <td>0</td>\n",
       "      <td>0</td>\n",
       "      <td>0</td>\n",
       "      <td>8</td>\n",
       "      <td>2009</td>\n",
       "      <td>WD</td>\n",
       "      <td>Normal</td>\n",
       "    </tr>\n",
       "    <tr>\n",
       "      <th>818</th>\n",
       "      <td>20</td>\n",
       "      <td>RL</td>\n",
       "      <td>13265</td>\n",
       "      <td>Pave</td>\n",
       "      <td>IR1</td>\n",
       "      <td>Lvl</td>\n",
       "      <td>AllPub</td>\n",
       "      <td>CulDSac</td>\n",
       "      <td>Gtl</td>\n",
       "      <td>Mitchel</td>\n",
       "      <td>...</td>\n",
       "      <td>59</td>\n",
       "      <td>0</td>\n",
       "      <td>0</td>\n",
       "      <td>0</td>\n",
       "      <td>0</td>\n",
       "      <td>0</td>\n",
       "      <td>7</td>\n",
       "      <td>2008</td>\n",
       "      <td>WD</td>\n",
       "      <td>Normal</td>\n",
       "    </tr>\n",
       "    <tr>\n",
       "      <th>303</th>\n",
       "      <td>20</td>\n",
       "      <td>RL</td>\n",
       "      <td>13704</td>\n",
       "      <td>Pave</td>\n",
       "      <td>IR1</td>\n",
       "      <td>Lvl</td>\n",
       "      <td>AllPub</td>\n",
       "      <td>Corner</td>\n",
       "      <td>Gtl</td>\n",
       "      <td>CollgCr</td>\n",
       "      <td>...</td>\n",
       "      <td>81</td>\n",
       "      <td>0</td>\n",
       "      <td>0</td>\n",
       "      <td>0</td>\n",
       "      <td>0</td>\n",
       "      <td>0</td>\n",
       "      <td>1</td>\n",
       "      <td>2006</td>\n",
       "      <td>WD</td>\n",
       "      <td>Normal</td>\n",
       "    </tr>\n",
       "  </tbody>\n",
       "</table>\n",
       "<p>5 rows × 60 columns</p>\n",
       "</div>"
      ],
      "text/plain": [
       "     MSSubClass MSZoning  LotArea Street LotShape LandContour Utilities  \\\n",
       "Id                                                                        \n",
       "619          20       RL    11694   Pave      Reg         Lvl    AllPub   \n",
       "871          20       RL     6600   Pave      Reg         Lvl    AllPub   \n",
       "93           30       RL    13360   Pave      IR1         HLS    AllPub   \n",
       "818          20       RL    13265   Pave      IR1         Lvl    AllPub   \n",
       "303          20       RL    13704   Pave      IR1         Lvl    AllPub   \n",
       "\n",
       "    LotConfig LandSlope Neighborhood  ... OpenPorchSF EnclosedPorch 3SsnPorch  \\\n",
       "Id                                    ...                                       \n",
       "619    Inside       Gtl      NridgHt  ...         108             0         0   \n",
       "871    Inside       Gtl        NAmes  ...           0             0         0   \n",
       "93     Inside       Gtl      Crawfor  ...           0            44         0   \n",
       "818   CulDSac       Gtl      Mitchel  ...          59             0         0   \n",
       "303    Corner       Gtl      CollgCr  ...          81             0         0   \n",
       "\n",
       "    ScreenPorch  PoolArea  MiscVal  MoSold  YrSold SaleType SaleCondition  \n",
       "Id                                                                         \n",
       "619         260         0        0       7    2007      New       Partial  \n",
       "871           0         0        0       8    2009       WD        Normal  \n",
       "93            0         0        0       8    2009       WD        Normal  \n",
       "818           0         0        0       7    2008       WD        Normal  \n",
       "303           0         0        0       1    2006       WD        Normal  \n",
       "\n",
       "[5 rows x 60 columns]"
      ]
     },
     "execution_count": 3,
     "metadata": {},
     "output_type": "execute_result"
    }
   ],
   "source": [
    "X_train.head()"
   ]
  },
  {
   "cell_type": "markdown",
   "id": "64595df7",
   "metadata": {
    "papermill": {
     "duration": 0.012437,
     "end_time": "2023-12-24T14:28:51.835060",
     "exception": false,
     "start_time": "2023-12-24T14:28:51.822623",
     "status": "completed"
    },
    "tags": []
   },
   "source": [
    "Notice that the dataset contains both numerical and categorical variables.  You'll need to encode the categorical data before training a model.\n",
    "\n",
    "To compare different models, you'll use the same `score_dataset()` function from the tutorial.  This function reports the [mean absolute error](https://en.wikipedia.org/wiki/Mean_absolute_error) (MAE) from a random forest model."
   ]
  },
  {
   "cell_type": "code",
   "execution_count": 4,
   "id": "d510598e",
   "metadata": {
    "execution": {
     "iopub.execute_input": "2023-12-24T14:28:51.862776Z",
     "iopub.status.busy": "2023-12-24T14:28:51.862271Z",
     "iopub.status.idle": "2023-12-24T14:28:52.287400Z",
     "shell.execute_reply": "2023-12-24T14:28:52.286360Z"
    },
    "papermill": {
     "duration": 0.442205,
     "end_time": "2023-12-24T14:28:52.290128",
     "exception": false,
     "start_time": "2023-12-24T14:28:51.847923",
     "status": "completed"
    },
    "tags": []
   },
   "outputs": [],
   "source": [
    "from sklearn.ensemble import RandomForestRegressor\n",
    "from sklearn.metrics import mean_absolute_error\n",
    "\n",
    "# function for comparing different approaches\n",
    "def score_dataset(X_train, X_valid, y_train, y_valid):\n",
    "    model = RandomForestRegressor(n_estimators=100, random_state=0)\n",
    "    model.fit(X_train, y_train)\n",
    "    preds = model.predict(X_valid)\n",
    "    return mean_absolute_error(y_valid, preds)"
   ]
  },
  {
   "cell_type": "markdown",
   "id": "616c0ac2",
   "metadata": {
    "papermill": {
     "duration": 0.012581,
     "end_time": "2023-12-24T14:28:52.316637",
     "exception": false,
     "start_time": "2023-12-24T14:28:52.304056",
     "status": "completed"
    },
    "tags": []
   },
   "source": [
    "# Step 1: Drop columns with categorical data\n",
    "\n",
    "You'll get started with the most straightforward approach.  Use the code cell below to preprocess the data in `X_train` and `X_valid` to remove columns with categorical data.  Set the preprocessed DataFrames to `drop_X_train` and `drop_X_valid`, respectively.  "
   ]
  },
  {
   "cell_type": "code",
   "execution_count": 5,
   "id": "7269ce99",
   "metadata": {
    "execution": {
     "iopub.execute_input": "2023-12-24T14:28:52.345736Z",
     "iopub.status.busy": "2023-12-24T14:28:52.344246Z",
     "iopub.status.idle": "2023-12-24T14:28:52.360211Z",
     "shell.execute_reply": "2023-12-24T14:28:52.358843Z"
    },
    "papermill": {
     "duration": 0.033231,
     "end_time": "2023-12-24T14:28:52.362898",
     "exception": false,
     "start_time": "2023-12-24T14:28:52.329667",
     "status": "completed"
    },
    "tags": []
   },
   "outputs": [
    {
     "data": {
      "application/javascript": [
       "parent.postMessage({\"jupyterEvent\": \"custom.exercise_interaction\", \"data\": {\"outcomeType\": 1, \"valueTowardsCompletion\": 0.5, \"interactionType\": 1, \"questionType\": 2, \"questionId\": \"1_Drop\", \"learnToolsVersion\": \"0.3.4\", \"failureMessage\": \"\", \"exceptionClass\": \"\", \"trace\": \"\"}}, \"*\")"
      ],
      "text/plain": [
       "<IPython.core.display.Javascript object>"
      ]
     },
     "metadata": {},
     "output_type": "display_data"
    },
    {
     "data": {
      "text/markdown": [
       "<span style=\"color:#33cc33\">Correct</span>"
      ],
      "text/plain": [
       "Correct"
      ]
     },
     "metadata": {},
     "output_type": "display_data"
    }
   ],
   "source": [
    "# Fill in the lines below: drop columns in training and validation data\n",
    "s=(X_train.dtypes=='object')\n",
    "col=list(s[s].index)\n",
    "drop_X_train = X_train.drop(col,axis=1)\n",
    "drop_X_valid = X_valid.drop(col,axis=1)\n",
    "\n",
    "# Check your answers\n",
    "step_1.check()"
   ]
  },
  {
   "cell_type": "code",
   "execution_count": 6,
   "id": "0eba7d13",
   "metadata": {
    "execution": {
     "iopub.execute_input": "2023-12-24T14:28:52.392701Z",
     "iopub.status.busy": "2023-12-24T14:28:52.391838Z",
     "iopub.status.idle": "2023-12-24T14:28:52.396839Z",
     "shell.execute_reply": "2023-12-24T14:28:52.395878Z"
    },
    "papermill": {
     "duration": 0.022615,
     "end_time": "2023-12-24T14:28:52.399035",
     "exception": false,
     "start_time": "2023-12-24T14:28:52.376420",
     "status": "completed"
    },
    "tags": []
   },
   "outputs": [],
   "source": [
    "# Lines below will give you a hint or solution code\n",
    "#step_1.hint()\n",
    "#step_1.solution()"
   ]
  },
  {
   "cell_type": "markdown",
   "id": "ac5ea763",
   "metadata": {
    "papermill": {
     "duration": 0.01317,
     "end_time": "2023-12-24T14:28:52.425594",
     "exception": false,
     "start_time": "2023-12-24T14:28:52.412424",
     "status": "completed"
    },
    "tags": []
   },
   "source": [
    "Run the next code cell to get the MAE for this approach."
   ]
  },
  {
   "cell_type": "code",
   "execution_count": 7,
   "id": "1bae9494",
   "metadata": {
    "execution": {
     "iopub.execute_input": "2023-12-24T14:28:52.454554Z",
     "iopub.status.busy": "2023-12-24T14:28:52.453686Z",
     "iopub.status.idle": "2023-12-24T14:28:53.798311Z",
     "shell.execute_reply": "2023-12-24T14:28:53.796609Z"
    },
    "papermill": {
     "duration": 1.362513,
     "end_time": "2023-12-24T14:28:53.801269",
     "exception": false,
     "start_time": "2023-12-24T14:28:52.438756",
     "status": "completed"
    },
    "tags": []
   },
   "outputs": [
    {
     "name": "stdout",
     "output_type": "stream",
     "text": [
      "MAE from Approach 1 (Drop categorical variables):\n",
      "17837.82570776256\n"
     ]
    }
   ],
   "source": [
    "print(\"MAE from Approach 1 (Drop categorical variables):\")\n",
    "print(score_dataset(drop_X_train, drop_X_valid, y_train, y_valid))"
   ]
  },
  {
   "cell_type": "markdown",
   "id": "5d61b5ea",
   "metadata": {
    "papermill": {
     "duration": 0.013116,
     "end_time": "2023-12-24T14:28:53.829120",
     "exception": false,
     "start_time": "2023-12-24T14:28:53.816004",
     "status": "completed"
    },
    "tags": []
   },
   "source": [
    "Before jumping into ordinal encoding, we'll investigate the dataset.  Specifically, we'll look at the `'Condition2'` column.  The code cell below prints the unique entries in both the training and validation sets."
   ]
  },
  {
   "cell_type": "code",
   "execution_count": 8,
   "id": "5a4200ee",
   "metadata": {
    "execution": {
     "iopub.execute_input": "2023-12-24T14:28:53.859101Z",
     "iopub.status.busy": "2023-12-24T14:28:53.858164Z",
     "iopub.status.idle": "2023-12-24T14:28:53.870488Z",
     "shell.execute_reply": "2023-12-24T14:28:53.868657Z"
    },
    "papermill": {
     "duration": 0.029982,
     "end_time": "2023-12-24T14:28:53.873058",
     "exception": false,
     "start_time": "2023-12-24T14:28:53.843076",
     "status": "completed"
    },
    "tags": []
   },
   "outputs": [
    {
     "name": "stdout",
     "output_type": "stream",
     "text": [
      "Unique values in 'Condition2' column in training data: ['Norm' 'PosA' 'Feedr' 'PosN' 'Artery' 'RRAe']\n",
      "\n",
      "Unique values in 'Condition2' column in validation data: ['Norm' 'RRAn' 'RRNn' 'Artery' 'Feedr' 'PosN']\n"
     ]
    }
   ],
   "source": [
    "print(\"Unique values in 'Condition2' column in training data:\", X_train['Condition2'].unique())\n",
    "print(\"\\nUnique values in 'Condition2' column in validation data:\", X_valid['Condition2'].unique())"
   ]
  },
  {
   "cell_type": "markdown",
   "id": "995737cb",
   "metadata": {
    "papermill": {
     "duration": 0.013199,
     "end_time": "2023-12-24T14:28:53.899872",
     "exception": false,
     "start_time": "2023-12-24T14:28:53.886673",
     "status": "completed"
    },
    "tags": []
   },
   "source": [
    "# Step 2: Ordinal encoding\n",
    "\n",
    "### Part A\n",
    "\n",
    "If you now write code to: \n",
    "- fit an ordinal encoder to the training data, and then \n",
    "- use it to transform both the training and validation data, \n",
    "\n",
    "you'll get an error.  Can you see why this is the case?  (_You'll need  to use the above output to answer this question._)"
   ]
  },
  {
   "cell_type": "code",
   "execution_count": 9,
   "id": "147973e7",
   "metadata": {
    "execution": {
     "iopub.execute_input": "2023-12-24T14:28:53.929557Z",
     "iopub.status.busy": "2023-12-24T14:28:53.928895Z",
     "iopub.status.idle": "2023-12-24T14:28:53.938349Z",
     "shell.execute_reply": "2023-12-24T14:28:53.937189Z"
    },
    "papermill": {
     "duration": 0.027019,
     "end_time": "2023-12-24T14:28:53.940602",
     "exception": false,
     "start_time": "2023-12-24T14:28:53.913583",
     "status": "completed"
    },
    "tags": []
   },
   "outputs": [
    {
     "data": {
      "application/javascript": [
       "parent.postMessage({\"jupyterEvent\": \"custom.exercise_interaction\", \"data\": {\"outcomeType\": 1, \"valueTowardsCompletion\": 0.5, \"interactionType\": 1, \"questionType\": 4, \"questionId\": \"2.1_LabelA\", \"learnToolsVersion\": \"0.3.4\", \"failureMessage\": \"\", \"exceptionClass\": \"\", \"trace\": \"\"}}, \"*\")"
      ],
      "text/plain": [
       "<IPython.core.display.Javascript object>"
      ]
     },
     "metadata": {},
     "output_type": "display_data"
    },
    {
     "data": {
      "text/markdown": [
       "<span style=\"color:#33cc33\">Correct:</span> \n",
       "\n",
       "Fitting an ordinal encoder to a column in the training data creates a corresponding integer-valued label for each unique value **that appears in the training data**. In the case that the validation data contains values that don't also appear in the training data, the encoder will throw an error, because these values won't have an integer assigned to them.  Notice that the `'Condition2'` column in the validation data contains the values `'RRAn'` and `'RRNn'`, but these don't appear in the training data -- thus, if we try to use an ordinal encoder with scikit-learn, the code will throw an error."
      ],
      "text/plain": [
       "Correct: \n",
       "\n",
       "Fitting an ordinal encoder to a column in the training data creates a corresponding integer-valued label for each unique value **that appears in the training data**. In the case that the validation data contains values that don't also appear in the training data, the encoder will throw an error, because these values won't have an integer assigned to them.  Notice that the `'Condition2'` column in the validation data contains the values `'RRAn'` and `'RRNn'`, but these don't appear in the training data -- thus, if we try to use an ordinal encoder with scikit-learn, the code will throw an error."
      ]
     },
     "metadata": {},
     "output_type": "display_data"
    }
   ],
   "source": [
    "# Check your answer (Run this code cell to receive credit!)\n",
    "step_2.a.check()"
   ]
  },
  {
   "cell_type": "code",
   "execution_count": 10,
   "id": "06cf553d",
   "metadata": {
    "execution": {
     "iopub.execute_input": "2023-12-24T14:28:54.045539Z",
     "iopub.status.busy": "2023-12-24T14:28:54.044531Z",
     "iopub.status.idle": "2023-12-24T14:28:54.050235Z",
     "shell.execute_reply": "2023-12-24T14:28:54.048915Z"
    },
    "papermill": {
     "duration": 0.024573,
     "end_time": "2023-12-24T14:28:54.053338",
     "exception": false,
     "start_time": "2023-12-24T14:28:54.028765",
     "status": "completed"
    },
    "tags": []
   },
   "outputs": [],
   "source": [
    "#step_2.a.hint()"
   ]
  },
  {
   "cell_type": "markdown",
   "id": "08561401",
   "metadata": {
    "papermill": {
     "duration": 0.014531,
     "end_time": "2023-12-24T14:28:54.082675",
     "exception": false,
     "start_time": "2023-12-24T14:28:54.068144",
     "status": "completed"
    },
    "tags": []
   },
   "source": [
    "This is a common problem that you'll encounter with real-world data, and there are many approaches to fixing this issue.  For instance, you can write a custom ordinal encoder to deal with new categories.  The simplest approach, however, is to drop the problematic categorical columns.  \n",
    "\n",
    "Run the code cell below to save the problematic columns to a Python list `bad_label_cols`.  Likewise, columns that can be safely ordinal encoded are stored in `good_label_cols`."
   ]
  },
  {
   "cell_type": "code",
   "execution_count": 11,
   "id": "8025f3e6",
   "metadata": {
    "execution": {
     "iopub.execute_input": "2023-12-24T14:28:54.114528Z",
     "iopub.status.busy": "2023-12-24T14:28:54.114017Z",
     "iopub.status.idle": "2023-12-24T14:28:54.133687Z",
     "shell.execute_reply": "2023-12-24T14:28:54.132485Z"
    },
    "papermill": {
     "duration": 0.039021,
     "end_time": "2023-12-24T14:28:54.136578",
     "exception": false,
     "start_time": "2023-12-24T14:28:54.097557",
     "status": "completed"
    },
    "tags": []
   },
   "outputs": [
    {
     "name": "stdout",
     "output_type": "stream",
     "text": [
      "Categorical columns that will be ordinal encoded: ['MSZoning', 'Street', 'LotShape', 'LandContour', 'Utilities', 'LotConfig', 'LandSlope', 'Neighborhood', 'Condition1', 'BldgType', 'HouseStyle', 'RoofStyle', 'Exterior1st', 'Exterior2nd', 'ExterQual', 'ExterCond', 'Foundation', 'Heating', 'HeatingQC', 'CentralAir', 'KitchenQual', 'PavedDrive', 'SaleType', 'SaleCondition']\n",
      "\n",
      "Categorical columns that will be dropped from the dataset: ['RoofMatl', 'Condition2', 'Functional']\n"
     ]
    }
   ],
   "source": [
    "# Categorical columns in the training data\n",
    "object_cols = [col for col in X_train.columns if X_train[col].dtype == \"object\"]\n",
    "\n",
    "# Columns that can be safely ordinal encoded\n",
    "good_label_cols = [col for col in object_cols if \n",
    "                   set(X_valid[col]).issubset(set(X_train[col]))]\n",
    "        \n",
    "# Problematic columns that will be dropped from the dataset\n",
    "bad_label_cols = list(set(object_cols)-set(good_label_cols))\n",
    "        \n",
    "print('Categorical columns that will be ordinal encoded:', good_label_cols)\n",
    "print('\\nCategorical columns that will be dropped from the dataset:', bad_label_cols)"
   ]
  },
  {
   "cell_type": "markdown",
   "id": "311c35db",
   "metadata": {
    "papermill": {
     "duration": 0.01841,
     "end_time": "2023-12-24T14:28:54.175061",
     "exception": false,
     "start_time": "2023-12-24T14:28:54.156651",
     "status": "completed"
    },
    "tags": []
   },
   "source": [
    "### Part B\n",
    "\n",
    "Use the next code cell to ordinal encode the data in `X_train` and `X_valid`.  Set the preprocessed DataFrames to `label_X_train` and `label_X_valid`, respectively.  \n",
    "- We have provided code below to drop the categorical columns in `bad_label_cols` from the dataset. \n",
    "- You should ordinal encode the categorical columns in `good_label_cols`.  "
   ]
  },
  {
   "cell_type": "code",
   "execution_count": 12,
   "id": "68601bbb",
   "metadata": {
    "execution": {
     "iopub.execute_input": "2023-12-24T14:28:54.214315Z",
     "iopub.status.busy": "2023-12-24T14:28:54.213301Z",
     "iopub.status.idle": "2023-12-24T14:28:54.262883Z",
     "shell.execute_reply": "2023-12-24T14:28:54.261980Z"
    },
    "papermill": {
     "duration": 0.071357,
     "end_time": "2023-12-24T14:28:54.265020",
     "exception": false,
     "start_time": "2023-12-24T14:28:54.193663",
     "status": "completed"
    },
    "tags": []
   },
   "outputs": [
    {
     "data": {
      "application/javascript": [
       "parent.postMessage({\"jupyterEvent\": \"custom.exercise_interaction\", \"data\": {\"outcomeType\": 1, \"valueTowardsCompletion\": 0.5, \"interactionType\": 1, \"questionType\": 2, \"questionId\": \"2.2_LabelB\", \"learnToolsVersion\": \"0.3.4\", \"failureMessage\": \"\", \"exceptionClass\": \"\", \"trace\": \"\"}}, \"*\")"
      ],
      "text/plain": [
       "<IPython.core.display.Javascript object>"
      ]
     },
     "metadata": {},
     "output_type": "display_data"
    },
    {
     "data": {
      "text/markdown": [
       "<span style=\"color:#33cc33\">Correct</span>"
      ],
      "text/plain": [
       "Correct"
      ]
     },
     "metadata": {},
     "output_type": "display_data"
    }
   ],
   "source": [
    "from sklearn.preprocessing import OrdinalEncoder\n",
    "\n",
    "# Drop categorical columns that will not be encoded\n",
    "label_X_train = X_train.drop(bad_label_cols, axis=1)\n",
    "label_X_valid = X_valid.drop(bad_label_cols, axis=1)\n",
    "\n",
    "# Apply ordinal encoder \n",
    "ordinal_encoder = OrdinalEncoder()\n",
    "label_X_train[good_label_cols] = ordinal_encoder.fit_transform(X_train[good_label_cols])\n",
    "label_X_valid[good_label_cols] = ordinal_encoder.transform(X_valid[good_label_cols])\n",
    "        \n",
    "# Check your answer\n",
    "step_2.b.check()"
   ]
  },
  {
   "cell_type": "code",
   "execution_count": 13,
   "id": "eb133f49",
   "metadata": {
    "execution": {
     "iopub.execute_input": "2023-12-24T14:28:54.298418Z",
     "iopub.status.busy": "2023-12-24T14:28:54.297633Z",
     "iopub.status.idle": "2023-12-24T14:28:54.302403Z",
     "shell.execute_reply": "2023-12-24T14:28:54.300971Z"
    },
    "papermill": {
     "duration": 0.026101,
     "end_time": "2023-12-24T14:28:54.306234",
     "exception": false,
     "start_time": "2023-12-24T14:28:54.280133",
     "status": "completed"
    },
    "tags": []
   },
   "outputs": [],
   "source": [
    "# Lines below will give you a hint or solution code\n",
    "#step_2.b.hint()\n",
    "#step_2.b.solution()"
   ]
  },
  {
   "cell_type": "markdown",
   "id": "1a311b56",
   "metadata": {
    "papermill": {
     "duration": 0.023778,
     "end_time": "2023-12-24T14:28:54.348765",
     "exception": false,
     "start_time": "2023-12-24T14:28:54.324987",
     "status": "completed"
    },
    "tags": []
   },
   "source": [
    "Run the next code cell to get the MAE for this approach."
   ]
  },
  {
   "cell_type": "code",
   "execution_count": 14,
   "id": "1733c508",
   "metadata": {
    "execution": {
     "iopub.execute_input": "2023-12-24T14:28:54.392454Z",
     "iopub.status.busy": "2023-12-24T14:28:54.391943Z",
     "iopub.status.idle": "2023-12-24T14:28:56.097329Z",
     "shell.execute_reply": "2023-12-24T14:28:56.096364Z"
    },
    "papermill": {
     "duration": 1.733069,
     "end_time": "2023-12-24T14:28:56.099655",
     "exception": false,
     "start_time": "2023-12-24T14:28:54.366586",
     "status": "completed"
    },
    "tags": []
   },
   "outputs": [
    {
     "name": "stdout",
     "output_type": "stream",
     "text": [
      "MAE from Approach 2 (Ordinal Encoding):\n",
      "17098.01649543379\n"
     ]
    }
   ],
   "source": [
    "print(\"MAE from Approach 2 (Ordinal Encoding):\") \n",
    "print(score_dataset(label_X_train, label_X_valid, y_train, y_valid))"
   ]
  },
  {
   "cell_type": "markdown",
   "id": "3699bd55",
   "metadata": {
    "papermill": {
     "duration": 0.014728,
     "end_time": "2023-12-24T14:28:56.129282",
     "exception": false,
     "start_time": "2023-12-24T14:28:56.114554",
     "status": "completed"
    },
    "tags": []
   },
   "source": [
    "So far, you've tried two different approaches to dealing with categorical variables.  And, you've seen that encoding categorical data yields better results than removing columns from the dataset.\n",
    "\n",
    "Soon, you'll try one-hot encoding.  Before then, there's one additional topic we need to cover.  Begin by running the next code cell without changes.  "
   ]
  },
  {
   "cell_type": "code",
   "execution_count": 15,
   "id": "1bed5d3b",
   "metadata": {
    "execution": {
     "iopub.execute_input": "2023-12-24T14:28:56.161642Z",
     "iopub.status.busy": "2023-12-24T14:28:56.160897Z",
     "iopub.status.idle": "2023-12-24T14:28:56.175846Z",
     "shell.execute_reply": "2023-12-24T14:28:56.174843Z"
    },
    "papermill": {
     "duration": 0.034293,
     "end_time": "2023-12-24T14:28:56.178167",
     "exception": false,
     "start_time": "2023-12-24T14:28:56.143874",
     "status": "completed"
    },
    "tags": []
   },
   "outputs": [
    {
     "data": {
      "text/plain": [
       "[('Street', 2),\n",
       " ('Utilities', 2),\n",
       " ('CentralAir', 2),\n",
       " ('LandSlope', 3),\n",
       " ('PavedDrive', 3),\n",
       " ('LotShape', 4),\n",
       " ('LandContour', 4),\n",
       " ('ExterQual', 4),\n",
       " ('KitchenQual', 4),\n",
       " ('MSZoning', 5),\n",
       " ('LotConfig', 5),\n",
       " ('BldgType', 5),\n",
       " ('ExterCond', 5),\n",
       " ('HeatingQC', 5),\n",
       " ('Condition2', 6),\n",
       " ('RoofStyle', 6),\n",
       " ('Foundation', 6),\n",
       " ('Heating', 6),\n",
       " ('Functional', 6),\n",
       " ('SaleCondition', 6),\n",
       " ('RoofMatl', 7),\n",
       " ('HouseStyle', 8),\n",
       " ('Condition1', 9),\n",
       " ('SaleType', 9),\n",
       " ('Exterior1st', 15),\n",
       " ('Exterior2nd', 16),\n",
       " ('Neighborhood', 25)]"
      ]
     },
     "execution_count": 15,
     "metadata": {},
     "output_type": "execute_result"
    }
   ],
   "source": [
    "# Get number of unique entries in each column with categorical data\n",
    "object_nunique = list(map(lambda col: X_train[col].nunique(), object_cols))\n",
    "d = dict(zip(object_cols, object_nunique))\n",
    "\n",
    "# Print number of unique entries by column, in ascending order\n",
    "sorted(d.items(), key=lambda x: x[1])"
   ]
  },
  {
   "cell_type": "markdown",
   "id": "22cdc474",
   "metadata": {
    "papermill": {
     "duration": 0.016759,
     "end_time": "2023-12-24T14:28:56.209878",
     "exception": false,
     "start_time": "2023-12-24T14:28:56.193119",
     "status": "completed"
    },
    "tags": []
   },
   "source": [
    "# Step 3: Investigating cardinality\n",
    "\n",
    "### Part A\n",
    "\n",
    "The output above shows, for each column with categorical data, the number of unique values in the column.  For instance, the `'Street'` column in the training data has two unique values: `'Grvl'` and `'Pave'`, corresponding to a gravel road and a paved road, respectively.\n",
    "\n",
    "We refer to the number of unique entries of a categorical variable as the **cardinality** of that categorical variable.  For instance, the `'Street'` variable has cardinality 2.\n",
    "\n",
    "Use the output above to answer the questions below."
   ]
  },
  {
   "cell_type": "code",
   "execution_count": 16,
   "id": "f932f826",
   "metadata": {
    "execution": {
     "iopub.execute_input": "2023-12-24T14:28:56.243394Z",
     "iopub.status.busy": "2023-12-24T14:28:56.242476Z",
     "iopub.status.idle": "2023-12-24T14:28:56.252577Z",
     "shell.execute_reply": "2023-12-24T14:28:56.251129Z"
    },
    "papermill": {
     "duration": 0.030291,
     "end_time": "2023-12-24T14:28:56.255233",
     "exception": false,
     "start_time": "2023-12-24T14:28:56.224942",
     "status": "completed"
    },
    "tags": []
   },
   "outputs": [
    {
     "data": {
      "application/javascript": [
       "parent.postMessage({\"jupyterEvent\": \"custom.exercise_interaction\", \"data\": {\"outcomeType\": 1, \"valueTowardsCompletion\": 0.5, \"interactionType\": 1, \"questionType\": 1, \"questionId\": \"3.1_CardinalityA\", \"learnToolsVersion\": \"0.3.4\", \"failureMessage\": \"\", \"exceptionClass\": \"\", \"trace\": \"\"}}, \"*\")"
      ],
      "text/plain": [
       "<IPython.core.display.Javascript object>"
      ]
     },
     "metadata": {},
     "output_type": "display_data"
    },
    {
     "data": {
      "text/markdown": [
       "<span style=\"color:#33cc33\">Correct</span>"
      ],
      "text/plain": [
       "Correct"
      ]
     },
     "metadata": {},
     "output_type": "display_data"
    }
   ],
   "source": [
    "# Fill in the line below: How many categorical variables in the training data\n",
    "# have cardinality greater than 10?\n",
    "high_cardinality_numcols = 3\n",
    "\n",
    "# Fill in the line below: How many columns are needed to one-hot encode the \n",
    "# 'Neighborhood' variable in the training data?\n",
    "num_cols_neighborhood = 25\n",
    "\n",
    "# Check your answers\n",
    "step_3.a.check()"
   ]
  },
  {
   "cell_type": "code",
   "execution_count": 17,
   "id": "c979d045",
   "metadata": {
    "execution": {
     "iopub.execute_input": "2023-12-24T14:28:56.288930Z",
     "iopub.status.busy": "2023-12-24T14:28:56.288435Z",
     "iopub.status.idle": "2023-12-24T14:28:56.293719Z",
     "shell.execute_reply": "2023-12-24T14:28:56.292506Z"
    },
    "papermill": {
     "duration": 0.025043,
     "end_time": "2023-12-24T14:28:56.296033",
     "exception": false,
     "start_time": "2023-12-24T14:28:56.270990",
     "status": "completed"
    },
    "tags": []
   },
   "outputs": [],
   "source": [
    "# Lines below will give you a hint or solution code\n",
    "#step_3.a.hint()\n",
    "#step_3.a.solution()"
   ]
  },
  {
   "cell_type": "markdown",
   "id": "87c73314",
   "metadata": {
    "papermill": {
     "duration": 0.015222,
     "end_time": "2023-12-24T14:28:56.326755",
     "exception": false,
     "start_time": "2023-12-24T14:28:56.311533",
     "status": "completed"
    },
    "tags": []
   },
   "source": [
    "### Part B\n",
    "\n",
    "For large datasets with many rows, one-hot encoding can greatly expand the size of the dataset.  For this reason, we typically will only one-hot encode columns with relatively low cardinality.  Then, high cardinality columns can either be dropped from the dataset, or we can use ordinal encoding.\n",
    "\n",
    "As an example, consider a dataset with 10,000 rows, and containing one categorical column with 100 unique entries.  \n",
    "- If this column is replaced with the corresponding one-hot encoding, how many entries are added to the dataset?  \n",
    "- If we instead replace the column with the ordinal encoding, how many entries are added?  \n",
    "\n",
    "Use your answers to fill in the lines below."
   ]
  },
  {
   "cell_type": "code",
   "execution_count": 18,
   "id": "0c501346",
   "metadata": {
    "execution": {
     "iopub.execute_input": "2023-12-24T14:28:56.360447Z",
     "iopub.status.busy": "2023-12-24T14:28:56.359939Z",
     "iopub.status.idle": "2023-12-24T14:28:56.371068Z",
     "shell.execute_reply": "2023-12-24T14:28:56.369438Z"
    },
    "papermill": {
     "duration": 0.031189,
     "end_time": "2023-12-24T14:28:56.373368",
     "exception": false,
     "start_time": "2023-12-24T14:28:56.342179",
     "status": "completed"
    },
    "tags": []
   },
   "outputs": [
    {
     "data": {
      "application/javascript": [
       "parent.postMessage({\"jupyterEvent\": \"custom.exercise_interaction\", \"data\": {\"outcomeType\": 1, \"valueTowardsCompletion\": 0.5, \"interactionType\": 1, \"questionType\": 1, \"questionId\": \"3.2_CardinalityB\", \"learnToolsVersion\": \"0.3.4\", \"failureMessage\": \"\", \"exceptionClass\": \"\", \"trace\": \"\"}}, \"*\")"
      ],
      "text/plain": [
       "<IPython.core.display.Javascript object>"
      ]
     },
     "metadata": {},
     "output_type": "display_data"
    },
    {
     "data": {
      "text/markdown": [
       "<span style=\"color:#33cc33\">Correct</span>"
      ],
      "text/plain": [
       "Correct"
      ]
     },
     "metadata": {},
     "output_type": "display_data"
    }
   ],
   "source": [
    "# Fill in the line below: How many entries are added to the dataset by \n",
    "# replacing the column with a one-hot encoding?\n",
    "OH_entries_added =10000*99\n",
    "\n",
    "# Fill in the line below: How many entries are added to the dataset by\n",
    "# replacing the column with an ordinal encoding?\n",
    "label_entries_added =0\n",
    "\n",
    "# Check your answers\n",
    "step_3.b.check()"
   ]
  },
  {
   "cell_type": "code",
   "execution_count": 19,
   "id": "f6329022",
   "metadata": {
    "execution": {
     "iopub.execute_input": "2023-12-24T14:28:56.406659Z",
     "iopub.status.busy": "2023-12-24T14:28:56.406208Z",
     "iopub.status.idle": "2023-12-24T14:28:56.411683Z",
     "shell.execute_reply": "2023-12-24T14:28:56.410392Z"
    },
    "papermill": {
     "duration": 0.024933,
     "end_time": "2023-12-24T14:28:56.413928",
     "exception": false,
     "start_time": "2023-12-24T14:28:56.388995",
     "status": "completed"
    },
    "tags": []
   },
   "outputs": [],
   "source": [
    "# Lines below will give you a hint or solution code\n",
    "#step_3.b.hint()\n",
    "#step_3.b.solution()"
   ]
  },
  {
   "cell_type": "markdown",
   "id": "13e9f7e5",
   "metadata": {
    "papermill": {
     "duration": 0.015512,
     "end_time": "2023-12-24T14:28:56.445214",
     "exception": false,
     "start_time": "2023-12-24T14:28:56.429702",
     "status": "completed"
    },
    "tags": []
   },
   "source": [
    "Next, you'll experiment with one-hot encoding.  But, instead of encoding all of the categorical variables in the dataset, you'll only create a one-hot encoding for columns with cardinality less than 10.\n",
    "\n",
    "Run the code cell below without changes to set `low_cardinality_cols` to a Python list containing the columns that will be one-hot encoded.  Likewise, `high_cardinality_cols` contains a list of categorical columns that will be dropped from the dataset."
   ]
  },
  {
   "cell_type": "code",
   "execution_count": 20,
   "id": "a47492cd",
   "metadata": {
    "execution": {
     "iopub.execute_input": "2023-12-24T14:28:56.479075Z",
     "iopub.status.busy": "2023-12-24T14:28:56.478578Z",
     "iopub.status.idle": "2023-12-24T14:28:56.490408Z",
     "shell.execute_reply": "2023-12-24T14:28:56.489360Z"
    },
    "papermill": {
     "duration": 0.031993,
     "end_time": "2023-12-24T14:28:56.492861",
     "exception": false,
     "start_time": "2023-12-24T14:28:56.460868",
     "status": "completed"
    },
    "tags": []
   },
   "outputs": [
    {
     "name": "stdout",
     "output_type": "stream",
     "text": [
      "Categorical columns that will be one-hot encoded: ['MSZoning', 'Street', 'LotShape', 'LandContour', 'Utilities', 'LotConfig', 'LandSlope', 'Condition1', 'Condition2', 'BldgType', 'HouseStyle', 'RoofStyle', 'RoofMatl', 'ExterQual', 'ExterCond', 'Foundation', 'Heating', 'HeatingQC', 'CentralAir', 'KitchenQual', 'Functional', 'PavedDrive', 'SaleType', 'SaleCondition']\n",
      "\n",
      "Categorical columns that will be dropped from the dataset: ['Neighborhood', 'Exterior1st', 'Exterior2nd']\n"
     ]
    }
   ],
   "source": [
    "# Columns that will be one-hot encoded\n",
    "low_cardinality_cols = [col for col in object_cols if X_train[col].nunique() < 10]\n",
    "\n",
    "# Columns that will be dropped from the dataset\n",
    "high_cardinality_cols = list(set(object_cols)-set(low_cardinality_cols))\n",
    "\n",
    "print('Categorical columns that will be one-hot encoded:', low_cardinality_cols)\n",
    "print('\\nCategorical columns that will be dropped from the dataset:', high_cardinality_cols)"
   ]
  },
  {
   "cell_type": "markdown",
   "id": "7c848650",
   "metadata": {
    "papermill": {
     "duration": 0.015569,
     "end_time": "2023-12-24T14:28:56.524278",
     "exception": false,
     "start_time": "2023-12-24T14:28:56.508709",
     "status": "completed"
    },
    "tags": []
   },
   "source": [
    "# Step 4: One-hot encoding\n",
    "\n",
    "Use the next code cell to one-hot encode the data in `X_train` and `X_valid`.  Set the preprocessed DataFrames to `OH_X_train` and `OH_X_valid`, respectively.  \n",
    "- The full list of categorical columns in the dataset can be found in the Python list `object_cols`.\n",
    "- You should only one-hot encode the categorical columns in `low_cardinality_cols`.  All other categorical columns should be dropped from the dataset. "
   ]
  },
  {
   "cell_type": "code",
   "execution_count": 21,
   "id": "34675022",
   "metadata": {
    "execution": {
     "iopub.execute_input": "2023-12-24T14:28:56.559603Z",
     "iopub.status.busy": "2023-12-24T14:28:56.558026Z",
     "iopub.status.idle": "2023-12-24T14:28:56.614863Z",
     "shell.execute_reply": "2023-12-24T14:28:56.613517Z"
    },
    "papermill": {
     "duration": 0.077416,
     "end_time": "2023-12-24T14:28:56.617854",
     "exception": false,
     "start_time": "2023-12-24T14:28:56.540438",
     "status": "completed"
    },
    "tags": []
   },
   "outputs": [
    {
     "name": "stderr",
     "output_type": "stream",
     "text": [
      "/opt/conda/lib/python3.10/site-packages/sklearn/preprocessing/_encoders.py:868: FutureWarning: `sparse` was renamed to `sparse_output` in version 1.2 and will be removed in 1.4. `sparse_output` is ignored unless you leave `sparse` to its default value.\n",
      "  warnings.warn(\n"
     ]
    },
    {
     "data": {
      "application/javascript": [
       "parent.postMessage({\"jupyterEvent\": \"custom.exercise_interaction\", \"data\": {\"outcomeType\": 1, \"valueTowardsCompletion\": 0.5, \"interactionType\": 1, \"questionType\": 2, \"questionId\": \"4_OneHot\", \"learnToolsVersion\": \"0.3.4\", \"failureMessage\": \"\", \"exceptionClass\": \"\", \"trace\": \"\"}}, \"*\")"
      ],
      "text/plain": [
       "<IPython.core.display.Javascript object>"
      ]
     },
     "metadata": {},
     "output_type": "display_data"
    },
    {
     "data": {
      "text/markdown": [
       "<span style=\"color:#33cc33\">Correct</span>"
      ],
      "text/plain": [
       "Correct"
      ]
     },
     "metadata": {},
     "output_type": "display_data"
    }
   ],
   "source": [
    "from sklearn.preprocessing import OneHotEncoder\n",
    "\n",
    "# Use as many lines of code as you need!\n",
    "oh= OneHotEncoder(handle_unknown='ignore', sparse=False)\n",
    "oh_X_train = pd.DataFrame(oh.fit_transform(X_train[low_cardinality_cols])) # Your code here\n",
    "oh_X_valid = pd.DataFrame(oh.transform(X_valid[low_cardinality_cols]))# Your code here\n",
    "oh_X_train.index=X_train.index\n",
    "oh_X_valid.index = X_valid.index\n",
    "num_X_train = X_train.drop(object_cols, axis=1)\n",
    "num_X_valid = X_valid.drop(object_cols, axis=1)\n",
    "OH_X_train = pd.concat([num_X_train, oh_X_train], axis=1)\n",
    "OH_X_valid = pd.concat([num_X_valid, oh_X_valid], axis=1)\n",
    "\n",
    "OH_X_train.columns = OH_X_train.columns.astype(str)\n",
    "OH_X_valid.columns = OH_X_valid.columns.astype(str)\n",
    "# Check your answer\n",
    "step_4.check()"
   ]
  },
  {
   "cell_type": "code",
   "execution_count": 22,
   "id": "ad0c4d04",
   "metadata": {
    "execution": {
     "iopub.execute_input": "2023-12-24T14:28:56.652306Z",
     "iopub.status.busy": "2023-12-24T14:28:56.651878Z",
     "iopub.status.idle": "2023-12-24T14:28:56.657041Z",
     "shell.execute_reply": "2023-12-24T14:28:56.655733Z"
    },
    "papermill": {
     "duration": 0.025616,
     "end_time": "2023-12-24T14:28:56.659630",
     "exception": false,
     "start_time": "2023-12-24T14:28:56.634014",
     "status": "completed"
    },
    "tags": []
   },
   "outputs": [],
   "source": [
    "# Lines below will give you a hint or solution code\n",
    "#step_4.hint()\n",
    "#step_4.solution()"
   ]
  },
  {
   "cell_type": "markdown",
   "id": "1049c864",
   "metadata": {
    "papermill": {
     "duration": 0.01613,
     "end_time": "2023-12-24T14:28:56.691940",
     "exception": false,
     "start_time": "2023-12-24T14:28:56.675810",
     "status": "completed"
    },
    "tags": []
   },
   "source": [
    "Run the next code cell to get the MAE for this approach."
   ]
  },
  {
   "cell_type": "code",
   "execution_count": 23,
   "id": "3460e9bc",
   "metadata": {
    "execution": {
     "iopub.execute_input": "2023-12-24T14:28:56.726554Z",
     "iopub.status.busy": "2023-12-24T14:28:56.726121Z",
     "iopub.status.idle": "2023-12-24T14:28:58.831546Z",
     "shell.execute_reply": "2023-12-24T14:28:58.830054Z"
    },
    "papermill": {
     "duration": 2.126153,
     "end_time": "2023-12-24T14:28:58.834486",
     "exception": false,
     "start_time": "2023-12-24T14:28:56.708333",
     "status": "completed"
    },
    "tags": []
   },
   "outputs": [
    {
     "name": "stdout",
     "output_type": "stream",
     "text": [
      "MAE from Approach 3 (One-Hot Encoding):\n",
      "17525.345719178084\n"
     ]
    }
   ],
   "source": [
    "print(\"MAE from Approach 3 (One-Hot Encoding):\") \n",
    "print(score_dataset(OH_X_train, OH_X_valid, y_train, y_valid))"
   ]
  },
  {
   "cell_type": "markdown",
   "id": "592c0e9d",
   "metadata": {
    "papermill": {
     "duration": 0.016625,
     "end_time": "2023-12-24T14:28:58.868498",
     "exception": false,
     "start_time": "2023-12-24T14:28:58.851873",
     "status": "completed"
    },
    "tags": []
   },
   "source": [
    "# Generate test predictions and submit your results\n",
    "\n",
    "After you complete Step 4, if you'd like to use what you've learned to submit your results to the leaderboard, you'll need to preprocess the test data before generating predictions.\n",
    "\n",
    "**This step is completely optional, and you do not need to submit results to the leaderboard to successfully complete the exercise.**\n",
    "\n",
    "Check out the previous exercise if you need help with remembering how to [join the competition](https://www.kaggle.com/c/home-data-for-ml-course) or save your results to CSV.  Once you have generated a file with your results, follow the instructions below:\n",
    "1. Begin by clicking on the **Save Version** button in the top right corner of the window.  This will generate a pop-up window.  \n",
    "2. Ensure that the **Save and Run All** option is selected, and then click on the **Save** button.\n",
    "3. This generates a window in the bottom left corner of the notebook.  After it has finished running, click on the number to the right of the **Save Version** button.  This pulls up a list of versions on the right of the screen.  Click on the ellipsis **(...)** to the right of the most recent version, and select **Open in Viewer**.  This brings you into view mode of the same page. You will need to scroll down to get back to these instructions.\n",
    "4. Click on the **Data** tab near the top of the screen.  Then, click on the file you would like to submit, and click on the **Submit** button to submit your results to the leaderboard.\n",
    "\n",
    "You have now successfully submitted to the competition!\n",
    "\n",
    "If you want to keep working to improve your performance, select the **Edit** button in the top right of the screen. Then you can change your code and repeat the process. There's a lot of room to improve, and you will climb up the leaderboard as you work.\n"
   ]
  },
  {
   "cell_type": "code",
   "execution_count": 24,
   "id": "7771bba7",
   "metadata": {
    "execution": {
     "iopub.execute_input": "2023-12-24T14:28:58.904758Z",
     "iopub.status.busy": "2023-12-24T14:28:58.904298Z",
     "iopub.status.idle": "2023-12-24T14:28:58.909481Z",
     "shell.execute_reply": "2023-12-24T14:28:58.908491Z"
    },
    "papermill": {
     "duration": 0.02632,
     "end_time": "2023-12-24T14:28:58.911849",
     "exception": false,
     "start_time": "2023-12-24T14:28:58.885529",
     "status": "completed"
    },
    "tags": []
   },
   "outputs": [],
   "source": [
    "# (Optional) Your code here"
   ]
  },
  {
   "cell_type": "markdown",
   "id": "1df06f5f",
   "metadata": {
    "papermill": {
     "duration": 0.017076,
     "end_time": "2023-12-24T14:28:58.946496",
     "exception": false,
     "start_time": "2023-12-24T14:28:58.929420",
     "status": "completed"
    },
    "tags": []
   },
   "source": [
    "# Keep going\n",
    "\n",
    "With missing value handling and categorical encoding, your modeling process is getting complex. This complexity gets worse when you want to save your model to use in the future. The key to managing this complexity is something called **pipelines**. \n",
    "\n",
    "**[Learn to use pipelines](https://www.kaggle.com/alexisbcook/pipelines)** to preprocess datasets with categorical variables, missing values and any other messiness your data throws at you."
   ]
  },
  {
   "cell_type": "markdown",
   "id": "d9990587",
   "metadata": {
    "papermill": {
     "duration": 0.017073,
     "end_time": "2023-12-24T14:28:58.980895",
     "exception": false,
     "start_time": "2023-12-24T14:28:58.963822",
     "status": "completed"
    },
    "tags": []
   },
   "source": [
    "---\n",
    "\n",
    "\n",
    "\n",
    "\n",
    "*Have questions or comments? Visit the [course discussion forum](https://www.kaggle.com/learn/intermediate-machine-learning/discussion) to chat with other learners.*"
   ]
  }
 ],
 "metadata": {
  "kaggle": {
   "accelerator": "none",
   "dataSources": [
    {
     "databundleVersionId": 111096,
     "sourceId": 10211,
     "sourceType": "competition"
    }
   ],
   "isGpuEnabled": false,
   "isInternetEnabled": false,
   "language": "python",
   "sourceType": "notebook"
  },
  "kernelspec": {
   "display_name": "Python 3",
   "language": "python",
   "name": "python3"
  },
  "language_info": {
   "codemirror_mode": {
    "name": "ipython",
    "version": 3
   },
   "file_extension": ".py",
   "mimetype": "text/x-python",
   "name": "python",
   "nbconvert_exporter": "python",
   "pygments_lexer": "ipython3",
   "version": "3.10.12"
  },
  "papermill": {
   "default_parameters": {},
   "duration": 14.138909,
   "end_time": "2023-12-24T14:28:59.825043",
   "environment_variables": {},
   "exception": null,
   "input_path": "__notebook__.ipynb",
   "output_path": "__notebook__.ipynb",
   "parameters": {},
   "start_time": "2023-12-24T14:28:45.686134",
   "version": "2.4.0"
  }
 },
 "nbformat": 4,
 "nbformat_minor": 5
}
