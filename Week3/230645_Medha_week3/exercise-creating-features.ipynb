{
 "cells": [
  {
   "cell_type": "markdown",
   "id": "89e96619",
   "metadata": {
    "papermill": {
     "duration": 0.005127,
     "end_time": "2023-12-31T22:21:13.612076",
     "exception": false,
     "start_time": "2023-12-31T22:21:13.606949",
     "status": "completed"
    },
    "tags": []
   },
   "source": [
    "**This notebook is an exercise in the [Feature Engineering](https://www.kaggle.com/learn/feature-engineering) course.  You can reference the tutorial at [this link](https://www.kaggle.com/ryanholbrook/creating-features).**\n",
    "\n",
    "---\n"
   ]
  },
  {
   "cell_type": "markdown",
   "id": "dffac27c",
   "metadata": {
    "papermill": {
     "duration": 0.004091,
     "end_time": "2023-12-31T22:21:13.620636",
     "exception": false,
     "start_time": "2023-12-31T22:21:13.616545",
     "status": "completed"
    },
    "tags": []
   },
   "source": [
    "# Introduction #\n",
    "\n",
    "In this exercise you'll start developing the features you identified in Exercise 2 as having the most potential. As you work through this exercise, you might take a moment to look at the data documentation again and consider whether the features we're creating make sense from a real-world perspective, and whether there are any useful combinations that stand out to you.\n",
    "\n",
    "Run this cell to set everything up!"
   ]
  },
  {
   "cell_type": "code",
   "execution_count": 1,
   "id": "087e0845",
   "metadata": {
    "execution": {
     "iopub.execute_input": "2023-12-31T22:21:13.631156Z",
     "iopub.status.busy": "2023-12-31T22:21:13.630768Z",
     "iopub.status.idle": "2023-12-31T22:21:15.553611Z",
     "shell.execute_reply": "2023-12-31T22:21:15.552817Z"
    },
    "papermill": {
     "duration": 1.931171,
     "end_time": "2023-12-31T22:21:15.556237",
     "exception": false,
     "start_time": "2023-12-31T22:21:13.625066",
     "status": "completed"
    },
    "tags": []
   },
   "outputs": [],
   "source": [
    "# Setup feedback system\n",
    "from learntools.core import binder\n",
    "binder.bind(globals())\n",
    "from learntools.feature_engineering_new.ex3 import *\n",
    "\n",
    "import numpy as np\n",
    "import pandas as pd\n",
    "from sklearn.model_selection import cross_val_score\n",
    "from xgboost import XGBRegressor\n",
    "\n",
    "\n",
    "def score_dataset(X, y, model=XGBRegressor()):\n",
    "    # Label encoding for categoricals\n",
    "    for colname in X.select_dtypes([\"category\", \"object\"]):\n",
    "        X[colname], _ = X[colname].factorize()\n",
    "    # Metric for Housing competition is RMSLE (Root Mean Squared Log Error)\n",
    "    score = cross_val_score(\n",
    "        model, X, y, cv=5, scoring=\"neg_mean_squared_log_error\",\n",
    "    )\n",
    "    score = -1 * score.mean()\n",
    "    score = np.sqrt(score)\n",
    "    return score\n",
    "\n",
    "\n",
    "# Prepare data\n",
    "df = pd.read_csv(\"../input/fe-course-data/ames.csv\")\n",
    "X = df.copy()\n",
    "y = X.pop(\"SalePrice\")"
   ]
  },
  {
   "cell_type": "markdown",
   "id": "92b17025",
   "metadata": {
    "papermill": {
     "duration": 0.004503,
     "end_time": "2023-12-31T22:21:15.565905",
     "exception": false,
     "start_time": "2023-12-31T22:21:15.561402",
     "status": "completed"
    },
    "tags": []
   },
   "source": [
    "-------------------------------------------------------------------------------\n",
    "\n",
    "Let's start with a few mathematical combinations. We'll focus on features describing areas -- having the same units (square-feet) makes it easy to combine them in sensible ways. Since we're using XGBoost (a tree-based model), we'll focus on ratios and sums.\n",
    "\n",
    "# 1) Create Mathematical Transforms\n",
    "\n",
    "Create the following features:\n",
    "\n",
    "- `LivLotRatio`: the ratio of `GrLivArea` to `LotArea`\n",
    "- `Spaciousness`: the sum of `FirstFlrSF` and `SecondFlrSF` divided by `TotRmsAbvGrd`\n",
    "- `TotalOutsideSF`: the sum of `WoodDeckSF`, `OpenPorchSF`, `EnclosedPorch`, `Threeseasonporch`, and `ScreenPorch`"
   ]
  },
  {
   "cell_type": "code",
   "execution_count": 2,
   "id": "49a4da02",
   "metadata": {
    "execution": {
     "iopub.execute_input": "2023-12-31T22:21:15.577483Z",
     "iopub.status.busy": "2023-12-31T22:21:15.576412Z",
     "iopub.status.idle": "2023-12-31T22:21:15.597246Z",
     "shell.execute_reply": "2023-12-31T22:21:15.596497Z"
    },
    "lines_to_next_cell": 0,
    "papermill": {
     "duration": 0.028529,
     "end_time": "2023-12-31T22:21:15.598987",
     "exception": false,
     "start_time": "2023-12-31T22:21:15.570458",
     "status": "completed"
    },
    "tags": []
   },
   "outputs": [
    {
     "data": {
      "application/javascript": [
       "parent.postMessage({\"jupyterEvent\": \"custom.exercise_interaction\", \"data\": {\"outcomeType\": 1, \"valueTowardsCompletion\": 0.2, \"interactionType\": 1, \"questionType\": 2, \"questionId\": \"1_Q1\", \"learnToolsVersion\": \"0.3.4\", \"failureMessage\": \"\", \"exceptionClass\": \"\", \"trace\": \"\"}}, \"*\")"
      ],
      "text/plain": [
       "<IPython.core.display.Javascript object>"
      ]
     },
     "metadata": {},
     "output_type": "display_data"
    },
    {
     "data": {
      "text/markdown": [
       "<span style=\"color:#33cc33\">Correct</span>"
      ],
      "text/plain": [
       "Correct"
      ]
     },
     "metadata": {},
     "output_type": "display_data"
    }
   ],
   "source": [
    "# YOUR CODE HERE\n",
    "X_1 = pd.DataFrame()  # dataframe to hold new features\n",
    "\n",
    "X_1[\"LivLotRatio\"] = df.GrLivArea / df.LotArea\n",
    "X_1[\"Spaciousness\"] = (df.FirstFlrSF + df.SecondFlrSF) / df.TotRmsAbvGrd\n",
    "X_1[\"TotalOutsideSF\"] = df.WoodDeckSF + df.OpenPorchSF + df.EnclosedPorch + df.Threeseasonporch + df.ScreenPorch\n",
    "\n",
    "\n",
    "# Check your answer\n",
    "q_1.check()"
   ]
  },
  {
   "cell_type": "code",
   "execution_count": 3,
   "id": "7c36b522",
   "metadata": {
    "execution": {
     "iopub.execute_input": "2023-12-31T22:21:15.611198Z",
     "iopub.status.busy": "2023-12-31T22:21:15.610368Z",
     "iopub.status.idle": "2023-12-31T22:21:15.614898Z",
     "shell.execute_reply": "2023-12-31T22:21:15.613815Z"
    },
    "lines_to_next_cell": 0,
    "papermill": {
     "duration": 0.012994,
     "end_time": "2023-12-31T22:21:15.617132",
     "exception": false,
     "start_time": "2023-12-31T22:21:15.604138",
     "status": "completed"
    },
    "tags": []
   },
   "outputs": [],
   "source": [
    "# Lines below will give you a hint or solution code\n",
    "#q_1.hint()\n",
    "#q_1.solution()"
   ]
  },
  {
   "cell_type": "markdown",
   "id": "80339e37",
   "metadata": {
    "papermill": {
     "duration": 0.005761,
     "end_time": "2023-12-31T22:21:15.628154",
     "exception": false,
     "start_time": "2023-12-31T22:21:15.622393",
     "status": "completed"
    },
    "tags": []
   },
   "source": [
    "-------------------------------------------------------------------------------\n",
    "\n",
    "If you've discovered an interaction effect between a numeric feature and a categorical feature, you might want to model it explicitly using a one-hot encoding, like so:\n",
    "\n",
    "```\n",
    "# One-hot encode Categorical feature, adding a column prefix \"Cat\"\n",
    "X_new = pd.get_dummies(df.Categorical, prefix=\"Cat\")\n",
    "\n",
    "# Multiply row-by-row\n",
    "X_new = X_new.mul(df.Continuous, axis=0)\n",
    "\n",
    "# Join the new features to the feature set\n",
    "X = X.join(X_new)\n",
    "```\n",
    "\n",
    "# 2) Interaction with a Categorical\n",
    "\n",
    "We discovered an interaction between `BldgType` and `GrLivArea` in Exercise 2. Now create their interaction features."
   ]
  },
  {
   "cell_type": "code",
   "execution_count": 4,
   "id": "e8407864",
   "metadata": {
    "execution": {
     "iopub.execute_input": "2023-12-31T22:21:15.640296Z",
     "iopub.status.busy": "2023-12-31T22:21:15.639654Z",
     "iopub.status.idle": "2023-12-31T22:21:15.655581Z",
     "shell.execute_reply": "2023-12-31T22:21:15.654586Z"
    },
    "lines_to_next_cell": 0,
    "papermill": {
     "duration": 0.024078,
     "end_time": "2023-12-31T22:21:15.657358",
     "exception": false,
     "start_time": "2023-12-31T22:21:15.633280",
     "status": "completed"
    },
    "tags": []
   },
   "outputs": [
    {
     "data": {
      "application/javascript": [
       "parent.postMessage({\"jupyterEvent\": \"custom.exercise_interaction\", \"data\": {\"outcomeType\": 1, \"valueTowardsCompletion\": 0.2, \"interactionType\": 1, \"questionType\": 2, \"questionId\": \"2_Q2\", \"learnToolsVersion\": \"0.3.4\", \"failureMessage\": \"\", \"exceptionClass\": \"\", \"trace\": \"\"}}, \"*\")"
      ],
      "text/plain": [
       "<IPython.core.display.Javascript object>"
      ]
     },
     "metadata": {},
     "output_type": "display_data"
    },
    {
     "data": {
      "text/markdown": [
       "<span style=\"color:#33cc33\">Correct</span>"
      ],
      "text/plain": [
       "Correct"
      ]
     },
     "metadata": {},
     "output_type": "display_data"
    }
   ],
   "source": [
    "# YOUR CODE HERE\n",
    "# One-hot encode BldgType. Use `prefix=\"Bldg\"` in `get_dummies`\n",
    "X_2 = pd.get_dummies(df.BldgType, prefix=\"Bldg\")\n",
    "# Multiply\n",
    "X_2 = X_2.mul(df.GrLivArea, axis=0)\n",
    "\n",
    "\n",
    "# Check your answer\n",
    "q_2.check()"
   ]
  },
  {
   "cell_type": "code",
   "execution_count": 5,
   "id": "426e1cf4",
   "metadata": {
    "execution": {
     "iopub.execute_input": "2023-12-31T22:21:15.669567Z",
     "iopub.status.busy": "2023-12-31T22:21:15.669207Z",
     "iopub.status.idle": "2023-12-31T22:21:15.673657Z",
     "shell.execute_reply": "2023-12-31T22:21:15.672083Z"
    },
    "lines_to_next_cell": 0,
    "papermill": {
     "duration": 0.013246,
     "end_time": "2023-12-31T22:21:15.675843",
     "exception": false,
     "start_time": "2023-12-31T22:21:15.662597",
     "status": "completed"
    },
    "tags": []
   },
   "outputs": [],
   "source": [
    "# Lines below will give you a hint or solution code\n",
    "#q_2.hint()\n",
    "#q_2.solution()"
   ]
  },
  {
   "cell_type": "markdown",
   "id": "15b1e9ab",
   "metadata": {
    "lines_to_next_cell": 0,
    "papermill": {
     "duration": 0.0049,
     "end_time": "2023-12-31T22:21:15.686154",
     "exception": false,
     "start_time": "2023-12-31T22:21:15.681254",
     "status": "completed"
    },
    "tags": []
   },
   "source": [
    "# 3) Count Feature\n",
    "\n",
    "Let's try creating a feature that describes how many kinds of outdoor areas a dwelling has. Create a feature `PorchTypes` that counts how many of the following are greater than 0.0:\n",
    "\n",
    "```\n",
    "WoodDeckSF\n",
    "OpenPorchSF\n",
    "EnclosedPorch\n",
    "Threeseasonporch\n",
    "ScreenPorch\n",
    "```"
   ]
  },
  {
   "cell_type": "code",
   "execution_count": 6,
   "id": "8a8f053b",
   "metadata": {
    "execution": {
     "iopub.execute_input": "2023-12-31T22:21:15.698337Z",
     "iopub.status.busy": "2023-12-31T22:21:15.697761Z",
     "iopub.status.idle": "2023-12-31T22:21:15.714069Z",
     "shell.execute_reply": "2023-12-31T22:21:15.712626Z"
    },
    "lines_to_next_cell": 0,
    "papermill": {
     "duration": 0.025549,
     "end_time": "2023-12-31T22:21:15.716787",
     "exception": false,
     "start_time": "2023-12-31T22:21:15.691238",
     "status": "completed"
    },
    "tags": []
   },
   "outputs": [
    {
     "data": {
      "application/javascript": [
       "parent.postMessage({\"jupyterEvent\": \"custom.exercise_interaction\", \"data\": {\"outcomeType\": 1, \"valueTowardsCompletion\": 0.2, \"interactionType\": 1, \"questionType\": 2, \"questionId\": \"3_Q3\", \"learnToolsVersion\": \"0.3.4\", \"failureMessage\": \"\", \"exceptionClass\": \"\", \"trace\": \"\"}}, \"*\")"
      ],
      "text/plain": [
       "<IPython.core.display.Javascript object>"
      ]
     },
     "metadata": {},
     "output_type": "display_data"
    },
    {
     "data": {
      "text/markdown": [
       "<span style=\"color:#33cc33\">Correct</span>"
      ],
      "text/plain": [
       "Correct"
      ]
     },
     "metadata": {},
     "output_type": "display_data"
    }
   ],
   "source": [
    "X_3 = pd.DataFrame()\n",
    "\n",
    "# YOUR CODE HERE\n",
    "\n",
    "X_3[\"PorchTypes\"] = df[[\"WoodDeckSF\",\"OpenPorchSF\",\"EnclosedPorch\",\"Threeseasonporch\",\"ScreenPorch\"]].gt(0.0).sum(axis=1)\n",
    "\n",
    "\n",
    "# Check your answer\n",
    "q_3.check()"
   ]
  },
  {
   "cell_type": "code",
   "execution_count": 7,
   "id": "a3eb6b5e",
   "metadata": {
    "execution": {
     "iopub.execute_input": "2023-12-31T22:21:15.729599Z",
     "iopub.status.busy": "2023-12-31T22:21:15.729251Z",
     "iopub.status.idle": "2023-12-31T22:21:15.733049Z",
     "shell.execute_reply": "2023-12-31T22:21:15.732047Z"
    },
    "lines_to_next_cell": 0,
    "papermill": {
     "duration": 0.012507,
     "end_time": "2023-12-31T22:21:15.734857",
     "exception": false,
     "start_time": "2023-12-31T22:21:15.722350",
     "status": "completed"
    },
    "tags": []
   },
   "outputs": [],
   "source": [
    "# Lines below will give you a hint or solution code\n",
    "#q_3.hint()\n",
    "#q_3.solution()"
   ]
  },
  {
   "cell_type": "markdown",
   "id": "2a14b04d",
   "metadata": {
    "papermill": {
     "duration": 0.005086,
     "end_time": "2023-12-31T22:21:15.745607",
     "exception": false,
     "start_time": "2023-12-31T22:21:15.740521",
     "status": "completed"
    },
    "tags": []
   },
   "source": [
    "# 4) Break Down a Categorical Feature\n",
    "\n",
    "`MSSubClass` describes the type of a dwelling:"
   ]
  },
  {
   "cell_type": "code",
   "execution_count": 8,
   "id": "8769abab",
   "metadata": {
    "execution": {
     "iopub.execute_input": "2023-12-31T22:21:15.758974Z",
     "iopub.status.busy": "2023-12-31T22:21:15.758401Z",
     "iopub.status.idle": "2023-12-31T22:21:15.766874Z",
     "shell.execute_reply": "2023-12-31T22:21:15.765804Z"
    },
    "papermill": {
     "duration": 0.01831,
     "end_time": "2023-12-31T22:21:15.769276",
     "exception": false,
     "start_time": "2023-12-31T22:21:15.750966",
     "status": "completed"
    },
    "tags": []
   },
   "outputs": [
    {
     "data": {
      "text/plain": [
       "array(['One_Story_1946_and_Newer_All_Styles', 'Two_Story_1946_and_Newer',\n",
       "       'One_Story_PUD_1946_and_Newer',\n",
       "       'One_and_Half_Story_Finished_All_Ages', 'Split_Foyer',\n",
       "       'Two_Story_PUD_1946_and_Newer', 'Split_or_Multilevel',\n",
       "       'One_Story_1945_and_Older', 'Duplex_All_Styles_and_Ages',\n",
       "       'Two_Family_conversion_All_Styles_and_Ages',\n",
       "       'One_and_Half_Story_Unfinished_All_Ages',\n",
       "       'Two_Story_1945_and_Older', 'Two_and_Half_Story_All_Ages',\n",
       "       'One_Story_with_Finished_Attic_All_Ages',\n",
       "       'PUD_Multilevel_Split_Level_Foyer',\n",
       "       'One_and_Half_Story_PUD_All_Ages'], dtype=object)"
      ]
     },
     "execution_count": 8,
     "metadata": {},
     "output_type": "execute_result"
    }
   ],
   "source": [
    "df.MSSubClass.unique()"
   ]
  },
  {
   "cell_type": "markdown",
   "id": "1999ec8d",
   "metadata": {
    "papermill": {
     "duration": 0.005212,
     "end_time": "2023-12-31T22:21:15.780483",
     "exception": false,
     "start_time": "2023-12-31T22:21:15.775271",
     "status": "completed"
    },
    "tags": []
   },
   "source": [
    "You can see that there is a more general categorization described (roughly) by the first word of each category. Create a feature containing only these first words by splitting `MSSubClass` at the first underscore `_`. (Hint: In the `split` method use an argument `n=1`.)"
   ]
  },
  {
   "cell_type": "code",
   "execution_count": 9,
   "id": "c3deb841",
   "metadata": {
    "execution": {
     "iopub.execute_input": "2023-12-31T22:21:15.793025Z",
     "iopub.status.busy": "2023-12-31T22:21:15.792630Z",
     "iopub.status.idle": "2023-12-31T22:21:15.814451Z",
     "shell.execute_reply": "2023-12-31T22:21:15.812544Z"
    },
    "lines_to_next_cell": 0,
    "papermill": {
     "duration": 0.031319,
     "end_time": "2023-12-31T22:21:15.817127",
     "exception": false,
     "start_time": "2023-12-31T22:21:15.785808",
     "status": "completed"
    },
    "tags": []
   },
   "outputs": [
    {
     "data": {
      "application/javascript": [
       "parent.postMessage({\"jupyterEvent\": \"custom.exercise_interaction\", \"data\": {\"outcomeType\": 1, \"valueTowardsCompletion\": 0.2, \"interactionType\": 1, \"questionType\": 2, \"questionId\": \"4_Q4\", \"learnToolsVersion\": \"0.3.4\", \"failureMessage\": \"\", \"exceptionClass\": \"\", \"trace\": \"\"}}, \"*\")"
      ],
      "text/plain": [
       "<IPython.core.display.Javascript object>"
      ]
     },
     "metadata": {},
     "output_type": "display_data"
    },
    {
     "data": {
      "text/markdown": [
       "<span style=\"color:#33cc33\">Correct</span>"
      ],
      "text/plain": [
       "Correct"
      ]
     },
     "metadata": {},
     "output_type": "display_data"
    }
   ],
   "source": [
    "X_4 = pd.DataFrame()\n",
    "\n",
    "# YOUR CODE HERE\n",
    "X_4[\"MSClass\"] =df.MSSubClass.str.split(\"_\", n=1, expand=True)[0]\n",
    "\n",
    "# Check your answer\n",
    "q_4.check()"
   ]
  },
  {
   "cell_type": "code",
   "execution_count": 10,
   "id": "f397769e",
   "metadata": {
    "execution": {
     "iopub.execute_input": "2023-12-31T22:21:15.830440Z",
     "iopub.status.busy": "2023-12-31T22:21:15.830040Z",
     "iopub.status.idle": "2023-12-31T22:21:15.834062Z",
     "shell.execute_reply": "2023-12-31T22:21:15.833158Z"
    },
    "lines_to_next_cell": 0,
    "papermill": {
     "duration": 0.012755,
     "end_time": "2023-12-31T22:21:15.835808",
     "exception": false,
     "start_time": "2023-12-31T22:21:15.823053",
     "status": "completed"
    },
    "tags": []
   },
   "outputs": [],
   "source": [
    "# Lines below will give you a hint or solution code\n",
    "#q_4.hint()\n",
    "#q_4.solution()"
   ]
  },
  {
   "cell_type": "markdown",
   "id": "97f2ebb1",
   "metadata": {
    "papermill": {
     "duration": 0.00528,
     "end_time": "2023-12-31T22:21:15.846750",
     "exception": false,
     "start_time": "2023-12-31T22:21:15.841470",
     "status": "completed"
    },
    "tags": []
   },
   "source": [
    "# 5) Use a Grouped Transform\n",
    "\n",
    "The value of a home often depends on how it compares to typical homes in its neighborhood. Create a feature `MedNhbdArea` that describes the *median* of `GrLivArea` grouped on `Neighborhood`."
   ]
  },
  {
   "cell_type": "code",
   "execution_count": 11,
   "id": "f3fdb8eb",
   "metadata": {
    "execution": {
     "iopub.execute_input": "2023-12-31T22:21:15.859846Z",
     "iopub.status.busy": "2023-12-31T22:21:15.859454Z",
     "iopub.status.idle": "2023-12-31T22:21:15.875873Z",
     "shell.execute_reply": "2023-12-31T22:21:15.874570Z"
    },
    "lines_to_next_cell": 0,
    "papermill": {
     "duration": 0.025394,
     "end_time": "2023-12-31T22:21:15.877815",
     "exception": false,
     "start_time": "2023-12-31T22:21:15.852421",
     "status": "completed"
    },
    "tags": []
   },
   "outputs": [
    {
     "data": {
      "application/javascript": [
       "parent.postMessage({\"jupyterEvent\": \"custom.exercise_interaction\", \"data\": {\"outcomeType\": 1, \"valueTowardsCompletion\": 0.2, \"interactionType\": 1, \"questionType\": 2, \"questionId\": \"5_Q5\", \"learnToolsVersion\": \"0.3.4\", \"failureMessage\": \"\", \"exceptionClass\": \"\", \"trace\": \"\"}}, \"*\")"
      ],
      "text/plain": [
       "<IPython.core.display.Javascript object>"
      ]
     },
     "metadata": {},
     "output_type": "display_data"
    },
    {
     "data": {
      "text/markdown": [
       "<span style=\"color:#33cc33\">Correct</span>"
      ],
      "text/plain": [
       "Correct"
      ]
     },
     "metadata": {},
     "output_type": "display_data"
    }
   ],
   "source": [
    "X_5 = pd.DataFrame()\n",
    "\n",
    "# YOUR CODE HERE\n",
    "X_5[\"MedNhbdArea\"] = df.groupby(\"Neighborhood\")[\"GrLivArea\"].transform(\"median\")\n",
    "\n",
    "# Check your answer\n",
    "q_5.check()"
   ]
  },
  {
   "cell_type": "code",
   "execution_count": 12,
   "id": "effac2e8",
   "metadata": {
    "execution": {
     "iopub.execute_input": "2023-12-31T22:21:15.891387Z",
     "iopub.status.busy": "2023-12-31T22:21:15.890933Z",
     "iopub.status.idle": "2023-12-31T22:21:15.895974Z",
     "shell.execute_reply": "2023-12-31T22:21:15.894946Z"
    },
    "lines_to_next_cell": 0,
    "papermill": {
     "duration": 0.014282,
     "end_time": "2023-12-31T22:21:15.897927",
     "exception": false,
     "start_time": "2023-12-31T22:21:15.883645",
     "status": "completed"
    },
    "tags": []
   },
   "outputs": [],
   "source": [
    "# Lines below will give you a hint or solution code\n",
    "#q_5.hint()\n",
    "#q_5.solution()"
   ]
  },
  {
   "cell_type": "markdown",
   "id": "f03b5a87",
   "metadata": {
    "papermill": {
     "duration": 0.005572,
     "end_time": "2023-12-31T22:21:15.909801",
     "exception": false,
     "start_time": "2023-12-31T22:21:15.904229",
     "status": "completed"
    },
    "tags": []
   },
   "source": [
    "Now you've made your first new feature set! If you like, you can run the cell below to score the model with all of your new features added:"
   ]
  },
  {
   "cell_type": "code",
   "execution_count": 13,
   "id": "3f126b23",
   "metadata": {
    "execution": {
     "iopub.execute_input": "2023-12-31T22:21:15.923185Z",
     "iopub.status.busy": "2023-12-31T22:21:15.922806Z",
     "iopub.status.idle": "2023-12-31T22:21:17.964738Z",
     "shell.execute_reply": "2023-12-31T22:21:17.963828Z"
    },
    "papermill": {
     "duration": 2.050594,
     "end_time": "2023-12-31T22:21:17.966310",
     "exception": false,
     "start_time": "2023-12-31T22:21:15.915716",
     "status": "completed"
    },
    "tags": []
   },
   "outputs": [
    {
     "data": {
      "text/plain": [
       "0.13954039591355258"
      ]
     },
     "execution_count": 13,
     "metadata": {},
     "output_type": "execute_result"
    }
   ],
   "source": [
    "X_new = X.join([X_1, X_2, X_3, X_4, X_5])\n",
    "score_dataset(X_new, y)"
   ]
  },
  {
   "cell_type": "markdown",
   "id": "6c76ea55",
   "metadata": {
    "papermill": {
     "duration": 0.005466,
     "end_time": "2023-12-31T22:21:17.977858",
     "exception": false,
     "start_time": "2023-12-31T22:21:17.972392",
     "status": "completed"
    },
    "tags": []
   },
   "source": [
    "# Keep Going #\n",
    "\n",
    "[**Untangle spatial relationships**](https://www.kaggle.com/ryanholbrook/clustering-with-k-means) by adding cluster labels to your dataset."
   ]
  },
  {
   "cell_type": "markdown",
   "id": "46851fb5",
   "metadata": {
    "papermill": {
     "duration": 0.005484,
     "end_time": "2023-12-31T22:21:17.988869",
     "exception": false,
     "start_time": "2023-12-31T22:21:17.983385",
     "status": "completed"
    },
    "tags": []
   },
   "source": [
    "---\n",
    "\n",
    "\n",
    "\n",
    "\n",
    "*Have questions or comments? Visit the [course discussion forum](https://www.kaggle.com/learn/feature-engineering/discussion) to chat with other learners.*"
   ]
  }
 ],
 "metadata": {
  "jupytext": {
   "cell_metadata_filter": "-all",
   "formats": "ipynb"
  },
  "kaggle": {
   "accelerator": "none",
   "dataSources": [
    {
     "datasetId": 933090,
     "sourceId": 1828856,
     "sourceType": "datasetVersion"
    }
   ],
   "isGpuEnabled": false,
   "isInternetEnabled": false,
   "language": "python",
   "sourceType": "notebook"
  },
  "kernelspec": {
   "display_name": "Python 3",
   "language": "python",
   "name": "python3"
  },
  "language_info": {
   "codemirror_mode": {
    "name": "ipython",
    "version": 3
   },
   "file_extension": ".py",
   "mimetype": "text/x-python",
   "name": "python",
   "nbconvert_exporter": "python",
   "pygments_lexer": "ipython3",
   "version": "3.10.12"
  },
  "papermill": {
   "default_parameters": {},
   "duration": 7.542315,
   "end_time": "2023-12-31T22:21:18.615872",
   "environment_variables": {},
   "exception": null,
   "input_path": "__notebook__.ipynb",
   "output_path": "__notebook__.ipynb",
   "parameters": {},
   "start_time": "2023-12-31T22:21:11.073557",
   "version": "2.4.0"
  }
 },
 "nbformat": 4,
 "nbformat_minor": 5
}
