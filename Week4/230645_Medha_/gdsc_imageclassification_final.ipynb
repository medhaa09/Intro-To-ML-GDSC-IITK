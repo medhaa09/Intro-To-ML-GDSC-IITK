{
  "nbformat": 4,
  "nbformat_minor": 0,
  "metadata": {
    "colab": {
      "provenance": []
    },
    "kernelspec": {
      "name": "python3",
      "display_name": "Python 3"
    },
    "language_info": {
      "name": "python"
    }
  },
  "cells": [
    {
      "cell_type": "code",
      "execution_count": 2,
      "metadata": {
        "id": "9aqxBwKHwQHm",
        "colab": {
          "base_uri": "https://localhost:8080/"
        },
        "outputId": "0b107f62-30b1-41d0-e325-c3d3987ddc80"
      },
      "outputs": [
        {
          "output_type": "stream",
          "name": "stdout",
          "text": [
            "Found 557 images belonging to 2 classes.\n",
            "Found 140 images belonging to 2 classes.\n"
          ]
        },
        {
          "output_type": "stream",
          "name": "stderr",
          "text": [
            "<ipython-input-2-947e1d51583d>:54: UserWarning: `Model.fit_generator` is deprecated and will be removed in a future version. Please use `Model.fit`, which supports generators.\n",
            "  model.fit_generator(train_generator,\n"
          ]
        },
        {
          "output_type": "stream",
          "name": "stdout",
          "text": [
            "Epoch 1/10\n",
            "17/17 [==============================] - 193s 11s/step - loss: 0.6422 - accuracy: 0.5981 - val_loss: 0.5436 - val_accuracy: 0.7188\n",
            "Epoch 2/10\n",
            "17/17 [==============================] - 190s 11s/step - loss: 0.5150 - accuracy: 0.7581 - val_loss: 0.4766 - val_accuracy: 0.7578\n",
            "Epoch 3/10\n",
            "17/17 [==============================] - 190s 11s/step - loss: 0.4332 - accuracy: 0.8057 - val_loss: 0.4686 - val_accuracy: 0.7422\n",
            "Epoch 4/10\n",
            "17/17 [==============================] - 190s 11s/step - loss: 0.4021 - accuracy: 0.8133 - val_loss: 0.4696 - val_accuracy: 0.7500\n",
            "Epoch 5/10\n",
            "17/17 [==============================] - 190s 11s/step - loss: 0.3877 - accuracy: 0.8210 - val_loss: 0.5431 - val_accuracy: 0.7500\n",
            "Epoch 6/10\n",
            "17/17 [==============================] - 188s 11s/step - loss: 0.3685 - accuracy: 0.8324 - val_loss: 0.5089 - val_accuracy: 0.7578\n",
            "Epoch 7/10\n",
            "17/17 [==============================] - 189s 11s/step - loss: 0.3668 - accuracy: 0.8401 - val_loss: 0.5320 - val_accuracy: 0.7422\n",
            "Epoch 8/10\n",
            "17/17 [==============================] - 190s 11s/step - loss: 0.3400 - accuracy: 0.8476 - val_loss: 0.5066 - val_accuracy: 0.7266\n",
            "Epoch 9/10\n",
            "17/17 [==============================] - 190s 11s/step - loss: 0.3819 - accuracy: 0.8210 - val_loss: 0.4829 - val_accuracy: 0.7656\n",
            "Epoch 10/10\n",
            "17/17 [==============================] - 190s 11s/step - loss: 0.3286 - accuracy: 0.8495 - val_loss: 0.4542 - val_accuracy: 0.7891\n"
          ]
        },
        {
          "output_type": "execute_result",
          "data": {
            "text/plain": [
              "<keras.src.callbacks.History at 0x7ebeaaf69f60>"
            ]
          },
          "metadata": {},
          "execution_count": 2
        }
      ],
      "source": [
        "import tensorflow as tf\n",
        "import numpy as np\n",
        "from tensorflow import keras\n",
        "import os\n",
        "import cv2\n",
        "from keras.applications import VGG16\n",
        "from keras.preprocessing.image import ImageDataGenerator\n",
        "from keras.optimizers import Adam\n",
        "from keras.preprocessing import image\n",
        "from keras.layers import Flatten, Dense\n",
        "import matplotlib.pyplot as plt\n",
        "model = keras.Sequential()\n",
        "conv_base = VGG16(weights='imagenet',\n",
        "                  include_top=False,\n",
        "                  input_shape=(150, 150, 3))\n",
        "for layer in conv_base.layers:\n",
        "    layer.trainable = False\n",
        "\n",
        "model.add(conv_base)\n",
        "\n",
        "\n",
        "#data augmentation as the dataset is small\n",
        "train = ImageDataGenerator(rescale=1/255, rotation_range=40,\n",
        "    width_shift_range=0.2,\n",
        "    height_shift_range=0.2,\n",
        "    shear_range=0.2,\n",
        "    zoom_range=0.2,\n",
        "    horizontal_flip=True,\n",
        "    fill_mode='nearest'\n",
        ")\n",
        "test = ImageDataGenerator(rescale=1/255)\n",
        "\n",
        "train_generator = train.flow_from_directory(\"/content/drive/MyDrive/medhaa09 Intro-To-ML-GDSC-IITK main Week4/train\",\n",
        "                                          target_size=(150,150),\n",
        "                                          batch_size = 32,\n",
        "                                          class_mode = 'binary')\n",
        "\n",
        "test_generator = test.flow_from_directory(\"/content/drive/MyDrive/medhaa09 Intro-To-ML-GDSC-IITK main Week4/test\",\n",
        "                                          target_size=(150,150),\n",
        "                                          batch_size =32,\n",
        "                                          class_mode = 'binary')\n",
        "\n",
        "\n",
        "model.add(keras.layers.Flatten())\n",
        "model.add(Dense(units=256, activation='relu'))\n",
        "model.add(keras.layers.Dropout(0.13))\n",
        "# Output layer with single neuron which gives 0 for Cat or 1 for Dog\n",
        "model.add(Dense(units=1, activation='sigmoid'))\n",
        "\n",
        "optimizer = Adam(learning_rate=0.0001)\n",
        "\n",
        "\n",
        "model.compile(optimizer=optimizer,loss='binary_crossentropy',metrics=['accuracy'])\n",
        "model.fit_generator(train_generator,\n",
        "         steps_per_epoch = 17,\n",
        "         epochs = 10,\n",
        "         validation_data = test_generator,validation_steps=4)\n"
      ]
    },
    {
      "cell_type": "markdown",
      "source": [
        "Predicting using the model."
      ],
      "metadata": {
        "id": "syOWWkVwInAD"
      }
    },
    {
      "cell_type": "code",
      "source": [
        "def predictImage(filename):\n",
        "    img1 = image.load_img(filename,target_size=(150,150))\n",
        "\n",
        "    plt.imshow(img1)\n",
        "\n",
        "    Y = image.img_to_array(img1)\n",
        "\n",
        "    X = np.expand_dims(Y,axis=0)\n",
        "    val = model.predict(X)\n",
        "    print(val)\n",
        "    if val == 1:\n",
        "\n",
        "        plt.xlabel(\"DOG\",fontsize=30)\n",
        "\n",
        "\n",
        "    elif val == 0:\n",
        "\n",
        "        plt.xlabel(\"CAT\",fontsize=30)"
      ],
      "metadata": {
        "id": "3NwSNCjxPU-f"
      },
      "execution_count": null,
      "outputs": []
    }
  ]
}